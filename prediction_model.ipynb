{
 "cells": [
  {
   "cell_type": "code",
   "execution_count": 1,
   "metadata": {},
   "outputs": [],
   "source": [
    "import numpy as np\n",
    "import pandas as pd\n",
    "import matplotlib.pyplot as plt\n",
    "import seaborn as sns\n",
    "from datetime import datetime, timedelta\n",
    "import time"
   ]
  },
  {
   "cell_type": "code",
   "execution_count": 2,
   "metadata": {},
   "outputs": [],
   "source": [
    "%matplotlib inline\n",
    "sns.set_style(style='whitegrid')"
   ]
  },
  {
   "cell_type": "code",
   "execution_count": 3,
   "metadata": {},
   "outputs": [],
   "source": [
    "import binance_framework as bf"
   ]
  },
  {
   "cell_type": "code",
   "execution_count": 4,
   "metadata": {},
   "outputs": [
    {
     "name": "stdout",
     "output_type": "stream",
     "text": [
      "<class 'pandas.core.frame.DataFrame'>\n",
      "RangeIndex: 4991 entries, 0 to 4990\n",
      "Data columns (total 48 columns):\n",
      " #   Column                                Non-Null Count  Dtype \n",
      "---  ------                                --------------  ----- \n",
      " 0   BTCUSDT Open Time                     4991 non-null   object\n",
      " 1   BTCUSDT Open                          4991 non-null   object\n",
      " 2   BTCUSDT High                          4991 non-null   object\n",
      " 3   BTCUSDT Low                           4991 non-null   object\n",
      " 4   BTCUSDT Close                         4991 non-null   object\n",
      " 5   BTCUSDT Volume                        4991 non-null   object\n",
      " 6   BTCUSDT Close Time                    4991 non-null   object\n",
      " 7   BTCUSDT Quote asset volume            4991 non-null   object\n",
      " 8   BTCUSDT n_trades                      4991 non-null   object\n",
      " 9   BTCUSDT Taker buy base asset volume   4991 non-null   object\n",
      " 10  BTCUSDT Taker buy quote asset volume  4991 non-null   object\n",
      " 11  BTCUSDT Ignore                        4991 non-null   object\n",
      " 12  ETHUSDT Open Time                     4991 non-null   object\n",
      " 13  ETHUSDT Open                          4991 non-null   object\n",
      " 14  ETHUSDT High                          4991 non-null   object\n",
      " 15  ETHUSDT Low                           4991 non-null   object\n",
      " 16  ETHUSDT Close                         4991 non-null   object\n",
      " 17  ETHUSDT Volume                        4991 non-null   object\n",
      " 18  ETHUSDT Close Time                    4991 non-null   object\n",
      " 19  ETHUSDT Quote asset volume            4991 non-null   object\n",
      " 20  ETHUSDT n_trades                      4991 non-null   object\n",
      " 21  ETHUSDT Taker buy base asset volume   4991 non-null   object\n",
      " 22  ETHUSDT Taker buy quote asset volume  4991 non-null   object\n",
      " 23  ETHUSDT Ignore                        4991 non-null   object\n",
      " 24  LTCUSDT Open Time                     4991 non-null   object\n",
      " 25  LTCUSDT Open                          4991 non-null   object\n",
      " 26  LTCUSDT High                          4991 non-null   object\n",
      " 27  LTCUSDT Low                           4991 non-null   object\n",
      " 28  LTCUSDT Close                         4991 non-null   object\n",
      " 29  LTCUSDT Volume                        4991 non-null   object\n",
      " 30  LTCUSDT Close Time                    4991 non-null   object\n",
      " 31  LTCUSDT Quote asset volume            4991 non-null   object\n",
      " 32  LTCUSDT n_trades                      4991 non-null   object\n",
      " 33  LTCUSDT Taker buy base asset volume   4991 non-null   object\n",
      " 34  LTCUSDT Taker buy quote asset volume  4991 non-null   object\n",
      " 35  LTCUSDT Ignore                        4991 non-null   object\n",
      " 36  XRPUSDT Open Time                     4991 non-null   object\n",
      " 37  XRPUSDT Open                          4991 non-null   object\n",
      " 38  XRPUSDT High                          4991 non-null   object\n",
      " 39  XRPUSDT Low                           4991 non-null   object\n",
      " 40  XRPUSDT Close                         4991 non-null   object\n",
      " 41  XRPUSDT Volume                        4991 non-null   object\n",
      " 42  XRPUSDT Close Time                    4991 non-null   object\n",
      " 43  XRPUSDT Quote asset volume            4991 non-null   object\n",
      " 44  XRPUSDT n_trades                      4991 non-null   object\n",
      " 45  XRPUSDT Taker buy base asset volume   4991 non-null   object\n",
      " 46  XRPUSDT Taker buy quote asset volume  4991 non-null   object\n",
      " 47  XRPUSDT Ignore                        4991 non-null   object\n",
      "dtypes: object(48)\n",
      "memory usage: 1.8+ MB\n"
     ]
    }
   ],
   "source": [
    "#Note: BCH HAS MANY NULL VALUES, BETTER NOT INCLUDE IT\n",
    "currencies = ['BTCUSDT', 'ETHUSDT', 'LTCUSDT', 'XRPUSDT']\n",
    "#coins = pd.read_csv('bitcoin_datasets/interval_30min.csv')\n",
    "coins = bf.get_data_by_intervals(10, currencies, bf.INTERVAL_5MINUTE)\n",
    "coins.info()"
   ]
  },
  {
   "cell_type": "code",
   "execution_count": 5,
   "metadata": {},
   "outputs": [
    {
     "name": "stdout",
     "output_type": "stream",
     "text": [
      "First time difference is:  300000\n",
      "\n",
      "\n",
      "BTCUSDT Time difference:  106695\n",
      "starting at index:  2926\n",
      "ending at index:    2927\n",
      "total frames since previous timeskip:  2926\n",
      "\n",
      "\n",
      "BTCUSDT Time difference:  7993305\n",
      "starting at index:  2927\n",
      "ending at index:    2928\n",
      "total frames since previous timeskip:  1\n",
      "First time difference is:  300000\n",
      "\n",
      "\n",
      "ETHUSDT Time difference:  106701\n",
      "starting at index:  2926\n",
      "ending at index:    2927\n",
      "total frames since previous timeskip:  2926\n",
      "\n",
      "\n",
      "ETHUSDT Time difference:  7993299\n",
      "starting at index:  2927\n",
      "ending at index:    2928\n",
      "total frames since previous timeskip:  1\n",
      "First time difference is:  300000\n",
      "\n",
      "\n",
      "LTCUSDT Time difference:  107642\n",
      "starting at index:  2926\n",
      "ending at index:    2927\n",
      "total frames since previous timeskip:  2926\n",
      "\n",
      "\n",
      "LTCUSDT Time difference:  7992358\n",
      "starting at index:  2927\n",
      "ending at index:    2928\n",
      "total frames since previous timeskip:  1\n",
      "First time difference is:  300000\n",
      "\n",
      "\n",
      "XRPUSDT Time difference:  108204\n",
      "starting at index:  2926\n",
      "ending at index:    2927\n",
      "total frames since previous timeskip:  2926\n",
      "\n",
      "\n",
      "XRPUSDT Time difference:  7991796\n",
      "starting at index:  2927\n",
      "ending at index:    2928\n",
      "total frames since previous timeskip:  1\n"
     ]
    }
   ],
   "source": [
    "bf.show_time_skips(coins, currencies)"
   ]
  },
  {
   "cell_type": "code",
   "execution_count": 6,
   "metadata": {},
   "outputs": [],
   "source": [
    "bf.keep_one_timestamp(coins,currencies)"
   ]
  },
  {
   "cell_type": "code",
   "execution_count": 7,
   "metadata": {},
   "outputs": [],
   "source": [
    "#coins.drop('Unnamed: 0', axis=1, inplace=True)\n",
    "bf.remove_ignore_columns(coins,currencies)\n",
    "coins.set_index('Timestamp',inplace=True)"
   ]
  },
  {
   "cell_type": "code",
   "execution_count": 8,
   "metadata": {},
   "outputs": [
    {
     "data": {
      "text/html": [
       "<div>\n",
       "<style scoped>\n",
       "    .dataframe tbody tr th:only-of-type {\n",
       "        vertical-align: middle;\n",
       "    }\n",
       "\n",
       "    .dataframe tbody tr th {\n",
       "        vertical-align: top;\n",
       "    }\n",
       "\n",
       "    .dataframe thead th {\n",
       "        text-align: right;\n",
       "    }\n",
       "</style>\n",
       "<table border=\"1\" class=\"dataframe\">\n",
       "  <thead>\n",
       "    <tr style=\"text-align: right;\">\n",
       "      <th></th>\n",
       "      <th>BTCUSDT Open</th>\n",
       "      <th>BTCUSDT High</th>\n",
       "      <th>BTCUSDT Low</th>\n",
       "      <th>BTCUSDT Close</th>\n",
       "      <th>BTCUSDT Volume</th>\n",
       "      <th>BTCUSDT Quote asset volume</th>\n",
       "      <th>BTCUSDT n_trades</th>\n",
       "      <th>BTCUSDT Taker buy base asset volume</th>\n",
       "      <th>BTCUSDT Taker buy quote asset volume</th>\n",
       "      <th>ETHUSDT Open</th>\n",
       "      <th>...</th>\n",
       "      <th>LTCUSDT Taker buy quote asset volume</th>\n",
       "      <th>XRPUSDT Open</th>\n",
       "      <th>XRPUSDT High</th>\n",
       "      <th>XRPUSDT Low</th>\n",
       "      <th>XRPUSDT Close</th>\n",
       "      <th>XRPUSDT Volume</th>\n",
       "      <th>XRPUSDT Quote asset volume</th>\n",
       "      <th>XRPUSDT n_trades</th>\n",
       "      <th>XRPUSDT Taker buy base asset volume</th>\n",
       "      <th>XRPUSDT Taker buy quote asset volume</th>\n",
       "    </tr>\n",
       "    <tr>\n",
       "      <th>Timestamp</th>\n",
       "      <th></th>\n",
       "      <th></th>\n",
       "      <th></th>\n",
       "      <th></th>\n",
       "      <th></th>\n",
       "      <th></th>\n",
       "      <th></th>\n",
       "      <th></th>\n",
       "      <th></th>\n",
       "      <th></th>\n",
       "      <th></th>\n",
       "      <th></th>\n",
       "      <th></th>\n",
       "      <th></th>\n",
       "      <th></th>\n",
       "      <th></th>\n",
       "      <th></th>\n",
       "      <th></th>\n",
       "      <th></th>\n",
       "      <th></th>\n",
       "      <th></th>\n",
       "    </tr>\n",
       "  </thead>\n",
       "  <tbody>\n",
       "    <tr>\n",
       "      <th>1582435799999</th>\n",
       "      <td>9864.26000000</td>\n",
       "      <td>9876.55000000</td>\n",
       "      <td>9860.17000000</td>\n",
       "      <td>9876.23000000</td>\n",
       "      <td>85.14741300</td>\n",
       "      <td>840225.39198342</td>\n",
       "      <td>1216</td>\n",
       "      <td>51.36482200</td>\n",
       "      <td>506912.23029032</td>\n",
       "      <td>266.89000000</td>\n",
       "      <td>...</td>\n",
       "      <td>57207.39965570</td>\n",
       "      <td>0.27902000</td>\n",
       "      <td>0.27954000</td>\n",
       "      <td>0.27859000</td>\n",
       "      <td>0.27953000</td>\n",
       "      <td>257891.10000000</td>\n",
       "      <td>72007.69446600</td>\n",
       "      <td>273</td>\n",
       "      <td>142329.30000000</td>\n",
       "      <td>39739.51672900</td>\n",
       "    </tr>\n",
       "    <tr>\n",
       "      <th>1582436099999</th>\n",
       "      <td>9876.12000000</td>\n",
       "      <td>9876.58000000</td>\n",
       "      <td>9860.46000000</td>\n",
       "      <td>9865.10000000</td>\n",
       "      <td>98.95440200</td>\n",
       "      <td>976561.15093476</td>\n",
       "      <td>1250</td>\n",
       "      <td>51.44217300</td>\n",
       "      <td>507674.99301044</td>\n",
       "      <td>267.24000000</td>\n",
       "      <td>...</td>\n",
       "      <td>40717.75018770</td>\n",
       "      <td>0.27950000</td>\n",
       "      <td>0.28008000</td>\n",
       "      <td>0.27946000</td>\n",
       "      <td>0.28000000</td>\n",
       "      <td>485924.50000000</td>\n",
       "      <td>135967.63201000</td>\n",
       "      <td>472</td>\n",
       "      <td>294142.70000000</td>\n",
       "      <td>82300.98928900</td>\n",
       "    </tr>\n",
       "    <tr>\n",
       "      <th>1582436399999</th>\n",
       "      <td>9865.35000000</td>\n",
       "      <td>9878.00000000</td>\n",
       "      <td>9863.29000000</td>\n",
       "      <td>9876.24000000</td>\n",
       "      <td>225.74373100</td>\n",
       "      <td>2228259.86659863</td>\n",
       "      <td>1901</td>\n",
       "      <td>152.23662400</td>\n",
       "      <td>1502602.00056323</td>\n",
       "      <td>267.27000000</td>\n",
       "      <td>...</td>\n",
       "      <td>112052.04153700</td>\n",
       "      <td>0.28000000</td>\n",
       "      <td>0.28056000</td>\n",
       "      <td>0.27998000</td>\n",
       "      <td>0.28030000</td>\n",
       "      <td>480118.00000000</td>\n",
       "      <td>134526.79029400</td>\n",
       "      <td>392</td>\n",
       "      <td>251952.20000000</td>\n",
       "      <td>70592.30354400</td>\n",
       "    </tr>\n",
       "    <tr>\n",
       "      <th>1582436699999</th>\n",
       "      <td>9876.24000000</td>\n",
       "      <td>9883.13000000</td>\n",
       "      <td>9868.00000000</td>\n",
       "      <td>9869.79000000</td>\n",
       "      <td>196.02250900</td>\n",
       "      <td>1936006.95535284</td>\n",
       "      <td>2321</td>\n",
       "      <td>90.28451000</td>\n",
       "      <td>891725.78997683</td>\n",
       "      <td>267.53000000</td>\n",
       "      <td>...</td>\n",
       "      <td>95560.91683830</td>\n",
       "      <td>0.28031000</td>\n",
       "      <td>0.28053000</td>\n",
       "      <td>0.28001000</td>\n",
       "      <td>0.28020000</td>\n",
       "      <td>208985.60000000</td>\n",
       "      <td>58561.75291000</td>\n",
       "      <td>216</td>\n",
       "      <td>71777.10000000</td>\n",
       "      <td>20113.21788800</td>\n",
       "    </tr>\n",
       "    <tr>\n",
       "      <th>1582436999999</th>\n",
       "      <td>9869.79000000</td>\n",
       "      <td>9920.00000000</td>\n",
       "      <td>9867.02000000</td>\n",
       "      <td>9877.76000000</td>\n",
       "      <td>239.63307500</td>\n",
       "      <td>2368390.84533527</td>\n",
       "      <td>2102</td>\n",
       "      <td>159.14365200</td>\n",
       "      <td>1573430.11676889</td>\n",
       "      <td>267.53000000</td>\n",
       "      <td>...</td>\n",
       "      <td>84093.01704070</td>\n",
       "      <td>0.28011000</td>\n",
       "      <td>0.28056000</td>\n",
       "      <td>0.28001000</td>\n",
       "      <td>0.28047000</td>\n",
       "      <td>359730.20000000</td>\n",
       "      <td>100852.58991700</td>\n",
       "      <td>284</td>\n",
       "      <td>146302.30000000</td>\n",
       "      <td>41013.02578000</td>\n",
       "    </tr>\n",
       "  </tbody>\n",
       "</table>\n",
       "<p>5 rows × 36 columns</p>\n",
       "</div>"
      ],
      "text/plain": [
       "                BTCUSDT Open   BTCUSDT High    BTCUSDT Low  BTCUSDT Close  \\\n",
       "Timestamp                                                                   \n",
       "1582435799999  9864.26000000  9876.55000000  9860.17000000  9876.23000000   \n",
       "1582436099999  9876.12000000  9876.58000000  9860.46000000  9865.10000000   \n",
       "1582436399999  9865.35000000  9878.00000000  9863.29000000  9876.24000000   \n",
       "1582436699999  9876.24000000  9883.13000000  9868.00000000  9869.79000000   \n",
       "1582436999999  9869.79000000  9920.00000000  9867.02000000  9877.76000000   \n",
       "\n",
       "              BTCUSDT Volume BTCUSDT Quote asset volume BTCUSDT n_trades  \\\n",
       "Timestamp                                                                  \n",
       "1582435799999    85.14741300            840225.39198342             1216   \n",
       "1582436099999    98.95440200            976561.15093476             1250   \n",
       "1582436399999   225.74373100           2228259.86659863             1901   \n",
       "1582436699999   196.02250900           1936006.95535284             2321   \n",
       "1582436999999   239.63307500           2368390.84533527             2102   \n",
       "\n",
       "              BTCUSDT Taker buy base asset volume  \\\n",
       "Timestamp                                           \n",
       "1582435799999                         51.36482200   \n",
       "1582436099999                         51.44217300   \n",
       "1582436399999                        152.23662400   \n",
       "1582436699999                         90.28451000   \n",
       "1582436999999                        159.14365200   \n",
       "\n",
       "              BTCUSDT Taker buy quote asset volume  ETHUSDT Open  ...  \\\n",
       "Timestamp                                                         ...   \n",
       "1582435799999                      506912.23029032  266.89000000  ...   \n",
       "1582436099999                      507674.99301044  267.24000000  ...   \n",
       "1582436399999                     1502602.00056323  267.27000000  ...   \n",
       "1582436699999                      891725.78997683  267.53000000  ...   \n",
       "1582436999999                     1573430.11676889  267.53000000  ...   \n",
       "\n",
       "              LTCUSDT Taker buy quote asset volume XRPUSDT Open XRPUSDT High  \\\n",
       "Timestamp                                                                      \n",
       "1582435799999                       57207.39965570   0.27902000   0.27954000   \n",
       "1582436099999                       40717.75018770   0.27950000   0.28008000   \n",
       "1582436399999                      112052.04153700   0.28000000   0.28056000   \n",
       "1582436699999                       95560.91683830   0.28031000   0.28053000   \n",
       "1582436999999                       84093.01704070   0.28011000   0.28056000   \n",
       "\n",
       "              XRPUSDT Low XRPUSDT Close   XRPUSDT Volume  \\\n",
       "Timestamp                                                  \n",
       "1582435799999  0.27859000    0.27953000  257891.10000000   \n",
       "1582436099999  0.27946000    0.28000000  485924.50000000   \n",
       "1582436399999  0.27998000    0.28030000  480118.00000000   \n",
       "1582436699999  0.28001000    0.28020000  208985.60000000   \n",
       "1582436999999  0.28001000    0.28047000  359730.20000000   \n",
       "\n",
       "              XRPUSDT Quote asset volume XRPUSDT n_trades  \\\n",
       "Timestamp                                                   \n",
       "1582435799999             72007.69446600              273   \n",
       "1582436099999            135967.63201000              472   \n",
       "1582436399999            134526.79029400              392   \n",
       "1582436699999             58561.75291000              216   \n",
       "1582436999999            100852.58991700              284   \n",
       "\n",
       "              XRPUSDT Taker buy base asset volume  \\\n",
       "Timestamp                                           \n",
       "1582435799999                     142329.30000000   \n",
       "1582436099999                     294142.70000000   \n",
       "1582436399999                     251952.20000000   \n",
       "1582436699999                      71777.10000000   \n",
       "1582436999999                     146302.30000000   \n",
       "\n",
       "              XRPUSDT Taker buy quote asset volume  \n",
       "Timestamp                                           \n",
       "1582435799999                       39739.51672900  \n",
       "1582436099999                       82300.98928900  \n",
       "1582436399999                       70592.30354400  \n",
       "1582436699999                       20113.21788800  \n",
       "1582436999999                       41013.02578000  \n",
       "\n",
       "[5 rows x 36 columns]"
      ]
     },
     "execution_count": 8,
     "metadata": {},
     "output_type": "execute_result"
    }
   ],
   "source": [
    "coins.head()"
   ]
  },
  {
   "cell_type": "code",
   "execution_count": 9,
   "metadata": {},
   "outputs": [],
   "source": [
    "#plt.figure(figsize=(16,8))\n",
    "#coins['BTCUSDT Close'].iloc[:720].plot()"
   ]
  },
  {
   "cell_type": "code",
   "execution_count": 10,
   "metadata": {},
   "outputs": [],
   "source": [
    "SEQUENCE_LEN = 100 # 2 days and 4 hours\n",
    "FUTURE_PERIOD_PREDICT = 5\n",
    "RATIO_TO_PREDICT = 'BTCUSDT'"
   ]
  },
  {
   "cell_type": "code",
   "execution_count": 11,
   "metadata": {},
   "outputs": [],
   "source": [
    "#i want to predict if in the next FUTURE_PERIOD_PREDICT\n",
    "# the price will be higher than 1.25% of the current value\n",
    "def classify(current_price, future_price):\n",
    "    if future_price > (current_price + current_price*0.0125):\n",
    "        return 1\n",
    "    return 0"
   ]
  },
  {
   "cell_type": "code",
   "execution_count": 12,
   "metadata": {},
   "outputs": [],
   "source": [
    "coins['Future Value'] = coins['BTCUSDT High'].shift(-FUTURE_PERIOD_PREDICT)\n",
    "#coins['Future Value'] = 0.0\n",
    "#coins.info()"
   ]
  },
  {
   "cell_type": "code",
   "execution_count": 13,
   "metadata": {},
   "outputs": [
    {
     "ename": "TypeError",
     "evalue": "can't multiply sequence by non-int of type 'float'",
     "output_type": "error",
     "traceback": [
      "\u001b[0;31m---------------------------------------------------------------------------\u001b[0m",
      "\u001b[0;31mTypeError\u001b[0m                                 Traceback (most recent call last)",
      "\u001b[0;32m<ipython-input-13-ec5ba8fcdc91>\u001b[0m in \u001b[0;36m<module>\u001b[0;34m\u001b[0m\n\u001b[0;32m----> 1\u001b[0;31m \u001b[0mcoins\u001b[0m\u001b[0;34m[\u001b[0m\u001b[0;34m'Target'\u001b[0m\u001b[0;34m]\u001b[0m \u001b[0;34m=\u001b[0m \u001b[0mlist\u001b[0m\u001b[0;34m(\u001b[0m\u001b[0mmap\u001b[0m\u001b[0;34m(\u001b[0m\u001b[0mclassify\u001b[0m\u001b[0;34m,\u001b[0m \u001b[0mcoins\u001b[0m\u001b[0;34m[\u001b[0m\u001b[0;34m'BTCUSDT Close'\u001b[0m\u001b[0;34m]\u001b[0m\u001b[0;34m,\u001b[0m \u001b[0mcoins\u001b[0m\u001b[0;34m[\u001b[0m\u001b[0;34m'Future Value'\u001b[0m\u001b[0;34m]\u001b[0m\u001b[0;34m)\u001b[0m\u001b[0;34m)\u001b[0m\u001b[0;34m\u001b[0m\u001b[0m\n\u001b[0m",
      "\u001b[0;32m<ipython-input-11-98889c86b2e2>\u001b[0m in \u001b[0;36mclassify\u001b[0;34m(current_price, future_price)\u001b[0m\n\u001b[1;32m      2\u001b[0m \u001b[0;31m# the price will be higher than 1.25% of the current value\u001b[0m\u001b[0;34m\u001b[0m\u001b[0;34m\u001b[0m\u001b[0m\n\u001b[1;32m      3\u001b[0m \u001b[0;32mdef\u001b[0m \u001b[0mclassify\u001b[0m\u001b[0;34m(\u001b[0m\u001b[0mcurrent_price\u001b[0m\u001b[0;34m,\u001b[0m \u001b[0mfuture_price\u001b[0m\u001b[0;34m)\u001b[0m\u001b[0;34m:\u001b[0m\u001b[0;34m\u001b[0m\u001b[0m\n\u001b[0;32m----> 4\u001b[0;31m     \u001b[0;32mif\u001b[0m \u001b[0mfuture_price\u001b[0m \u001b[0;34m>\u001b[0m \u001b[0;34m(\u001b[0m\u001b[0mcurrent_price\u001b[0m \u001b[0;34m+\u001b[0m \u001b[0mcurrent_price\u001b[0m\u001b[0;34m*\u001b[0m\u001b[0;36m0.0125\u001b[0m\u001b[0;34m)\u001b[0m\u001b[0;34m:\u001b[0m\u001b[0;34m\u001b[0m\u001b[0m\n\u001b[0m\u001b[1;32m      5\u001b[0m         \u001b[0;32mreturn\u001b[0m \u001b[0;36m1\u001b[0m\u001b[0;34m\u001b[0m\u001b[0m\n\u001b[1;32m      6\u001b[0m     \u001b[0;32mreturn\u001b[0m \u001b[0;36m0\u001b[0m\u001b[0;34m\u001b[0m\u001b[0m\n",
      "\u001b[0;31mTypeError\u001b[0m: can't multiply sequence by non-int of type 'float'"
     ]
    }
   ],
   "source": [
    "coins['Target'] = list(map(classify, coins['BTCUSDT Close'], coins['Future Value']))"
   ]
  },
  {
   "cell_type": "code",
   "execution_count": null,
   "metadata": {},
   "outputs": [],
   "source": [
    "coins.dropna(inplace=True)"
   ]
  },
  {
   "cell_type": "code",
   "execution_count": null,
   "metadata": {},
   "outputs": [],
   "source": [
    "coins.info()"
   ]
  },
  {
   "cell_type": "code",
   "execution_count": null,
   "metadata": {},
   "outputs": [],
   "source": [
    "coins[ coins['Target'] ==0].count()[0]"
   ]
  },
  {
   "cell_type": "code",
   "execution_count": null,
   "metadata": {},
   "outputs": [],
   "source": [
    "times = coins.index.values\n",
    "last_10pct = times[-int(0.1*len(times))]"
   ]
  },
  {
   "cell_type": "code",
   "execution_count": null,
   "metadata": {},
   "outputs": [],
   "source": [
    "last_10pct"
   ]
  },
  {
   "cell_type": "code",
   "execution_count": null,
   "metadata": {},
   "outputs": [],
   "source": [
    "coins.index[-1]"
   ]
  },
  {
   "cell_type": "code",
   "execution_count": null,
   "metadata": {},
   "outputs": [],
   "source": [
    "validation_data = coins[ (coins.index >= last_10pct)]"
   ]
  },
  {
   "cell_type": "code",
   "execution_count": null,
   "metadata": {},
   "outputs": [],
   "source": [
    "coins = coins[ (coins.index < last_10pct)]\n",
    "coins.drop('Future Value', axis=1, inplace=True)"
   ]
  },
  {
   "cell_type": "code",
   "execution_count": null,
   "metadata": {},
   "outputs": [],
   "source": [
    "from sklearn import preprocessing"
   ]
  },
  {
   "cell_type": "code",
   "execution_count": null,
   "metadata": {},
   "outputs": [],
   "source": [
    "for col in coins.columns:\n",
    "    if col != 'Target':\n",
    "        coins[col] = coins[col].pct_change()\n",
    "        coins.dropna(inplace=True)\n",
    "        coins[col] = preprocessing.scale(coins[col].values)"
   ]
  },
  {
   "cell_type": "code",
   "execution_count": null,
   "metadata": {},
   "outputs": [],
   "source": [
    "coins.dropna(inplace=True)"
   ]
  },
  {
   "cell_type": "code",
   "execution_count": null,
   "metadata": {},
   "outputs": [],
   "source": [
    "from collections import deque"
   ]
  },
  {
   "cell_type": "code",
   "execution_count": null,
   "metadata": {},
   "outputs": [],
   "source": [
    "sequential_data = []\n",
    "prev_days = deque(maxlen=SEQUENCE_LEN)"
   ]
  },
  {
   "cell_type": "code",
   "execution_count": null,
   "metadata": {},
   "outputs": [],
   "source": [
    "for i in coins.values:\n",
    "    prev_days.append([n for n in i[:-1]])\n",
    "    if len(prev_days) == SEQUENCE_LEN:\n",
    "        sequential_data.append([np.array(prev_days), i[-1]])"
   ]
  },
  {
   "cell_type": "code",
   "execution_count": null,
   "metadata": {},
   "outputs": [],
   "source": [
    "import random"
   ]
  },
  {
   "cell_type": "code",
   "execution_count": null,
   "metadata": {},
   "outputs": [],
   "source": [
    "random.shuffle(sequential_data)"
   ]
  },
  {
   "cell_type": "code",
   "execution_count": null,
   "metadata": {},
   "outputs": [],
   "source": [
    "sequential_data"
   ]
  },
  {
   "cell_type": "code",
   "execution_count": null,
   "metadata": {},
   "outputs": [],
   "source": [
    "buys =[]\n",
    "sells = []"
   ]
  },
  {
   "cell_type": "code",
   "execution_count": null,
   "metadata": {},
   "outputs": [],
   "source": [
    "for seq,target in sequential_data:\n",
    "    if target == 0:\n",
    "        sells.append([seq, target])\n",
    "    elif target ==1:\n",
    "        buys.append([seq,target])"
   ]
  },
  {
   "cell_type": "code",
   "execution_count": null,
   "metadata": {},
   "outputs": [],
   "source": [
    "random.shuffle(buys)\n",
    "random.shuffle(sells)"
   ]
  },
  {
   "cell_type": "code",
   "execution_count": null,
   "metadata": {},
   "outputs": [],
   "source": [
    "lower = min(len(buys), len(sells))"
   ]
  },
  {
   "cell_type": "code",
   "execution_count": null,
   "metadata": {},
   "outputs": [],
   "source": [
    "buys = buys[:lower]\n",
    "sells = sells[:lower]"
   ]
  },
  {
   "cell_type": "code",
   "execution_count": null,
   "metadata": {},
   "outputs": [],
   "source": [
    "sequential_data = buys+sells"
   ]
  },
  {
   "cell_type": "code",
   "execution_count": null,
   "metadata": {},
   "outputs": [],
   "source": [
    "random.shuffle(sequential_data)"
   ]
  },
  {
   "cell_type": "code",
   "execution_count": null,
   "metadata": {},
   "outputs": [],
   "source": [
    "X_train =[]\n",
    "y_train = []"
   ]
  },
  {
   "cell_type": "code",
   "execution_count": null,
   "metadata": {},
   "outputs": [],
   "source": [
    "for seq,target in sequential_data:\n",
    "    X_train.append(seq)\n",
    "    y_train.append(target)"
   ]
  },
  {
   "cell_type": "code",
   "execution_count": null,
   "metadata": {},
   "outputs": [],
   "source": [
    "len(sells)"
   ]
  },
  {
   "cell_type": "code",
   "execution_count": null,
   "metadata": {},
   "outputs": [],
   "source": [
    "np.array(X_train)"
   ]
  },
  {
   "cell_type": "code",
   "execution_count": null,
   "metadata": {},
   "outputs": [],
   "source": [
    "SEQUENCE_LEN = 60\n",
    "FUTURE_PERIOD_PREDICT = 3\n",
    "RATIO_TO_PREDICT = 'ETHUSDT'\n",
    "EPOCHS = 20\n",
    "BATCH_SIZE = 256\n",
    "NAME = 'SEQ-'+ str(SEQUENCE_LEN)+'-FUTPRED-'+str(FUTURE_PERIOD_PREDICT)+'-PRED-'+str(time.time())"
   ]
  },
  {
   "cell_type": "code",
   "execution_count": null,
   "metadata": {},
   "outputs": [],
   "source": [
    "#i want to predict if in the next FUTURE_PERIOD_PREDICT\n",
    "# the price will be higher than 1.25% of the current value\n",
    "def classify(current_price, future_price):\n",
    "    if future_price > current_price:\n",
    "        return 1\n",
    "    return 0"
   ]
  },
  {
   "cell_type": "code",
   "execution_count": null,
   "metadata": {},
   "outputs": [],
   "source": [
    "coins['Future Value'] = coins[RATIO_TO_PREDICT+' High'].shift(-FUTURE_PERIOD_PREDICT)"
   ]
  },
  {
   "cell_type": "code",
   "execution_count": null,
   "metadata": {},
   "outputs": [],
   "source": [
    "coins['Target'] = list(map(classify, coins[RATIO_TO_PREDICT+' Close'], coins['Future Value']))"
   ]
  },
  {
   "cell_type": "code",
   "execution_count": null,
   "metadata": {},
   "outputs": [],
   "source": [
    "coins.dropna(inplace=True)"
   ]
  },
  {
   "cell_type": "code",
   "execution_count": null,
   "metadata": {},
   "outputs": [],
   "source": [
    "coins[ coins['Target'] ==0].count()[0]"
   ]
  },
  {
   "cell_type": "code",
   "execution_count": null,
   "metadata": {},
   "outputs": [],
   "source": [
    "times = coins.index.values\n",
    "last_10pct = times[-int(0.1*len(times))]"
   ]
  },
  {
   "cell_type": "code",
   "execution_count": null,
   "metadata": {},
   "outputs": [],
   "source": [
    "last_10pct"
   ]
  },
  {
   "cell_type": "code",
   "execution_count": null,
   "metadata": {},
   "outputs": [],
   "source": [
    "validation_data = coins[ (coins.index >= last_10pct)]"
   ]
  },
  {
   "cell_type": "code",
   "execution_count": null,
   "metadata": {},
   "outputs": [],
   "source": [
    "coins = coins[ (coins.index < last_10pct)]"
   ]
  },
  {
   "cell_type": "code",
   "execution_count": null,
   "metadata": {},
   "outputs": [],
   "source": [
    "from sklearn import preprocessing"
   ]
  },
  {
   "cell_type": "code",
   "execution_count": null,
   "metadata": {},
   "outputs": [],
   "source": [
    "def preprocess_data(coins):\n",
    "    coins.drop('Future Value', axis=1, inplace=True)\n",
    "    coins.dropna()\n",
    "\n",
    "    for col in coins.columns:\n",
    "        if col != 'Target':\n",
    "            coins[col] = coins[col].pct_change()\n",
    "            coins.dropna(inplace=True)\n",
    "            coins[col] = preprocessing.scale(coins[col].values)\n",
    "\n",
    "    coins.dropna(inplace=True)\n",
    "\n",
    "    sequential_data = []\n",
    "    prev_days = deque(maxlen=SEQUENCE_LEN)\n",
    "\n",
    "    for i in coins.values:\n",
    "        prev_days.append([n for n in i[:-1]])\n",
    "        if len(prev_days) == SEQUENCE_LEN:\n",
    "            sequential_data.append([np.array(prev_days), i[-1]])\n",
    "\n",
    "    random.shuffle(sequential_data)\n",
    "\n",
    "    buys = []\n",
    "    sells = []\n",
    "    for seq,target in sequential_data:\n",
    "        if target == 0:\n",
    "        sells.append([seq, target])\n",
    "        elif target ==1:\n",
    "            buys.append([seq,target])\n",
    "\n",
    "    random.shuffle(buys)\n",
    "    random.shuffle(sells)\n",
    "\n",
    "    lower = min(len(buys), len(sells)) #we find min to have balanced classes\n",
    "\n",
    "    buys = buys[:lower]\n",
    "    sells = sells[:lower]\n",
    "\n",
    "    sequential_data = buys+sells\n",
    "    random.shuffle(sequential_data)\n",
    "\n",
    "    X = []\n",
    "    y = []\n",
    "\n",
    "    for seq,target in sequential_data:\n",
    "        X.append(seq)\n",
    "        y.append(target)\n",
    "\n",
    "    return np.array(X), np.array(y)"
   ]
  },
  {
   "cell_type": "code",
   "execution_count": null,
   "metadata": {},
   "outputs": [],
   "source": [
    "X_train, y_train = preprocess_data(coins)\n",
    "X_test, y_test = preprocess_data(validation_data)"
   ]
  },
  {
   "cell_type": "code",
   "execution_count": null,
   "metadata": {},
   "outputs": [],
   "source": [
    "from __future__ import absolute_import, division, print_function, unicode_literals\n",
    "\n",
    "try:\n",
    "  # %tensorflow_version only exists in Colab.\n",
    "  %tensorflow_version 2.x\n",
    "except Exception:\n",
    "    pass\n",
    "\n",
    "import tensorflow as tf"
   ]
  },
  {
   "cell_type": "code",
   "execution_count": null,
   "metadata": {},
   "outputs": [],
   "source": [
    "from tensorflow.keras.models import Sequential\n",
    "from tensorflow.keras.layers import Dense, Dropout, LSTM, BatchNormalization\n",
    "from tensorflow.keras.callbacks import TensorBoard, ModelCheckpoint, EarlyStopping"
   ]
  },
  {
   "cell_type": "code",
   "execution_count": null,
   "metadata": {},
   "outputs": [],
   "source": [
    "model = Sequential()\n",
    "\n",
    "model.add(LSTM(256, input_shape=(X_train.shape[1:]), return_sequences=True))\n",
    "model.add(Dropout(0.5))\n",
    "model.add(BatchNormalization())\n",
    "\n",
    "model.add(LSTM(128, input_shape=(X_train.shape[1:]), return_sequences=True))\n",
    "model.add(Dropout(0.5))\n",
    "model.add(BatchNormalization())\n",
    "\n",
    "model.add(LSTM(128, input_shape=(X_train.shape[1:])))\n",
    "model.add(Dropout(0.5))\n",
    "model.add(BatchNormalization())\n",
    "\n",
    "model.add(Dense(32, activation='relu'))\n",
    "model.add(Dropout(0.2))\n",
    "\n",
    "model.add(Dense(2, activation='softmax'))\n",
    "\n",
    "opt = tf.keras.optimizers.Adam(lr=0.001, decay=1e-6)\n",
    "\n",
    "model.compile(loss='sparse_categorical_crossentropy',\n",
    "              optimizer=opt,\n",
    "              metrics=['accuracy'])"
   ]
  },
  {
   "cell_type": "code",
   "execution_count": null,
   "metadata": {},
   "outputs": [],
   "source": [
    "tensorboard = TensorBoard(log_dir='logs/{}'.format(NAME))\n",
    "early_stopping = EarlyStopping(monitor='val_loss', patience=10, mode='min')"
   ]
  },
  {
   "cell_type": "code",
   "execution_count": null,
   "metadata": {},
   "outputs": [],
   "source": [
    "filepath = \"RNN_Final-{epoch:02d}--{val_acc:.3f}\"\n",
    "checkpoint = ModelCheckpoint(\"models/{}.model\".format(filepath, monitor='val_acc', verbose=1, save_best_only=True, mode='max'))"
   ]
  },
  {
   "cell_type": "code",
   "execution_count": null,
   "metadata": {},
   "outputs": [],
   "source": [
    "history = model.fit(\n",
    "    X_train, y_train,\n",
    "    batch_size=BATCH_SIZE,\n",
    "    epochs=EPOCHS,\n",
    "    validation_data=(X_test,y_test),\n",
    "    callbacks= [tensorboard]\n",
    ")"
   ]
  },
  {
   "cell_type": "code",
   "execution_count": null,
   "metadata": {},
   "outputs": [],
   "source": [
    "losses = pd.DataFrame(model.history.history)\n",
    "losses.plot()"
   ]
  },
  {
   "cell_type": "code",
   "execution_count": null,
   "metadata": {},
   "outputs": [],
   "source": []
  },
  {
   "cell_type": "code",
   "execution_count": null,
   "metadata": {},
   "outputs": [],
   "source": []
  },
  {
   "cell_type": "code",
   "execution_count": null,
   "metadata": {},
   "outputs": [],
   "source": []
  },
  {
   "cell_type": "code",
   "execution_count": null,
   "metadata": {},
   "outputs": [],
   "source": []
  }
 ],
 "metadata": {
  "kernelspec": {
   "display_name": "Python 3",
   "language": "python",
   "name": "python3"
  },
  "language_info": {
   "codemirror_mode": {
    "name": "ipython",
    "version": 3
   },
   "file_extension": ".py",
   "mimetype": "text/x-python",
   "name": "python",
   "nbconvert_exporter": "python",
   "pygments_lexer": "ipython3",
   "version": "3.7.0"
  }
 },
 "nbformat": 4,
 "nbformat_minor": 4
}
