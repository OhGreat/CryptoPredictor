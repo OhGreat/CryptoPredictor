{
 "cells": [
  {
   "cell_type": "code",
   "execution_count": 1,
   "metadata": {},
   "outputs": [],
   "source": [
    "import numpy as np\n",
    "import pandas as pd\n",
    "import matplotlib.pyplot as plt\n",
    "import seaborn as sns\n",
    "from datetime import datetime, timedelta\n",
    "import time"
   ]
  },
  {
   "cell_type": "code",
   "execution_count": 2,
   "metadata": {},
   "outputs": [],
   "source": [
    "%matplotlib inline\n",
    "sns.set_style(style='whitegrid')"
   ]
  },
  {
   "cell_type": "code",
   "execution_count": 3,
   "metadata": {},
   "outputs": [],
   "source": [
    "import binance_framework as bf"
   ]
  },
  {
   "cell_type": "code",
   "execution_count": 4,
   "metadata": {},
   "outputs": [
    {
     "name": "stdout",
     "output_type": "stream",
     "text": [
      "<class 'pandas.core.frame.DataFrame'>\n",
      "RangeIndex: 14971 entries, 0 to 14970\n",
      "Data columns (total 48 columns):\n",
      " #   Column                                Non-Null Count  Dtype \n",
      "---  ------                                --------------  ----- \n",
      " 0   BTCUSDT Open Time                     14971 non-null  object\n",
      " 1   BTCUSDT Open                          14971 non-null  object\n",
      " 2   BTCUSDT High                          14971 non-null  object\n",
      " 3   BTCUSDT Low                           14971 non-null  object\n",
      " 4   BTCUSDT Close                         14971 non-null  object\n",
      " 5   BTCUSDT Volume                        14971 non-null  object\n",
      " 6   BTCUSDT Close Time                    14971 non-null  object\n",
      " 7   BTCUSDT Quote asset volume            14971 non-null  object\n",
      " 8   BTCUSDT n_trades                      14971 non-null  object\n",
      " 9   BTCUSDT Taker buy base asset volume   14971 non-null  object\n",
      " 10  BTCUSDT Taker buy quote asset volume  14971 non-null  object\n",
      " 11  BTCUSDT Ignore                        14971 non-null  object\n",
      " 12  ETHUSDT Open Time                     14971 non-null  object\n",
      " 13  ETHUSDT Open                          14971 non-null  object\n",
      " 14  ETHUSDT High                          14971 non-null  object\n",
      " 15  ETHUSDT Low                           14971 non-null  object\n",
      " 16  ETHUSDT Close                         14971 non-null  object\n",
      " 17  ETHUSDT Volume                        14971 non-null  object\n",
      " 18  ETHUSDT Close Time                    14971 non-null  object\n",
      " 19  ETHUSDT Quote asset volume            14971 non-null  object\n",
      " 20  ETHUSDT n_trades                      14971 non-null  object\n",
      " 21  ETHUSDT Taker buy base asset volume   14971 non-null  object\n",
      " 22  ETHUSDT Taker buy quote asset volume  14971 non-null  object\n",
      " 23  ETHUSDT Ignore                        14971 non-null  object\n",
      " 24  LTCUSDT Open Time                     14971 non-null  object\n",
      " 25  LTCUSDT Open                          14971 non-null  object\n",
      " 26  LTCUSDT High                          14971 non-null  object\n",
      " 27  LTCUSDT Low                           14971 non-null  object\n",
      " 28  LTCUSDT Close                         14971 non-null  object\n",
      " 29  LTCUSDT Volume                        14971 non-null  object\n",
      " 30  LTCUSDT Close Time                    14971 non-null  object\n",
      " 31  LTCUSDT Quote asset volume            14971 non-null  object\n",
      " 32  LTCUSDT n_trades                      14971 non-null  object\n",
      " 33  LTCUSDT Taker buy base asset volume   14971 non-null  object\n",
      " 34  LTCUSDT Taker buy quote asset volume  14971 non-null  object\n",
      " 35  LTCUSDT Ignore                        14971 non-null  object\n",
      " 36  XRPUSDT Open Time                     14971 non-null  object\n",
      " 37  XRPUSDT Open                          14971 non-null  object\n",
      " 38  XRPUSDT High                          14971 non-null  object\n",
      " 39  XRPUSDT Low                           14971 non-null  object\n",
      " 40  XRPUSDT Close                         14971 non-null  object\n",
      " 41  XRPUSDT Volume                        14971 non-null  object\n",
      " 42  XRPUSDT Close Time                    14971 non-null  object\n",
      " 43  XRPUSDT Quote asset volume            14971 non-null  object\n",
      " 44  XRPUSDT n_trades                      14971 non-null  object\n",
      " 45  XRPUSDT Taker buy base asset volume   14971 non-null  object\n",
      " 46  XRPUSDT Taker buy quote asset volume  14971 non-null  object\n",
      " 47  XRPUSDT Ignore                        14971 non-null  object\n",
      "dtypes: object(48)\n",
      "memory usage: 5.5+ MB\n"
     ]
    }
   ],
   "source": [
    "#Note: BCH HAS MANY NULL VALUES, BETTER NOT INCLUDE IT\n",
    "currencies = ['BTCUSDT', 'ETHUSDT', 'LTCUSDT', 'XRPUSDT']\n",
    "#coins = pd.read_csv('bitcoin_datasets/interval_30min.csv')\n",
    "coins = bf.get_data_by_intervals(30, currencies, bf.INTERVAL_5MINUTE)\n",
    "coins.info()"
   ]
  },
  {
   "cell_type": "code",
   "execution_count": 5,
   "metadata": {},
   "outputs": [
    {
     "name": "stdout",
     "output_type": "stream",
     "text": [
      "First time difference is:  300000\n",
      "First time difference is:  300000\n",
      "First time difference is:  300000\n",
      "First time difference is:  300000\n",
      "\n",
      "\n",
      "BTCUSDT Time difference:  3900000\n",
      "starting at index:  7877\n",
      "ending at index:    7878\n",
      "\n",
      "\n",
      "ETHUSDT Time difference:  3900000\n",
      "starting at index:  7877\n",
      "ending at index:    7878\n",
      "\n",
      "\n",
      "LTCUSDT Time difference:  3900000\n",
      "starting at index:  7877\n",
      "ending at index:    7878\n",
      "\n",
      "\n",
      "XRPUSDT Time difference:  3900000\n",
      "starting at index:  7877\n",
      "ending at index:    7878\n",
      "\n",
      "\n",
      "BTCUSDT Time difference:  32287\n",
      "starting at index:  10860\n",
      "ending at index:    10861\n",
      "\n",
      "\n",
      "ETHUSDT Time difference:  32299\n",
      "starting at index:  10860\n",
      "ending at index:    10861\n",
      "\n",
      "\n",
      "LTCUSDT Time difference:  33983\n",
      "starting at index:  10860\n",
      "ending at index:    10861\n",
      "\n",
      "\n",
      "XRPUSDT Time difference:  35063\n",
      "starting at index:  10860\n",
      "ending at index:    10861\n",
      "\n",
      "\n",
      "BTCUSDT Time difference:  21567713\n",
      "starting at index:  10861\n",
      "ending at index:    10862\n",
      "\n",
      "\n",
      "ETHUSDT Time difference:  21567701\n",
      "starting at index:  10861\n",
      "ending at index:    10862\n",
      "\n",
      "\n",
      "LTCUSDT Time difference:  21566017\n",
      "starting at index:  10861\n",
      "ending at index:    10862\n",
      "\n",
      "\n",
      "XRPUSDT Time difference:  21564937\n",
      "starting at index:  10861\n",
      "ending at index:    10862\n",
      "\n",
      "\n",
      "BTCUSDT Time difference:  106695\n",
      "starting at index:  14795\n",
      "ending at index:    14796\n",
      "\n",
      "\n",
      "ETHUSDT Time difference:  106701\n",
      "starting at index:  14795\n",
      "ending at index:    14796\n",
      "\n",
      "\n",
      "LTCUSDT Time difference:  107642\n",
      "starting at index:  14795\n",
      "ending at index:    14796\n",
      "\n",
      "\n",
      "XRPUSDT Time difference:  108204\n",
      "starting at index:  14795\n",
      "ending at index:    14796\n",
      "\n",
      "\n",
      "BTCUSDT Time difference:  7993305\n",
      "starting at index:  14796\n",
      "ending at index:    14797\n",
      "\n",
      "\n",
      "ETHUSDT Time difference:  7993299\n",
      "starting at index:  14796\n",
      "ending at index:    14797\n",
      "\n",
      "\n",
      "LTCUSDT Time difference:  7992358\n",
      "starting at index:  14796\n",
      "ending at index:    14797\n",
      "\n",
      "\n",
      "XRPUSDT Time difference:  7991796\n",
      "starting at index:  14796\n",
      "ending at index:    14797\n"
     ]
    }
   ],
   "source": [
    "bf.show_time_skips(coins, currencies)"
   ]
  },
  {
   "cell_type": "code",
   "execution_count": 6,
   "metadata": {},
   "outputs": [],
   "source": [
    "bf.keep_one_timestamp(coins,currencies)"
   ]
  },
  {
   "cell_type": "code",
   "execution_count": 7,
   "metadata": {},
   "outputs": [
    {
     "ename": "KeyError",
     "evalue": "\"['Unnamed: 0'] not found in axis\"",
     "output_type": "error",
     "traceback": [
      "\u001b[0;31m---------------------------------------------------------------------------\u001b[0m",
      "\u001b[0;31mKeyError\u001b[0m                                  Traceback (most recent call last)",
      "\u001b[0;32m<ipython-input-7-957693302dfe>\u001b[0m in \u001b[0;36m<module>\u001b[0;34m\u001b[0m\n\u001b[0;32m----> 1\u001b[0;31m \u001b[0mcoins\u001b[0m\u001b[0;34m.\u001b[0m\u001b[0mdrop\u001b[0m\u001b[0;34m(\u001b[0m\u001b[0;34m'Unnamed: 0'\u001b[0m\u001b[0;34m,\u001b[0m \u001b[0maxis\u001b[0m\u001b[0;34m=\u001b[0m\u001b[0;36m1\u001b[0m\u001b[0;34m,\u001b[0m \u001b[0minplace\u001b[0m\u001b[0;34m=\u001b[0m\u001b[0;32mTrue\u001b[0m\u001b[0;34m)\u001b[0m\u001b[0;34m\u001b[0m\u001b[0m\n\u001b[0m\u001b[1;32m      2\u001b[0m \u001b[0mbf\u001b[0m\u001b[0;34m.\u001b[0m\u001b[0mremove_ignore_columns\u001b[0m\u001b[0;34m(\u001b[0m\u001b[0mcoins\u001b[0m\u001b[0;34m,\u001b[0m\u001b[0mcurrencies\u001b[0m\u001b[0;34m)\u001b[0m\u001b[0;34m\u001b[0m\u001b[0m\n\u001b[1;32m      3\u001b[0m \u001b[0mcoins\u001b[0m\u001b[0;34m.\u001b[0m\u001b[0mset_index\u001b[0m\u001b[0;34m(\u001b[0m\u001b[0;34m'Timestamp'\u001b[0m\u001b[0;34m,\u001b[0m\u001b[0minplace\u001b[0m\u001b[0;34m=\u001b[0m\u001b[0;32mTrue\u001b[0m\u001b[0;34m)\u001b[0m\u001b[0;34m\u001b[0m\u001b[0m\n",
      "\u001b[0;32m~/virtual_environments/pyth3.7/lib/python3.7/site-packages/pandas/core/frame.py\u001b[0m in \u001b[0;36mdrop\u001b[0;34m(self, labels, axis, index, columns, level, inplace, errors)\u001b[0m\n\u001b[1;32m   3995\u001b[0m             \u001b[0mlevel\u001b[0m\u001b[0;34m=\u001b[0m\u001b[0mlevel\u001b[0m\u001b[0;34m,\u001b[0m\u001b[0;34m\u001b[0m\u001b[0m\n\u001b[1;32m   3996\u001b[0m             \u001b[0minplace\u001b[0m\u001b[0;34m=\u001b[0m\u001b[0minplace\u001b[0m\u001b[0;34m,\u001b[0m\u001b[0;34m\u001b[0m\u001b[0m\n\u001b[0;32m-> 3997\u001b[0;31m             \u001b[0merrors\u001b[0m\u001b[0;34m=\u001b[0m\u001b[0merrors\u001b[0m\u001b[0;34m,\u001b[0m\u001b[0;34m\u001b[0m\u001b[0m\n\u001b[0m\u001b[1;32m   3998\u001b[0m         )\n\u001b[1;32m   3999\u001b[0m \u001b[0;34m\u001b[0m\u001b[0m\n",
      "\u001b[0;32m~/virtual_environments/pyth3.7/lib/python3.7/site-packages/pandas/core/generic.py\u001b[0m in \u001b[0;36mdrop\u001b[0;34m(self, labels, axis, index, columns, level, inplace, errors)\u001b[0m\n\u001b[1;32m   3934\u001b[0m         \u001b[0;32mfor\u001b[0m \u001b[0maxis\u001b[0m\u001b[0;34m,\u001b[0m \u001b[0mlabels\u001b[0m \u001b[0;32min\u001b[0m \u001b[0maxes\u001b[0m\u001b[0;34m.\u001b[0m\u001b[0mitems\u001b[0m\u001b[0;34m(\u001b[0m\u001b[0;34m)\u001b[0m\u001b[0;34m:\u001b[0m\u001b[0;34m\u001b[0m\u001b[0m\n\u001b[1;32m   3935\u001b[0m             \u001b[0;32mif\u001b[0m \u001b[0mlabels\u001b[0m \u001b[0;32mis\u001b[0m \u001b[0;32mnot\u001b[0m \u001b[0;32mNone\u001b[0m\u001b[0;34m:\u001b[0m\u001b[0;34m\u001b[0m\u001b[0m\n\u001b[0;32m-> 3936\u001b[0;31m                 \u001b[0mobj\u001b[0m \u001b[0;34m=\u001b[0m \u001b[0mobj\u001b[0m\u001b[0;34m.\u001b[0m\u001b[0m_drop_axis\u001b[0m\u001b[0;34m(\u001b[0m\u001b[0mlabels\u001b[0m\u001b[0;34m,\u001b[0m \u001b[0maxis\u001b[0m\u001b[0;34m,\u001b[0m \u001b[0mlevel\u001b[0m\u001b[0;34m=\u001b[0m\u001b[0mlevel\u001b[0m\u001b[0;34m,\u001b[0m \u001b[0merrors\u001b[0m\u001b[0;34m=\u001b[0m\u001b[0merrors\u001b[0m\u001b[0;34m)\u001b[0m\u001b[0;34m\u001b[0m\u001b[0m\n\u001b[0m\u001b[1;32m   3937\u001b[0m \u001b[0;34m\u001b[0m\u001b[0m\n\u001b[1;32m   3938\u001b[0m         \u001b[0;32mif\u001b[0m \u001b[0minplace\u001b[0m\u001b[0;34m:\u001b[0m\u001b[0;34m\u001b[0m\u001b[0m\n",
      "\u001b[0;32m~/virtual_environments/pyth3.7/lib/python3.7/site-packages/pandas/core/generic.py\u001b[0m in \u001b[0;36m_drop_axis\u001b[0;34m(self, labels, axis, level, errors)\u001b[0m\n\u001b[1;32m   3968\u001b[0m                 \u001b[0mnew_axis\u001b[0m \u001b[0;34m=\u001b[0m \u001b[0maxis\u001b[0m\u001b[0;34m.\u001b[0m\u001b[0mdrop\u001b[0m\u001b[0;34m(\u001b[0m\u001b[0mlabels\u001b[0m\u001b[0;34m,\u001b[0m \u001b[0mlevel\u001b[0m\u001b[0;34m=\u001b[0m\u001b[0mlevel\u001b[0m\u001b[0;34m,\u001b[0m \u001b[0merrors\u001b[0m\u001b[0;34m=\u001b[0m\u001b[0merrors\u001b[0m\u001b[0;34m)\u001b[0m\u001b[0;34m\u001b[0m\u001b[0m\n\u001b[1;32m   3969\u001b[0m             \u001b[0;32melse\u001b[0m\u001b[0;34m:\u001b[0m\u001b[0;34m\u001b[0m\u001b[0m\n\u001b[0;32m-> 3970\u001b[0;31m                 \u001b[0mnew_axis\u001b[0m \u001b[0;34m=\u001b[0m \u001b[0maxis\u001b[0m\u001b[0;34m.\u001b[0m\u001b[0mdrop\u001b[0m\u001b[0;34m(\u001b[0m\u001b[0mlabels\u001b[0m\u001b[0;34m,\u001b[0m \u001b[0merrors\u001b[0m\u001b[0;34m=\u001b[0m\u001b[0merrors\u001b[0m\u001b[0;34m)\u001b[0m\u001b[0;34m\u001b[0m\u001b[0m\n\u001b[0m\u001b[1;32m   3971\u001b[0m             \u001b[0mresult\u001b[0m \u001b[0;34m=\u001b[0m \u001b[0mself\u001b[0m\u001b[0;34m.\u001b[0m\u001b[0mreindex\u001b[0m\u001b[0;34m(\u001b[0m\u001b[0;34m**\u001b[0m\u001b[0;34m{\u001b[0m\u001b[0maxis_name\u001b[0m\u001b[0;34m:\u001b[0m \u001b[0mnew_axis\u001b[0m\u001b[0;34m}\u001b[0m\u001b[0;34m)\u001b[0m\u001b[0;34m\u001b[0m\u001b[0m\n\u001b[1;32m   3972\u001b[0m \u001b[0;34m\u001b[0m\u001b[0m\n",
      "\u001b[0;32m~/virtual_environments/pyth3.7/lib/python3.7/site-packages/pandas/core/indexes/base.py\u001b[0m in \u001b[0;36mdrop\u001b[0;34m(self, labels, errors)\u001b[0m\n\u001b[1;32m   5016\u001b[0m         \u001b[0;32mif\u001b[0m \u001b[0mmask\u001b[0m\u001b[0;34m.\u001b[0m\u001b[0many\u001b[0m\u001b[0;34m(\u001b[0m\u001b[0;34m)\u001b[0m\u001b[0;34m:\u001b[0m\u001b[0;34m\u001b[0m\u001b[0m\n\u001b[1;32m   5017\u001b[0m             \u001b[0;32mif\u001b[0m \u001b[0merrors\u001b[0m \u001b[0;34m!=\u001b[0m \u001b[0;34m\"ignore\"\u001b[0m\u001b[0;34m:\u001b[0m\u001b[0;34m\u001b[0m\u001b[0m\n\u001b[0;32m-> 5018\u001b[0;31m                 \u001b[0;32mraise\u001b[0m \u001b[0mKeyError\u001b[0m\u001b[0;34m(\u001b[0m\u001b[0;34mf\"{labels[mask]} not found in axis\"\u001b[0m\u001b[0;34m)\u001b[0m\u001b[0;34m\u001b[0m\u001b[0m\n\u001b[0m\u001b[1;32m   5019\u001b[0m             \u001b[0mindexer\u001b[0m \u001b[0;34m=\u001b[0m \u001b[0mindexer\u001b[0m\u001b[0;34m[\u001b[0m\u001b[0;34m~\u001b[0m\u001b[0mmask\u001b[0m\u001b[0;34m]\u001b[0m\u001b[0;34m\u001b[0m\u001b[0m\n\u001b[1;32m   5020\u001b[0m         \u001b[0;32mreturn\u001b[0m \u001b[0mself\u001b[0m\u001b[0;34m.\u001b[0m\u001b[0mdelete\u001b[0m\u001b[0;34m(\u001b[0m\u001b[0mindexer\u001b[0m\u001b[0;34m)\u001b[0m\u001b[0;34m\u001b[0m\u001b[0m\n",
      "\u001b[0;31mKeyError\u001b[0m: \"['Unnamed: 0'] not found in axis\""
     ]
    }
   ],
   "source": [
    "coins.drop('Unnamed: 0', axis=1, inplace=True)\n",
    "bf.remove_ignore_columns(coins,currencies)\n",
    "coins.set_index('Timestamp',inplace=True)"
   ]
  },
  {
   "cell_type": "code",
   "execution_count": null,
   "metadata": {},
   "outputs": [],
   "source": [
    "coins.head()"
   ]
  },
  {
   "cell_type": "code",
   "execution_count": null,
   "metadata": {},
   "outputs": [],
   "source": [
    "plt.figure(figsize=(16,8))\n",
    "coins['BTCUSDT Close'].iloc[:720].plot()"
   ]
  },
  {
   "cell_type": "code",
   "execution_count": null,
   "metadata": {},
   "outputs": [],
   "source": [
    "SEQUENCE_LEN = 100 # 2 days and 4 hours\n",
    "FUTURE_PERIOD_PREDICT = 5\n",
    "RATIO_TO_PREDICT = 'BTCUSDT'"
   ]
  },
  {
   "cell_type": "code",
   "execution_count": null,
   "metadata": {},
   "outputs": [],
   "source": [
    "#i want to predict if in the next FUTURE_PERIOD_PREDICT\n",
    "# the price will be higher than 1.25% of the current value\n",
    "def classify(current_price, future_price):\n",
    "    if future_price > (current_price + current_price*0.0125):\n",
    "        return 1\n",
    "    return 0"
   ]
  },
  {
   "cell_type": "code",
   "execution_count": null,
   "metadata": {},
   "outputs": [],
   "source": [
    "coins['Future Value'] = coins['BTCUSDT High'].shift(-FUTURE_PERIOD_PREDICT)\n",
    "#coins['Future Value'] = 0.0\n",
    "#coins.info()"
   ]
  },
  {
   "cell_type": "code",
   "execution_count": null,
   "metadata": {},
   "outputs": [],
   "source": [
    "coins['Target'] = list(map(classify, coins['BTCUSDT Close'], coins['Future Value']))"
   ]
  },
  {
   "cell_type": "code",
   "execution_count": null,
   "metadata": {},
   "outputs": [],
   "source": [
    "coins.dropna(inplace=True)"
   ]
  },
  {
   "cell_type": "code",
   "execution_count": null,
   "metadata": {},
   "outputs": [],
   "source": [
    "coins.info()"
   ]
  },
  {
   "cell_type": "code",
   "execution_count": null,
   "metadata": {},
   "outputs": [],
   "source": [
    "coins[ coins['Target'] ==0].count()[0]"
   ]
  },
  {
   "cell_type": "code",
   "execution_count": null,
   "metadata": {},
   "outputs": [],
   "source": [
    "times = coins.index.values\n",
    "last_10pct = times[-int(0.1*len(times))]"
   ]
  },
  {
   "cell_type": "code",
   "execution_count": null,
   "metadata": {},
   "outputs": [],
   "source": [
    "last_10pct"
   ]
  },
  {
   "cell_type": "code",
   "execution_count": null,
   "metadata": {},
   "outputs": [],
   "source": [
    "coins.index[-1]"
   ]
  },
  {
   "cell_type": "code",
   "execution_count": null,
   "metadata": {},
   "outputs": [],
   "source": [
    "validation_data = coins[ (coins.index >= last_10pct)]"
   ]
  },
  {
   "cell_type": "code",
   "execution_count": null,
   "metadata": {},
   "outputs": [],
   "source": [
    "coins = coins[ (coins.index < last_10pct)]\n",
    "coins.drop('Future Value', axis=1, inplace=True)"
   ]
  },
  {
   "cell_type": "code",
   "execution_count": null,
   "metadata": {},
   "outputs": [],
   "source": [
    "from sklearn import preprocessing"
   ]
  },
  {
   "cell_type": "code",
   "execution_count": null,
   "metadata": {},
   "outputs": [],
   "source": [
    "for col in coins.columns:\n",
    "    if col != 'Target':\n",
    "        coins[col] = coins[col].pct_change()\n",
    "        coins.dropna(inplace=True)\n",
    "        coins[col] = preprocessing.scale(coins[col].values)"
   ]
  },
  {
   "cell_type": "code",
   "execution_count": null,
   "metadata": {},
   "outputs": [],
   "source": [
    "coins.dropna(inplace=True)"
   ]
  },
  {
   "cell_type": "code",
   "execution_count": null,
   "metadata": {},
   "outputs": [],
   "source": [
    "from collections import deque"
   ]
  },
  {
   "cell_type": "code",
   "execution_count": null,
   "metadata": {},
   "outputs": [],
   "source": [
    "sequential_data = []\n",
    "prev_days = deque(maxlen=SEQUENCE_LEN)"
   ]
  },
  {
   "cell_type": "code",
   "execution_count": null,
   "metadata": {},
   "outputs": [],
   "source": [
    "for i in coins.values:\n",
    "    prev_days.append([n for n in i[:-1]])\n",
    "    if len(prev_days) == SEQUENCE_LEN:\n",
    "        sequential_data.append([np.array(prev_days), i[-1]])"
   ]
  },
  {
   "cell_type": "code",
   "execution_count": null,
   "metadata": {},
   "outputs": [],
   "source": [
    "import random"
   ]
  },
  {
   "cell_type": "code",
   "execution_count": null,
   "metadata": {},
   "outputs": [],
   "source": [
    "random.shuffle(sequential_data)"
   ]
  },
  {
   "cell_type": "code",
   "execution_count": null,
   "metadata": {},
   "outputs": [],
   "source": [
    "sequential_data"
   ]
  },
  {
   "cell_type": "code",
   "execution_count": null,
   "metadata": {},
   "outputs": [],
   "source": [
    "buys =[]\n",
    "sells = []"
   ]
  },
  {
   "cell_type": "code",
   "execution_count": null,
   "metadata": {},
   "outputs": [],
   "source": [
    "for seq,target in sequential_data:\n",
    "    if target == 0:\n",
    "        sells.append([seq, target])\n",
    "    elif target ==1:\n",
    "        buys.append([seq,target])"
   ]
  },
  {
   "cell_type": "code",
   "execution_count": null,
   "metadata": {},
   "outputs": [],
   "source": [
    "random.shuffle(buys)\n",
    "random.shuffle(sells)"
   ]
  },
  {
   "cell_type": "code",
   "execution_count": null,
   "metadata": {},
   "outputs": [],
   "source": [
    "lower = min(len(buys), len(sells))"
   ]
  },
  {
   "cell_type": "code",
   "execution_count": null,
   "metadata": {},
   "outputs": [],
   "source": [
    "buys = buys[:lower]\n",
    "sells = sells[:lower]"
   ]
  },
  {
   "cell_type": "code",
   "execution_count": null,
   "metadata": {},
   "outputs": [],
   "source": [
    "sequential_data = buys+sells"
   ]
  },
  {
   "cell_type": "code",
   "execution_count": null,
   "metadata": {},
   "outputs": [],
   "source": [
    "random.shuffle(sequential_data)"
   ]
  },
  {
   "cell_type": "code",
   "execution_count": null,
   "metadata": {},
   "outputs": [],
   "source": [
    "X_train =[]\n",
    "y_train = []"
   ]
  },
  {
   "cell_type": "code",
   "execution_count": null,
   "metadata": {},
   "outputs": [],
   "source": [
    "for seq,target in sequential_data:\n",
    "    X_train.append(seq)\n",
    "    y_train.append(target)"
   ]
  },
  {
   "cell_type": "code",
   "execution_count": null,
   "metadata": {},
   "outputs": [],
   "source": [
    "len(sells)"
   ]
  },
  {
   "cell_type": "code",
   "execution_count": null,
   "metadata": {},
   "outputs": [],
   "source": [
    "np.array(X_train)"
   ]
  },
  {
   "cell_type": "code",
   "execution_count": null,
   "metadata": {},
   "outputs": [],
   "source": [
    "SEQUENCE_LEN = 60\n",
    "FUTURE_PERIOD_PREDICT = 3\n",
    "RATIO_TO_PREDICT = 'ETHUSDT'\n",
    "EPOCHS = 20\n",
    "BATCH_SIZE = 256\n",
    "NAME = 'SEQ-'+ str(SEQUENCE_LEN)+'-FUTPRED-'+str(FUTURE_PERIOD_PREDICT)+'-PRED-'+str(time.time())"
   ]
  },
  {
   "cell_type": "code",
   "execution_count": null,
   "metadata": {},
   "outputs": [],
   "source": [
    "#i want to predict if in the next FUTURE_PERIOD_PREDICT\n",
    "# the price will be higher than 1.25% of the current value\n",
    "def classify(current_price, future_price):\n",
    "    if future_price > current_price:\n",
    "        return 1\n",
    "    return 0"
   ]
  },
  {
   "cell_type": "code",
   "execution_count": null,
   "metadata": {},
   "outputs": [],
   "source": [
    "coins['Future Value'] = coins[RATIO_TO_PREDICT+' High'].shift(-FUTURE_PERIOD_PREDICT)"
   ]
  },
  {
   "cell_type": "code",
   "execution_count": null,
   "metadata": {},
   "outputs": [],
   "source": [
    "coins['Target'] = list(map(classify, coins[RATIO_TO_PREDICT+' Close'], coins['Future Value']))"
   ]
  },
  {
   "cell_type": "code",
   "execution_count": null,
   "metadata": {},
   "outputs": [],
   "source": [
    "coins.dropna(inplace=True)"
   ]
  },
  {
   "cell_type": "code",
   "execution_count": null,
   "metadata": {},
   "outputs": [],
   "source": [
    "coins[ coins['Target'] ==0].count()[0]"
   ]
  },
  {
   "cell_type": "code",
   "execution_count": null,
   "metadata": {},
   "outputs": [],
   "source": [
    "times = coins.index.values\n",
    "last_10pct = times[-int(0.1*len(times))]"
   ]
  },
  {
   "cell_type": "code",
   "execution_count": null,
   "metadata": {},
   "outputs": [],
   "source": [
    "last_10pct"
   ]
  },
  {
   "cell_type": "code",
   "execution_count": null,
   "metadata": {},
   "outputs": [],
   "source": [
    "validation_data = coins[ (coins.index >= last_10pct)]"
   ]
  },
  {
   "cell_type": "code",
   "execution_count": null,
   "metadata": {},
   "outputs": [],
   "source": [
    "coins = coins[ (coins.index < last_10pct)]"
   ]
  },
  {
   "cell_type": "code",
   "execution_count": null,
   "metadata": {},
   "outputs": [],
   "source": [
    "from sklearn import preprocessing"
   ]
  },
  {
   "cell_type": "code",
   "execution_count": null,
   "metadata": {},
   "outputs": [],
   "source": [
    "def preprocess_data(coins):\n",
    "  coins.drop('Future Value', axis=1, inplace=True)\n",
    "  coins.dropna()\n",
    "\n",
    "  for col in coins.columns:\n",
    "    if col != 'Target':\n",
    "        coins[col] = coins[col].pct_change()\n",
    "        coins.dropna(inplace=True)\n",
    "        coins[col] = preprocessing.scale(coins[col].values)\n",
    "\n",
    "  coins.dropna(inplace=True)\n",
    "\n",
    "  sequential_data = []\n",
    "  prev_days = deque(maxlen=SEQUENCE_LEN)\n",
    "\n",
    "  for i in coins.values:\n",
    "    prev_days.append([n for n in i[:-1]])\n",
    "    if len(prev_days) == SEQUENCE_LEN:\n",
    "        sequential_data.append([np.array(prev_days), i[-1]])\n",
    "\n",
    "  random.shuffle(sequential_data)\n",
    "\n",
    "  buys = []\n",
    "  sells = []\n",
    "  for seq,target in sequential_data:\n",
    "    if target == 0:\n",
    "        sells.append([seq, target])\n",
    "    elif target ==1:\n",
    "        buys.append([seq,target])\n",
    "\n",
    "  random.shuffle(buys)\n",
    "  random.shuffle(sells)\n",
    "\n",
    "  lower = min(len(buys), len(sells)) #we find min to have balanced classes\n",
    "\n",
    "  buys = buys[:lower]\n",
    "  sells = sells[:lower]\n",
    "\n",
    "  sequential_data = buys+sells\n",
    "  random.shuffle(sequential_data)\n",
    "\n",
    "  X = []\n",
    "  y = []\n",
    "\n",
    "  for seq,target in sequential_data:\n",
    "    X.append(seq)\n",
    "    y.append(target)\n",
    "\n",
    "  return np.array(X), np.array(y)"
   ]
  },
  {
   "cell_type": "code",
   "execution_count": null,
   "metadata": {},
   "outputs": [],
   "source": [
    "X_train, y_train = preprocess_data(coins)\n",
    "X_test, y_test = preprocess_data(validation_data)"
   ]
  },
  {
   "cell_type": "code",
   "execution_count": null,
   "metadata": {},
   "outputs": [],
   "source": [
    "from __future__ import absolute_import, division, print_function, unicode_literals\n",
    "\n",
    "try:\n",
    "  # %tensorflow_version only exists in Colab.\n",
    "  %tensorflow_version 2.x\n",
    "except Exception:\n",
    "  pass\n",
    "\n",
    "import tensorflow as tf"
   ]
  },
  {
   "cell_type": "code",
   "execution_count": null,
   "metadata": {},
   "outputs": [],
   "source": [
    "from tensorflow.keras.models import Sequential\n",
    "from tensorflow.keras.layers import Dense, Dropout, LSTM, BatchNormalization\n",
    "from tensorflow.keras.callbacks import TensorBoard, ModelCheckpoint, EarlyStopping"
   ]
  },
  {
   "cell_type": "code",
   "execution_count": null,
   "metadata": {},
   "outputs": [],
   "source": [
    "model = Sequential()\n",
    "\n",
    "model.add(LSTM(256, input_shape=(X_train.shape[1:]), return_sequences=True))\n",
    "model.add(Dropout(0.5))\n",
    "model.add(BatchNormalization())\n",
    "\n",
    "model.add(LSTM(128, input_shape=(X_train.shape[1:]), return_sequences=True))\n",
    "model.add(Dropout(0.5))\n",
    "model.add(BatchNormalization())\n",
    "\n",
    "model.add(LSTM(128, input_shape=(X_train.shape[1:])))\n",
    "model.add(Dropout(0.5))\n",
    "model.add(BatchNormalization())\n",
    "\n",
    "model.add(Dense(32, activation='relu'))\n",
    "model.add(Dropout(0.2))\n",
    "\n",
    "model.add(Dense(2, activation='softmax'))\n",
    "\n",
    "opt = tf.keras.optimizers.Adam(lr=0.001, decay=1e-6)\n",
    "\n",
    "model.compile(loss='sparse_categorical_crossentropy',\n",
    "              optimizer=opt,\n",
    "              metrics=['accuracy'])"
   ]
  },
  {
   "cell_type": "code",
   "execution_count": null,
   "metadata": {},
   "outputs": [],
   "source": [
    "tensorboard = TensorBoard(log_dir='logs/{}'.format(NAME))\n",
    "early_stopping = EarlyStopping(monitor='val_loss', patience=10, mode='min')"
   ]
  },
  {
   "cell_type": "code",
   "execution_count": null,
   "metadata": {},
   "outputs": [],
   "source": [
    "filepath = \"RNN_Final-{epoch:02d}--{val_acc:.3f}\"\n",
    "checkpoint = ModelCheckpoint(\"models/{}.model\".format(filepath, monitor='val_acc', verbose=1, save_best_only=True, mode='max'))"
   ]
  },
  {
   "cell_type": "code",
   "execution_count": null,
   "metadata": {},
   "outputs": [],
   "source": [
    "history = model.fit(\n",
    "    X_train, y_train,\n",
    "    batch_size=BATCH_SIZE,\n",
    "    epochs=EPOCHS,\n",
    "    validation_data=(X_test,y_test),\n",
    "    callbacks= [tensorboard]\n",
    ")"
   ]
  },
  {
   "cell_type": "code",
   "execution_count": null,
   "metadata": {},
   "outputs": [],
   "source": [
    "losses = pd.DataFrame(model.history.history)\n",
    "losses.plot()"
   ]
  },
  {
   "cell_type": "code",
   "execution_count": null,
   "metadata": {},
   "outputs": [],
   "source": []
  },
  {
   "cell_type": "code",
   "execution_count": null,
   "metadata": {},
   "outputs": [],
   "source": []
  },
  {
   "cell_type": "code",
   "execution_count": null,
   "metadata": {},
   "outputs": [],
   "source": []
  },
  {
   "cell_type": "code",
   "execution_count": null,
   "metadata": {},
   "outputs": [],
   "source": []
  }
 ],
 "metadata": {
  "kernelspec": {
   "display_name": "Python 3",
   "language": "python",
   "name": "python3"
  },
  "language_info": {
   "codemirror_mode": {
    "name": "ipython",
    "version": 3
   },
   "file_extension": ".py",
   "mimetype": "text/x-python",
   "name": "python",
   "nbconvert_exporter": "python",
   "pygments_lexer": "ipython3",
   "version": "3.7.0"
  }
 },
 "nbformat": 4,
 "nbformat_minor": 4
}
