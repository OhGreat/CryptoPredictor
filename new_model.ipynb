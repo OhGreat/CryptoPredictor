{
  "nbformat": 4,
  "nbformat_minor": 0,
  "metadata": {
    "colab": {
      "name": "new_model.ipynb",
      "provenance": [],
      "collapsed_sections": [],
      "toc_visible": true
    },
    "kernelspec": {
      "name": "python3",
      "display_name": "Python 3"
    }
  },
  "cells": [
    {
      "cell_type": "code",
      "metadata": {
        "id": "ZGbBvL72WRmL",
        "colab_type": "code",
        "outputId": "8b8d7f1c-da09-41da-b1f1-cf4c91dcfa6b",
        "colab": {
          "base_uri": "https://localhost:8080/",
          "height": 538
        }
      },
      "source": [
        "!pip install python-binance"
      ],
      "execution_count": 1,
      "outputs": [
        {
          "output_type": "stream",
          "text": [
            "Requirement already satisfied: python-binance in /usr/local/lib/python3.6/dist-packages (0.7.5)\n",
            "Requirement already satisfied: cryptography in /usr/local/lib/python3.6/dist-packages (from python-binance) (2.8)\n",
            "Requirement already satisfied: requests in /usr/local/lib/python3.6/dist-packages (from python-binance) (2.21.0)\n",
            "Requirement already satisfied: pyOpenSSL in /usr/local/lib/python3.6/dist-packages (from python-binance) (19.1.0)\n",
            "Requirement already satisfied: dateparser in /usr/local/lib/python3.6/dist-packages (from python-binance) (0.7.2)\n",
            "Requirement already satisfied: urllib3 in /usr/local/lib/python3.6/dist-packages (from python-binance) (1.24.3)\n",
            "Requirement already satisfied: service-identity in /usr/local/lib/python3.6/dist-packages (from python-binance) (18.1.0)\n",
            "Requirement already satisfied: six in /usr/local/lib/python3.6/dist-packages (from python-binance) (1.12.0)\n",
            "Requirement already satisfied: autobahn in /usr/local/lib/python3.6/dist-packages (from python-binance) (20.3.1)\n",
            "Requirement already satisfied: certifi in /usr/local/lib/python3.6/dist-packages (from python-binance) (2019.11.28)\n",
            "Requirement already satisfied: Twisted in /usr/local/lib/python3.6/dist-packages (from python-binance) (19.10.0)\n",
            "Requirement already satisfied: cffi!=1.11.3,>=1.8 in /usr/local/lib/python3.6/dist-packages (from cryptography->python-binance) (1.14.0)\n",
            "Requirement already satisfied: chardet<3.1.0,>=3.0.2 in /usr/local/lib/python3.6/dist-packages (from requests->python-binance) (3.0.4)\n",
            "Requirement already satisfied: idna<2.9,>=2.5 in /usr/local/lib/python3.6/dist-packages (from requests->python-binance) (2.8)\n",
            "Requirement already satisfied: tzlocal in /usr/local/lib/python3.6/dist-packages (from dateparser->python-binance) (1.5.1)\n",
            "Requirement already satisfied: python-dateutil in /usr/local/lib/python3.6/dist-packages (from dateparser->python-binance) (2.6.1)\n",
            "Requirement already satisfied: pytz in /usr/local/lib/python3.6/dist-packages (from dateparser->python-binance) (2018.9)\n",
            "Requirement already satisfied: regex in /usr/local/lib/python3.6/dist-packages (from dateparser->python-binance) (2019.12.20)\n",
            "Requirement already satisfied: attrs>=16.0.0 in /usr/local/lib/python3.6/dist-packages (from service-identity->python-binance) (19.3.0)\n",
            "Requirement already satisfied: pyasn1 in /usr/local/lib/python3.6/dist-packages (from service-identity->python-binance) (0.4.8)\n",
            "Requirement already satisfied: pyasn1-modules in /usr/local/lib/python3.6/dist-packages (from service-identity->python-binance) (0.2.8)\n",
            "Requirement already satisfied: txaio>=20.1.1 in /usr/local/lib/python3.6/dist-packages (from autobahn->python-binance) (20.1.1)\n",
            "Requirement already satisfied: incremental>=16.10.1 in /usr/local/lib/python3.6/dist-packages (from Twisted->python-binance) (17.5.0)\n",
            "Requirement already satisfied: Automat>=0.3.0 in /usr/local/lib/python3.6/dist-packages (from Twisted->python-binance) (20.2.0)\n",
            "Requirement already satisfied: constantly>=15.1 in /usr/local/lib/python3.6/dist-packages (from Twisted->python-binance) (15.1.0)\n",
            "Requirement already satisfied: zope.interface>=4.4.2 in /usr/local/lib/python3.6/dist-packages (from Twisted->python-binance) (4.7.1)\n",
            "Requirement already satisfied: hyperlink>=17.1.1 in /usr/local/lib/python3.6/dist-packages (from Twisted->python-binance) (19.0.0)\n",
            "Requirement already satisfied: PyHamcrest>=1.9.0 in /usr/local/lib/python3.6/dist-packages (from Twisted->python-binance) (2.0.2)\n",
            "Requirement already satisfied: pycparser in /usr/local/lib/python3.6/dist-packages (from cffi!=1.11.3,>=1.8->cryptography->python-binance) (2.19)\n",
            "Requirement already satisfied: setuptools in /usr/local/lib/python3.6/dist-packages (from zope.interface>=4.4.2->Twisted->python-binance) (45.2.0)\n"
          ],
          "name": "stdout"
        }
      ]
    },
    {
      "cell_type": "code",
      "metadata": {
        "id": "w0Y2KyG4WTPM",
        "colab_type": "code",
        "colab": {}
      },
      "source": [
        "import numpy as np\n",
        "import pandas as pd\n",
        "import matplotlib.pyplot as plt\n",
        "import seaborn as sns\n",
        "from datetime import datetime, timedelta\n",
        "import time\n",
        "import binance_framework as bf\n",
        "from collections import deque\n",
        "import random"
      ],
      "execution_count": 0,
      "outputs": []
    },
    {
      "cell_type": "code",
      "metadata": {
        "id": "uHyZOoVvUsVj",
        "colab_type": "code",
        "colab": {
          "base_uri": "https://localhost:8080/",
          "height": 34
        },
        "outputId": "1d2b50c7-d98d-48ce-d184-9ab000a3b510"
      },
      "source": [
        "from __future__ import absolute_import, division, print_function, unicode_literals\n",
        "\n",
        "try:\n",
        "  # %tensorflow_version only exists in Colab.\n",
        "  %tensorflow_version 2.x\n",
        "except Exception:\n",
        "  pass\n",
        "\n",
        "import tensorflow as tf"
      ],
      "execution_count": 3,
      "outputs": [
        {
          "output_type": "stream",
          "text": [
            "TensorFlow 2.x selected.\n"
          ],
          "name": "stdout"
        }
      ]
    },
    {
      "cell_type": "code",
      "metadata": {
        "id": "svttVZUTWjOm",
        "colab_type": "code",
        "colab": {}
      },
      "source": [
        "CURRENCIES = ['ETHUSDT']\n",
        "SEQUENCE_LEN = 128\n",
        "FUTURE_PERIOD_PREDICT = 5\n",
        "RATIO_TO_PREDICT = 'ETHUSDT'\n",
        "EPOCHS = 20\n",
        "BATCH_SIZE = 128\n",
        "NAME = 'SEQ-'+ str(SEQUENCE_LEN)+'-FUTPRED-'+str(FUTURE_PERIOD_PREDICT)+'-PRED-'+str(time.time())"
      ],
      "execution_count": 0,
      "outputs": []
    },
    {
      "cell_type": "code",
      "metadata": {
        "id": "jtynF_CxXwvV",
        "colab_type": "code",
        "colab": {}
      },
      "source": [
        "#coins = bf.get_data_by_intervals(300,CURRENCIES,bf.INTERVAL_1MINUTE)"
      ],
      "execution_count": 0,
      "outputs": []
    },
    {
      "cell_type": "code",
      "metadata": {
        "id": "j2ixlbxjY8AF",
        "colab_type": "code",
        "colab": {}
      },
      "source": [
        "#coins.to_csv('eth_1min_300.csv',index=False)"
      ],
      "execution_count": 0,
      "outputs": []
    },
    {
      "cell_type": "code",
      "metadata": {
        "id": "NQoT_IHEZINw",
        "colab_type": "code",
        "colab": {}
      },
      "source": [
        "coins  = pd.read_csv('eth_1min.csv')"
      ],
      "execution_count": 0,
      "outputs": []
    },
    {
      "cell_type": "code",
      "metadata": {
        "id": "SA4Gdm_UZQw-",
        "colab_type": "code",
        "colab": {
          "base_uri": "https://localhost:8080/",
          "height": 312
        },
        "outputId": "1e66eef8-13e1-45ee-916d-c32fc0cab19d"
      },
      "source": [
        "coins.info()"
      ],
      "execution_count": 8,
      "outputs": [
        {
          "output_type": "stream",
          "text": [
            "<class 'pandas.core.frame.DataFrame'>\n",
            "RangeIndex: 24951 entries, 0 to 24950\n",
            "Data columns (total 12 columns):\n",
            "ETHUSDT Open Time                       24951 non-null int64\n",
            "ETHUSDT Open                            24951 non-null float64\n",
            "ETHUSDT High                            24951 non-null float64\n",
            "ETHUSDT Low                             24951 non-null float64\n",
            "ETHUSDT Close                           24951 non-null float64\n",
            "ETHUSDT Volume                          24951 non-null float64\n",
            "ETHUSDT Close Time                      24951 non-null int64\n",
            "ETHUSDT Quote asset volume              24951 non-null float64\n",
            "ETHUSDT n_trades                        24951 non-null int64\n",
            "ETHUSDT Taker buy base asset volume     24951 non-null float64\n",
            "ETHUSDT Taker buy quote asset volume    24951 non-null float64\n",
            "ETHUSDT Ignore                          24951 non-null int64\n",
            "dtypes: float64(8), int64(4)\n",
            "memory usage: 2.3 MB\n"
          ],
          "name": "stdout"
        }
      ]
    },
    {
      "cell_type": "code",
      "metadata": {
        "id": "nnzd90ztZSJN",
        "colab_type": "code",
        "colab": {
          "base_uri": "https://localhost:8080/",
          "height": 223
        },
        "outputId": "850da7e2-9f72-41b5-bea1-f28071c996c6"
      },
      "source": [
        "coins.head()"
      ],
      "execution_count": 9,
      "outputs": [
        {
          "output_type": "execute_result",
          "data": {
            "text/html": [
              "<div>\n",
              "<style scoped>\n",
              "    .dataframe tbody tr th:only-of-type {\n",
              "        vertical-align: middle;\n",
              "    }\n",
              "\n",
              "    .dataframe tbody tr th {\n",
              "        vertical-align: top;\n",
              "    }\n",
              "\n",
              "    .dataframe thead th {\n",
              "        text-align: right;\n",
              "    }\n",
              "</style>\n",
              "<table border=\"1\" class=\"dataframe\">\n",
              "  <thead>\n",
              "    <tr style=\"text-align: right;\">\n",
              "      <th></th>\n",
              "      <th>ETHUSDT Open Time</th>\n",
              "      <th>ETHUSDT Open</th>\n",
              "      <th>ETHUSDT High</th>\n",
              "      <th>ETHUSDT Low</th>\n",
              "      <th>ETHUSDT Close</th>\n",
              "      <th>ETHUSDT Volume</th>\n",
              "      <th>ETHUSDT Close Time</th>\n",
              "      <th>ETHUSDT Quote asset volume</th>\n",
              "      <th>ETHUSDT n_trades</th>\n",
              "      <th>ETHUSDT Taker buy base asset volume</th>\n",
              "      <th>ETHUSDT Taker buy quote asset volume</th>\n",
              "      <th>ETHUSDT Ignore</th>\n",
              "    </tr>\n",
              "  </thead>\n",
              "  <tbody>\n",
              "    <tr>\n",
              "      <th>0</th>\n",
              "      <td>1581830340000</td>\n",
              "      <td>270.45</td>\n",
              "      <td>270.65</td>\n",
              "      <td>270.42</td>\n",
              "      <td>270.52</td>\n",
              "      <td>72.89036</td>\n",
              "      <td>1581830399999</td>\n",
              "      <td>19716.701573</td>\n",
              "      <td>73</td>\n",
              "      <td>46.70314</td>\n",
              "      <td>12632.706196</td>\n",
              "      <td>0</td>\n",
              "    </tr>\n",
              "    <tr>\n",
              "      <th>1</th>\n",
              "      <td>1581830400000</td>\n",
              "      <td>270.52</td>\n",
              "      <td>270.52</td>\n",
              "      <td>270.07</td>\n",
              "      <td>270.48</td>\n",
              "      <td>379.79188</td>\n",
              "      <td>1581830459999</td>\n",
              "      <td>102628.158319</td>\n",
              "      <td>222</td>\n",
              "      <td>208.31140</td>\n",
              "      <td>56284.419267</td>\n",
              "      <td>0</td>\n",
              "    </tr>\n",
              "    <tr>\n",
              "      <th>2</th>\n",
              "      <td>1581830460000</td>\n",
              "      <td>270.48</td>\n",
              "      <td>270.98</td>\n",
              "      <td>270.30</td>\n",
              "      <td>270.97</td>\n",
              "      <td>249.07819</td>\n",
              "      <td>1581830519999</td>\n",
              "      <td>67415.423924</td>\n",
              "      <td>191</td>\n",
              "      <td>131.22899</td>\n",
              "      <td>35520.299684</td>\n",
              "      <td>0</td>\n",
              "    </tr>\n",
              "    <tr>\n",
              "      <th>3</th>\n",
              "      <td>1581830520000</td>\n",
              "      <td>270.93</td>\n",
              "      <td>270.93</td>\n",
              "      <td>270.55</td>\n",
              "      <td>270.61</td>\n",
              "      <td>90.83813</td>\n",
              "      <td>1581830579999</td>\n",
              "      <td>24589.030344</td>\n",
              "      <td>109</td>\n",
              "      <td>22.07769</td>\n",
              "      <td>5976.571651</td>\n",
              "      <td>0</td>\n",
              "    </tr>\n",
              "    <tr>\n",
              "      <th>4</th>\n",
              "      <td>1581830580000</td>\n",
              "      <td>270.61</td>\n",
              "      <td>270.67</td>\n",
              "      <td>270.43</td>\n",
              "      <td>270.61</td>\n",
              "      <td>107.55053</td>\n",
              "      <td>1581830639999</td>\n",
              "      <td>29102.482234</td>\n",
              "      <td>72</td>\n",
              "      <td>29.49415</td>\n",
              "      <td>7980.919520</td>\n",
              "      <td>0</td>\n",
              "    </tr>\n",
              "  </tbody>\n",
              "</table>\n",
              "</div>"
            ],
            "text/plain": [
              "   ETHUSDT Open Time  ...  ETHUSDT Ignore\n",
              "0      1581830340000  ...               0\n",
              "1      1581830400000  ...               0\n",
              "2      1581830460000  ...               0\n",
              "3      1581830520000  ...               0\n",
              "4      1581830580000  ...               0\n",
              "\n",
              "[5 rows x 12 columns]"
            ]
          },
          "metadata": {
            "tags": []
          },
          "execution_count": 9
        }
      ]
    },
    {
      "cell_type": "code",
      "metadata": {
        "id": "VkjF1-XuZUH9",
        "colab_type": "code",
        "colab": {
          "base_uri": "https://localhost:8080/",
          "height": 243
        },
        "outputId": "4f363297-c28f-4307-8842-8a0973e84bb6"
      },
      "source": [
        "bf.show_time_skips(coins, CURRENCIES)"
      ],
      "execution_count": 10,
      "outputs": [
        {
          "output_type": "stream",
          "text": [
            "Nanosec default difference:  60000\n",
            "ETHUSDT  Time difference:  21300000\n",
            "between indexes:  4696 , 4697\n",
            "gap starts at:  1582112100000\n",
            "gap ends at:    1582133400000\n",
            "\n",
            "\n",
            "ETHUSDT  Time difference:  7740000\n",
            "between indexes:  24368 , 24369\n",
            "gap starts at:  1583313660000\n",
            "gap ends at:    1583321400000\n",
            "\n",
            "\n"
          ],
          "name": "stdout"
        }
      ]
    },
    {
      "cell_type": "code",
      "metadata": {
        "id": "4koue8dvZibE",
        "colab_type": "code",
        "colab": {}
      },
      "source": [
        "coins = coins[4697:24368]"
      ],
      "execution_count": 0,
      "outputs": []
    },
    {
      "cell_type": "code",
      "metadata": {
        "id": "tppPv56-ZrTz",
        "colab_type": "code",
        "colab": {
          "base_uri": "https://localhost:8080/",
          "height": 34
        },
        "outputId": "71f8b22c-0719-4a3f-9003-9bd55f104869"
      },
      "source": [
        "bf.show_time_skips(coins, CURRENCIES)"
      ],
      "execution_count": 12,
      "outputs": [
        {
          "output_type": "stream",
          "text": [
            "Nanosec default difference:  60000\n"
          ],
          "name": "stdout"
        }
      ]
    },
    {
      "cell_type": "code",
      "metadata": {
        "id": "DH7A5lDwaATN",
        "colab_type": "code",
        "colab": {}
      },
      "source": [
        "coins.set_index(CURRENCIES[0]+' Close Time', inplace=True)"
      ],
      "execution_count": 0,
      "outputs": []
    },
    {
      "cell_type": "code",
      "metadata": {
        "id": "sjTHdD-gaT9Q",
        "colab_type": "code",
        "colab": {}
      },
      "source": [
        "coins.drop([(CURRENCIES[0]+' Open Time'), (CURRENCIES[0]+' Ignore')], axis=1, inplace=True)"
      ],
      "execution_count": 0,
      "outputs": []
    },
    {
      "cell_type": "code",
      "metadata": {
        "id": "05bIUOCmakNu",
        "colab_type": "code",
        "colab": {
          "base_uri": "https://localhost:8080/",
          "height": 272
        },
        "outputId": "b791551e-4063-4da3-ebf9-2b59b46636bb"
      },
      "source": [
        "coins.head()"
      ],
      "execution_count": 15,
      "outputs": [
        {
          "output_type": "execute_result",
          "data": {
            "text/html": [
              "<div>\n",
              "<style scoped>\n",
              "    .dataframe tbody tr th:only-of-type {\n",
              "        vertical-align: middle;\n",
              "    }\n",
              "\n",
              "    .dataframe tbody tr th {\n",
              "        vertical-align: top;\n",
              "    }\n",
              "\n",
              "    .dataframe thead th {\n",
              "        text-align: right;\n",
              "    }\n",
              "</style>\n",
              "<table border=\"1\" class=\"dataframe\">\n",
              "  <thead>\n",
              "    <tr style=\"text-align: right;\">\n",
              "      <th></th>\n",
              "      <th>ETHUSDT Open</th>\n",
              "      <th>ETHUSDT High</th>\n",
              "      <th>ETHUSDT Low</th>\n",
              "      <th>ETHUSDT Close</th>\n",
              "      <th>ETHUSDT Volume</th>\n",
              "      <th>ETHUSDT Quote asset volume</th>\n",
              "      <th>ETHUSDT n_trades</th>\n",
              "      <th>ETHUSDT Taker buy base asset volume</th>\n",
              "      <th>ETHUSDT Taker buy quote asset volume</th>\n",
              "    </tr>\n",
              "    <tr>\n",
              "      <th>ETHUSDT Close Time</th>\n",
              "      <th></th>\n",
              "      <th></th>\n",
              "      <th></th>\n",
              "      <th></th>\n",
              "      <th></th>\n",
              "      <th></th>\n",
              "      <th></th>\n",
              "      <th></th>\n",
              "      <th></th>\n",
              "    </tr>\n",
              "  </thead>\n",
              "  <tbody>\n",
              "    <tr>\n",
              "      <th>1582133459999</th>\n",
              "      <td>281.50</td>\n",
              "      <td>285.00</td>\n",
              "      <td>281.50</td>\n",
              "      <td>284.00</td>\n",
              "      <td>5363.22231</td>\n",
              "      <td>1.523006e+06</td>\n",
              "      <td>1596</td>\n",
              "      <td>4405.72457</td>\n",
              "      <td>1.251009e+06</td>\n",
              "    </tr>\n",
              "    <tr>\n",
              "      <th>1582133519999</th>\n",
              "      <td>284.50</td>\n",
              "      <td>284.50</td>\n",
              "      <td>282.91</td>\n",
              "      <td>283.73</td>\n",
              "      <td>849.05279</td>\n",
              "      <td>2.407136e+05</td>\n",
              "      <td>373</td>\n",
              "      <td>381.29397</td>\n",
              "      <td>1.081573e+05</td>\n",
              "    </tr>\n",
              "    <tr>\n",
              "      <th>1582133579999</th>\n",
              "      <td>283.12</td>\n",
              "      <td>283.28</td>\n",
              "      <td>281.64</td>\n",
              "      <td>283.00</td>\n",
              "      <td>731.97512</td>\n",
              "      <td>2.067279e+05</td>\n",
              "      <td>425</td>\n",
              "      <td>313.61358</td>\n",
              "      <td>8.858496e+04</td>\n",
              "    </tr>\n",
              "    <tr>\n",
              "      <th>1582133639999</th>\n",
              "      <td>283.00</td>\n",
              "      <td>283.63</td>\n",
              "      <td>282.67</td>\n",
              "      <td>283.39</td>\n",
              "      <td>578.78334</td>\n",
              "      <td>1.639332e+05</td>\n",
              "      <td>353</td>\n",
              "      <td>294.96569</td>\n",
              "      <td>8.356447e+04</td>\n",
              "    </tr>\n",
              "    <tr>\n",
              "      <th>1582133699999</th>\n",
              "      <td>283.30</td>\n",
              "      <td>283.69</td>\n",
              "      <td>282.92</td>\n",
              "      <td>283.39</td>\n",
              "      <td>559.30100</td>\n",
              "      <td>1.584016e+05</td>\n",
              "      <td>330</td>\n",
              "      <td>268.61306</td>\n",
              "      <td>7.608924e+04</td>\n",
              "    </tr>\n",
              "  </tbody>\n",
              "</table>\n",
              "</div>"
            ],
            "text/plain": [
              "                    ETHUSDT Open  ...  ETHUSDT Taker buy quote asset volume\n",
              "ETHUSDT Close Time                ...                                      \n",
              "1582133459999             281.50  ...                          1.251009e+06\n",
              "1582133519999             284.50  ...                          1.081573e+05\n",
              "1582133579999             283.12  ...                          8.858496e+04\n",
              "1582133639999             283.00  ...                          8.356447e+04\n",
              "1582133699999             283.30  ...                          7.608924e+04\n",
              "\n",
              "[5 rows x 9 columns]"
            ]
          },
          "metadata": {
            "tags": []
          },
          "execution_count": 15
        }
      ]
    },
    {
      "cell_type": "code",
      "metadata": {
        "id": "3hCC6Gspaln1",
        "colab_type": "code",
        "colab": {
          "base_uri": "https://localhost:8080/",
          "height": 260
        },
        "outputId": "11239e6b-b29a-4275-a2b8-f6547956c9e4"
      },
      "source": [
        "coins.info()"
      ],
      "execution_count": 16,
      "outputs": [
        {
          "output_type": "stream",
          "text": [
            "<class 'pandas.core.frame.DataFrame'>\n",
            "Int64Index: 19671 entries, 1582133459999 to 1583313659999\n",
            "Data columns (total 9 columns):\n",
            "ETHUSDT Open                            19671 non-null float64\n",
            "ETHUSDT High                            19671 non-null float64\n",
            "ETHUSDT Low                             19671 non-null float64\n",
            "ETHUSDT Close                           19671 non-null float64\n",
            "ETHUSDT Volume                          19671 non-null float64\n",
            "ETHUSDT Quote asset volume              19671 non-null float64\n",
            "ETHUSDT n_trades                        19671 non-null int64\n",
            "ETHUSDT Taker buy base asset volume     19671 non-null float64\n",
            "ETHUSDT Taker buy quote asset volume    19671 non-null float64\n",
            "dtypes: float64(8), int64(1)\n",
            "memory usage: 1.5 MB\n"
          ],
          "name": "stdout"
        }
      ]
    },
    {
      "cell_type": "code",
      "metadata": {
        "id": "RgyaWcVEa390",
        "colab_type": "code",
        "colab": {
          "base_uri": "https://localhost:8080/",
          "height": 34
        },
        "outputId": "92221dc6-c34a-4def-f3bc-542745fb1eeb"
      },
      "source": [
        "coins.index[0]"
      ],
      "execution_count": 17,
      "outputs": [
        {
          "output_type": "execute_result",
          "data": {
            "text/plain": [
              "1582133459999"
            ]
          },
          "metadata": {
            "tags": []
          },
          "execution_count": 17
        }
      ]
    },
    {
      "cell_type": "code",
      "metadata": {
        "id": "cBFyypvLa9xD",
        "colab_type": "code",
        "colab": {
          "base_uri": "https://localhost:8080/",
          "height": 52
        },
        "outputId": "fae1e75d-97a9-4948-e70c-74d919c6679b"
      },
      "source": [
        "print(datetime.fromtimestamp(coins.index[0]/1000))\n",
        "print(datetime.fromtimestamp(coins.index[-1]/1000))\n"
      ],
      "execution_count": 18,
      "outputs": [
        {
          "output_type": "stream",
          "text": [
            "2020-02-19 17:30:59.999000\n",
            "2020-03-04 09:20:59.999000\n"
          ],
          "name": "stdout"
        }
      ]
    },
    {
      "cell_type": "code",
      "metadata": {
        "id": "7B2tAOepb_iA",
        "colab_type": "code",
        "colab": {}
      },
      "source": [
        ""
      ],
      "execution_count": 0,
      "outputs": []
    }
  ]
}