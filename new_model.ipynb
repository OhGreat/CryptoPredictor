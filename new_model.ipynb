{
  "nbformat": 4,
  "nbformat_minor": 0,
  "metadata": {
    "colab": {
      "name": "new_model.ipynb",
      "provenance": [],
      "collapsed_sections": [],
      "toc_visible": true
    },
    "kernelspec": {
      "name": "python3",
      "display_name": "Python 3"
    }
  },
  "cells": [
    {
      "cell_type": "code",
      "metadata": {
        "id": "ZGbBvL72WRmL",
        "colab_type": "code",
        "outputId": "bbec3d9a-a7d9-45f2-989b-06197eb16489",
        "colab": {
          "base_uri": "https://localhost:8080/",
          "height": 558
        }
      },
      "source": [
        "!pip install python-binance"
      ],
      "execution_count": 1,
      "outputs": [
        {
          "output_type": "stream",
          "text": [
            "Requirement already satisfied: python-binance in /usr/local/lib/python3.6/dist-packages (0.7.5)\n",
            "Requirement already satisfied: Twisted in /usr/local/lib/python3.6/dist-packages (from python-binance) (19.10.0)\n",
            "Requirement already satisfied: service-identity in /usr/local/lib/python3.6/dist-packages (from python-binance) (18.1.0)\n",
            "Requirement already satisfied: requests in /usr/local/lib/python3.6/dist-packages (from python-binance) (2.21.0)\n",
            "Requirement already satisfied: cryptography in /usr/local/lib/python3.6/dist-packages (from python-binance) (2.8)\n",
            "Requirement already satisfied: certifi in /usr/local/lib/python3.6/dist-packages (from python-binance) (2019.11.28)\n",
            "Requirement already satisfied: autobahn in /usr/local/lib/python3.6/dist-packages (from python-binance) (20.3.1)\n",
            "Requirement already satisfied: pyOpenSSL in /usr/local/lib/python3.6/dist-packages (from python-binance) (19.1.0)\n",
            "Requirement already satisfied: dateparser in /usr/local/lib/python3.6/dist-packages (from python-binance) (0.7.2)\n",
            "Requirement already satisfied: six in /usr/local/lib/python3.6/dist-packages (from python-binance) (1.12.0)\n",
            "Requirement already satisfied: urllib3 in /usr/local/lib/python3.6/dist-packages (from python-binance) (1.24.3)\n",
            "Requirement already satisfied: PyHamcrest>=1.9.0 in /usr/local/lib/python3.6/dist-packages (from Twisted->python-binance) (2.0.2)\n",
            "Requirement already satisfied: hyperlink>=17.1.1 in /usr/local/lib/python3.6/dist-packages (from Twisted->python-binance) (19.0.0)\n",
            "Requirement already satisfied: constantly>=15.1 in /usr/local/lib/python3.6/dist-packages (from Twisted->python-binance) (15.1.0)\n",
            "Requirement already satisfied: zope.interface>=4.4.2 in /usr/local/lib/python3.6/dist-packages (from Twisted->python-binance) (4.7.1)\n",
            "Requirement already satisfied: attrs>=17.4.0 in /usr/local/lib/python3.6/dist-packages (from Twisted->python-binance) (19.3.0)\n",
            "Requirement already satisfied: incremental>=16.10.1 in /usr/local/lib/python3.6/dist-packages (from Twisted->python-binance) (17.5.0)\n",
            "Requirement already satisfied: Automat>=0.3.0 in /usr/local/lib/python3.6/dist-packages (from Twisted->python-binance) (20.2.0)\n",
            "Requirement already satisfied: pyasn1 in /usr/local/lib/python3.6/dist-packages (from service-identity->python-binance) (0.4.8)\n",
            "Requirement already satisfied: pyasn1-modules in /usr/local/lib/python3.6/dist-packages (from service-identity->python-binance) (0.2.8)\n",
            "Requirement already satisfied: chardet<3.1.0,>=3.0.2 in /usr/local/lib/python3.6/dist-packages (from requests->python-binance) (3.0.4)\n",
            "Requirement already satisfied: idna<2.9,>=2.5 in /usr/local/lib/python3.6/dist-packages (from requests->python-binance) (2.8)\n",
            "Requirement already satisfied: cffi!=1.11.3,>=1.8 in /usr/local/lib/python3.6/dist-packages (from cryptography->python-binance) (1.14.0)\n",
            "Requirement already satisfied: txaio>=20.1.1 in /usr/local/lib/python3.6/dist-packages (from autobahn->python-binance) (20.1.1)\n",
            "Requirement already satisfied: tzlocal in /usr/local/lib/python3.6/dist-packages (from dateparser->python-binance) (1.5.1)\n",
            "Requirement already satisfied: pytz in /usr/local/lib/python3.6/dist-packages (from dateparser->python-binance) (2018.9)\n",
            "Requirement already satisfied: python-dateutil in /usr/local/lib/python3.6/dist-packages (from dateparser->python-binance) (2.6.1)\n",
            "Requirement already satisfied: regex in /usr/local/lib/python3.6/dist-packages (from dateparser->python-binance) (2019.12.20)\n",
            "Requirement already satisfied: setuptools in /usr/local/lib/python3.6/dist-packages (from zope.interface>=4.4.2->Twisted->python-binance) (45.2.0)\n",
            "Requirement already satisfied: pycparser in /usr/local/lib/python3.6/dist-packages (from cffi!=1.11.3,>=1.8->cryptography->python-binance) (2.19)\n"
          ],
          "name": "stdout"
        }
      ]
    },
    {
      "cell_type": "code",
      "metadata": {
        "id": "w0Y2KyG4WTPM",
        "colab_type": "code",
        "colab": {}
      },
      "source": [
        "import numpy as np\n",
        "import pandas as pd\n",
        "import matplotlib.pyplot as plt\n",
        "import seaborn as sns\n",
        "from datetime import datetime, timedelta\n",
        "import time\n",
        "import binance_framework as bf\n",
        "from collections import deque\n",
        "import random"
      ],
      "execution_count": 0,
      "outputs": []
    },
    {
      "cell_type": "code",
      "metadata": {
        "id": "uHyZOoVvUsVj",
        "colab_type": "code",
        "colab": {}
      },
      "source": [
        "from __future__ import absolute_import, division, print_function, unicode_literals\n",
        "\n",
        "try:\n",
        "  # %tensorflow_version only exists in Colab.\n",
        "  %tensorflow_version 2.x\n",
        "except Exception:\n",
        "  pass\n",
        "\n",
        "import tensorflow as tf"
      ],
      "execution_count": 0,
      "outputs": []
    },
    {
      "cell_type": "code",
      "metadata": {
        "id": "svttVZUTWjOm",
        "colab_type": "code",
        "outputId": "3f7664f6-11f0-4263-ccfa-4a55c3c1fde6",
        "colab": {
          "base_uri": "https://localhost:8080/",
          "height": 312
        }
      },
      "source": [
        "#Note: BCH HAS MANY NULL VALUES, BETTER NOT INCLUDE IT\n",
        "currencies = ['ETHUSDT']\n",
        "coins = bf.get_data_by_intervals(50,currencies,bf.INTERVAL_1MINUTE)"
      ],
      "execution_count": 3,
      "outputs": [
        {
          "output_type": "stream",
          "text": [
            "<class 'pandas.core.frame.DataFrame'>\n",
            "RangeIndex: 24951 entries, 0 to 24950\n",
            "Data columns (total 12 columns):\n",
            "ETHUSDT Open Time                       24951 non-null object\n",
            "ETHUSDT Open                            24951 non-null object\n",
            "ETHUSDT High                            24951 non-null object\n",
            "ETHUSDT Low                             24951 non-null object\n",
            "ETHUSDT Close                           24951 non-null object\n",
            "ETHUSDT Volume                          24951 non-null object\n",
            "ETHUSDT Close Time                      24951 non-null object\n",
            "ETHUSDT Quote asset volume              24951 non-null object\n",
            "ETHUSDT n_trades                        24951 non-null object\n",
            "ETHUSDT Taker buy base asset volume     24951 non-null object\n",
            "ETHUSDT Taker buy quote asset volume    24951 non-null object\n",
            "ETHUSDT Ignore                          24951 non-null object\n",
            "dtypes: object(12)\n",
            "memory usage: 2.3+ MB\n"
          ],
          "name": "stdout"
        }
      ]
    },
    {
      "cell_type": "code",
      "metadata": {
        "id": "MxdVkOjxU2ye",
        "colab_type": "code",
        "colab": {}
      },
      "source": [
        "coins.info()"
      ],
      "execution_count": 0,
      "outputs": []
    },
    {
      "cell_type": "code",
      "metadata": {
        "id": "O323TBv1XC5A",
        "colab_type": "code",
        "outputId": "11577864-eae8-49cd-977d-648d6d98cdb3",
        "colab": {
          "base_uri": "https://localhost:8080/",
          "height": 225
        }
      },
      "source": [
        "bf.show_time_skips(coins, currencies)"
      ],
      "execution_count": 4,
      "outputs": [
        {
          "output_type": "stream",
          "text": [
            "ETHUSDT  Time difference:  21300000\n",
            "between indexes:  4715 , 4716\n",
            "gap starts at:  1582112100000\n",
            "gap ends at:    1582133400000\n",
            "\n",
            "\n",
            "ETHUSDT  Time difference:  7740000\n",
            "between indexes:  24387 , 24388\n",
            "gap starts at:  1583313660000\n",
            "gap ends at:    1583321400000\n",
            "\n",
            "\n"
          ],
          "name": "stdout"
        }
      ]
    },
    {
      "cell_type": "code",
      "metadata": {
        "id": "aRIQYLjEXssM",
        "colab_type": "code",
        "colab": {}
      },
      "source": [
        ""
      ],
      "execution_count": 0,
      "outputs": []
    },
    {
      "cell_type": "code",
      "metadata": {
        "id": "3djBsDRgg2wx",
        "colab_type": "code",
        "colab": {}
      },
      "source": [
        ""
      ],
      "execution_count": 0,
      "outputs": []
    }
  ]
}