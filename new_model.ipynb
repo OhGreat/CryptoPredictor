{
 "cells": [
  {
   "cell_type": "code",
   "execution_count": 1,
   "metadata": {
    "colab": {},
    "colab_type": "code",
    "id": "w0Y2KyG4WTPM"
   },
   "outputs": [],
   "source": [
    "import numpy as np\n",
    "import pandas as pd\n",
    "import matplotlib.pyplot as plt\n",
    "import seaborn as sns\n",
    "from datetime import datetime, timedelta\n",
    "import time\n",
    "import binance_framework as bf\n",
    "from collections import deque\n",
    "import random"
   ]
  },
  {
   "cell_type": "code",
   "execution_count": 2,
   "metadata": {
    "colab": {
     "base_uri": "https://localhost:8080/",
     "height": 34
    },
    "colab_type": "code",
    "id": "uHyZOoVvUsVj",
    "outputId": "1d2b50c7-d98d-48ce-d184-9ab000a3b510"
   },
   "outputs": [],
   "source": [
    "from __future__ import absolute_import, division, print_function, unicode_literals\n",
    "import tensorflow as tf"
   ]
  },
  {
   "cell_type": "code",
   "execution_count": 3,
   "metadata": {
    "colab": {},
    "colab_type": "code",
    "id": "svttVZUTWjOm"
   },
   "outputs": [],
   "source": [
    "CURRENCIES = ['ETHUSDT']\n",
    "SEQUENCE_LEN = 128\n",
    "FUTURE_PERIOD_PREDICT = 5\n",
    "RATIO_TO_PREDICT = 'ETHUSDT'\n",
    "EPOCHS = 20\n",
    "BATCH_SIZE = 128\n",
    "NAME = 'SEQ-'+ str(SEQUENCE_LEN)+'-FUTPRED-'+str(FUTURE_PERIOD_PREDICT)+'-PRED-'+str(time.time())"
   ]
  },
  {
   "cell_type": "code",
   "execution_count": 7,
   "metadata": {
    "colab": {},
    "colab_type": "code",
    "id": "jtynF_CxXwvV"
   },
   "outputs": [],
   "source": [
    "coins = bf.get_data_by_intervals(300,CURRENCIES,bf.INTERVAL_1MINUTE)"
   ]
  },
  {
   "cell_type": "code",
   "execution_count": 8,
   "metadata": {
    "colab": {},
    "colab_type": "code",
    "id": "j2ixlbxjY8AF"
   },
   "outputs": [],
   "source": [
    "coins.to_csv('eth_1min_300.csv',index=False)"
   ]
  },
  {
   "cell_type": "code",
   "execution_count": 10,
   "metadata": {
    "colab": {},
    "colab_type": "code",
    "id": "NQoT_IHEZINw"
   },
   "outputs": [],
   "source": [
    "coins  = pd.read_csv('eth_1min_300.csv')"
   ]
  },
  {
   "cell_type": "code",
   "execution_count": 11,
   "metadata": {
    "colab": {
     "base_uri": "https://localhost:8080/",
     "height": 312
    },
    "colab_type": "code",
    "id": "SA4Gdm_UZQw-",
    "outputId": "1e66eef8-13e1-45ee-916d-c32fc0cab19d"
   },
   "outputs": [
    {
     "name": "stdout",
     "output_type": "stream",
     "text": [
      "<class 'pandas.core.frame.DataFrame'>\n",
      "RangeIndex: 149701 entries, 0 to 149700\n",
      "Data columns (total 12 columns):\n",
      " #   Column                                Non-Null Count   Dtype  \n",
      "---  ------                                --------------   -----  \n",
      " 0   ETHUSDT Open Time                     149701 non-null  int64  \n",
      " 1   ETHUSDT Open                          149701 non-null  float64\n",
      " 2   ETHUSDT High                          149701 non-null  float64\n",
      " 3   ETHUSDT Low                           149701 non-null  float64\n",
      " 4   ETHUSDT Close                         149701 non-null  float64\n",
      " 5   ETHUSDT Volume                        149701 non-null  float64\n",
      " 6   ETHUSDT Close Time                    149701 non-null  int64  \n",
      " 7   ETHUSDT Quote asset volume            149701 non-null  float64\n",
      " 8   ETHUSDT n_trades                      149701 non-null  int64  \n",
      " 9   ETHUSDT Taker buy base asset volume   149701 non-null  float64\n",
      " 10  ETHUSDT Taker buy quote asset volume  149701 non-null  float64\n",
      " 11  ETHUSDT Ignore                        149701 non-null  int64  \n",
      "dtypes: float64(8), int64(4)\n",
      "memory usage: 13.7 MB\n"
     ]
    }
   ],
   "source": [
    "coins.info()"
   ]
  },
  {
   "cell_type": "code",
   "execution_count": 12,
   "metadata": {
    "colab": {
     "base_uri": "https://localhost:8080/",
     "height": 223
    },
    "colab_type": "code",
    "id": "nnzd90ztZSJN",
    "outputId": "850da7e2-9f72-41b5-bea1-f28071c996c6"
   },
   "outputs": [
    {
     "data": {
      "text/html": [
       "<div>\n",
       "<style scoped>\n",
       "    .dataframe tbody tr th:only-of-type {\n",
       "        vertical-align: middle;\n",
       "    }\n",
       "\n",
       "    .dataframe tbody tr th {\n",
       "        vertical-align: top;\n",
       "    }\n",
       "\n",
       "    .dataframe thead th {\n",
       "        text-align: right;\n",
       "    }\n",
       "</style>\n",
       "<table border=\"1\" class=\"dataframe\">\n",
       "  <thead>\n",
       "    <tr style=\"text-align: right;\">\n",
       "      <th></th>\n",
       "      <th>ETHUSDT Open Time</th>\n",
       "      <th>ETHUSDT Open</th>\n",
       "      <th>ETHUSDT High</th>\n",
       "      <th>ETHUSDT Low</th>\n",
       "      <th>ETHUSDT Close</th>\n",
       "      <th>ETHUSDT Volume</th>\n",
       "      <th>ETHUSDT Close Time</th>\n",
       "      <th>ETHUSDT Quote asset volume</th>\n",
       "      <th>ETHUSDT n_trades</th>\n",
       "      <th>ETHUSDT Taker buy base asset volume</th>\n",
       "      <th>ETHUSDT Taker buy quote asset volume</th>\n",
       "      <th>ETHUSDT Ignore</th>\n",
       "    </tr>\n",
       "  </thead>\n",
       "  <tbody>\n",
       "    <tr>\n",
       "      <th>0</th>\n",
       "      <td>1574349360000</td>\n",
       "      <td>160.69</td>\n",
       "      <td>160.85</td>\n",
       "      <td>160.22</td>\n",
       "      <td>160.42</td>\n",
       "      <td>1810.54483</td>\n",
       "      <td>1574349419999</td>\n",
       "      <td>290646.952740</td>\n",
       "      <td>438</td>\n",
       "      <td>1297.35970</td>\n",
       "      <td>208236.038870</td>\n",
       "      <td>0</td>\n",
       "    </tr>\n",
       "    <tr>\n",
       "      <th>1</th>\n",
       "      <td>1574349420000</td>\n",
       "      <td>160.38</td>\n",
       "      <td>160.78</td>\n",
       "      <td>160.25</td>\n",
       "      <td>160.75</td>\n",
       "      <td>1720.26172</td>\n",
       "      <td>1574349479999</td>\n",
       "      <td>276106.345627</td>\n",
       "      <td>350</td>\n",
       "      <td>1372.16630</td>\n",
       "      <td>220235.288980</td>\n",
       "      <td>0</td>\n",
       "    </tr>\n",
       "    <tr>\n",
       "      <th>2</th>\n",
       "      <td>1574349480000</td>\n",
       "      <td>160.70</td>\n",
       "      <td>160.78</td>\n",
       "      <td>160.34</td>\n",
       "      <td>160.37</td>\n",
       "      <td>1395.59348</td>\n",
       "      <td>1574349539999</td>\n",
       "      <td>224053.323758</td>\n",
       "      <td>307</td>\n",
       "      <td>422.60231</td>\n",
       "      <td>67836.519003</td>\n",
       "      <td>0</td>\n",
       "    </tr>\n",
       "    <tr>\n",
       "      <th>3</th>\n",
       "      <td>1574349540000</td>\n",
       "      <td>160.37</td>\n",
       "      <td>160.52</td>\n",
       "      <td>160.30</td>\n",
       "      <td>160.36</td>\n",
       "      <td>1437.55787</td>\n",
       "      <td>1574349599999</td>\n",
       "      <td>230559.363933</td>\n",
       "      <td>311</td>\n",
       "      <td>1194.79611</td>\n",
       "      <td>191624.745779</td>\n",
       "      <td>0</td>\n",
       "    </tr>\n",
       "    <tr>\n",
       "      <th>4</th>\n",
       "      <td>1574349600000</td>\n",
       "      <td>160.36</td>\n",
       "      <td>160.93</td>\n",
       "      <td>160.21</td>\n",
       "      <td>160.91</td>\n",
       "      <td>1226.09076</td>\n",
       "      <td>1574349659999</td>\n",
       "      <td>196834.782570</td>\n",
       "      <td>416</td>\n",
       "      <td>957.50325</td>\n",
       "      <td>153716.993099</td>\n",
       "      <td>0</td>\n",
       "    </tr>\n",
       "  </tbody>\n",
       "</table>\n",
       "</div>"
      ],
      "text/plain": [
       "   ETHUSDT Open Time  ETHUSDT Open  ETHUSDT High  ETHUSDT Low  ETHUSDT Close  \\\n",
       "0      1574349360000        160.69        160.85       160.22         160.42   \n",
       "1      1574349420000        160.38        160.78       160.25         160.75   \n",
       "2      1574349480000        160.70        160.78       160.34         160.37   \n",
       "3      1574349540000        160.37        160.52       160.30         160.36   \n",
       "4      1574349600000        160.36        160.93       160.21         160.91   \n",
       "\n",
       "   ETHUSDT Volume  ETHUSDT Close Time  ETHUSDT Quote asset volume  \\\n",
       "0      1810.54483       1574349419999               290646.952740   \n",
       "1      1720.26172       1574349479999               276106.345627   \n",
       "2      1395.59348       1574349539999               224053.323758   \n",
       "3      1437.55787       1574349599999               230559.363933   \n",
       "4      1226.09076       1574349659999               196834.782570   \n",
       "\n",
       "   ETHUSDT n_trades  ETHUSDT Taker buy base asset volume  \\\n",
       "0               438                           1297.35970   \n",
       "1               350                           1372.16630   \n",
       "2               307                            422.60231   \n",
       "3               311                           1194.79611   \n",
       "4               416                            957.50325   \n",
       "\n",
       "   ETHUSDT Taker buy quote asset volume  ETHUSDT Ignore  \n",
       "0                         208236.038870               0  \n",
       "1                         220235.288980               0  \n",
       "2                          67836.519003               0  \n",
       "3                         191624.745779               0  \n",
       "4                         153716.993099               0  "
      ]
     },
     "execution_count": 12,
     "metadata": {},
     "output_type": "execute_result"
    }
   ],
   "source": [
    "coins.head()"
   ]
  },
  {
   "cell_type": "code",
   "execution_count": 13,
   "metadata": {
    "colab": {
     "base_uri": "https://localhost:8080/",
     "height": 243
    },
    "colab_type": "code",
    "id": "VkjF1-XuZUH9",
    "outputId": "4f363297-c28f-4307-8842-8a0973e84bb6"
   },
   "outputs": [
    {
     "name": "stdout",
     "output_type": "stream",
     "text": [
      "Nanosec default difference:  60000\n",
      "ETHUSDT  Time difference:  7260000\n",
      "between indexes:  4963 , 4964\n",
      "gap starts at:  1574647140000\n",
      "gap ends at:    1574654400000\n",
      "\n",
      "\n",
      "ETHUSDT  Time difference:  3660000\n",
      "between indexes:  114283 , 114284\n",
      "gap starts at:  1581213540000\n",
      "gap ends at:    1581217200000\n",
      "\n",
      "\n",
      "ETHUSDT  Time difference:  21300000\n",
      "between indexes:  129199 , 129200\n",
      "gap starts at:  1582112100000\n",
      "gap ends at:    1582133400000\n",
      "\n",
      "\n",
      "ETHUSDT  Time difference:  7740000\n",
      "between indexes:  148871 , 148872\n",
      "gap starts at:  1583313660000\n",
      "gap ends at:    1583321400000\n",
      "\n",
      "\n"
     ]
    }
   ],
   "source": [
    "bf.show_time_skips(coins, CURRENCIES)"
   ]
  },
  {
   "cell_type": "code",
   "execution_count": 14,
   "metadata": {
    "colab": {},
    "colab_type": "code",
    "id": "4koue8dvZibE"
   },
   "outputs": [],
   "source": [
    "coins = coins[4964:114283]"
   ]
  },
  {
   "cell_type": "code",
   "execution_count": 15,
   "metadata": {
    "colab": {
     "base_uri": "https://localhost:8080/",
     "height": 34
    },
    "colab_type": "code",
    "id": "tppPv56-ZrTz",
    "outputId": "71f8b22c-0719-4a3f-9003-9bd55f104869"
   },
   "outputs": [
    {
     "name": "stdout",
     "output_type": "stream",
     "text": [
      "Nanosec default difference:  60000\n"
     ]
    }
   ],
   "source": [
    "bf.show_time_skips(coins, CURRENCIES)"
   ]
  },
  {
   "cell_type": "code",
   "execution_count": null,
   "metadata": {
    "colab": {},
    "colab_type": "code",
    "id": "DH7A5lDwaATN"
   },
   "outputs": [],
   "source": [
    "coins.set_index(CURRENCIES[0]+' Close Time', inplace=True)"
   ]
  },
  {
   "cell_type": "code",
   "execution_count": null,
   "metadata": {
    "colab": {},
    "colab_type": "code",
    "id": "sjTHdD-gaT9Q"
   },
   "outputs": [],
   "source": [
    "coins.drop([(CURRENCIES[0]+' Open Time'), (CURRENCIES[0]+' Ignore')], axis=1, inplace=True)"
   ]
  },
  {
   "cell_type": "code",
   "execution_count": null,
   "metadata": {
    "colab": {
     "base_uri": "https://localhost:8080/",
     "height": 272
    },
    "colab_type": "code",
    "id": "05bIUOCmakNu",
    "outputId": "b791551e-4063-4da3-ebf9-2b59b46636bb"
   },
   "outputs": [],
   "source": [
    "coins.head()"
   ]
  },
  {
   "cell_type": "code",
   "execution_count": null,
   "metadata": {
    "colab": {
     "base_uri": "https://localhost:8080/",
     "height": 260
    },
    "colab_type": "code",
    "id": "3hCC6Gspaln1",
    "outputId": "11239e6b-b29a-4275-a2b8-f6547956c9e4"
   },
   "outputs": [],
   "source": [
    "coins.info()"
   ]
  },
  {
   "cell_type": "code",
   "execution_count": null,
   "metadata": {
    "colab": {
     "base_uri": "https://localhost:8080/",
     "height": 34
    },
    "colab_type": "code",
    "id": "RgyaWcVEa390",
    "outputId": "92221dc6-c34a-4def-f3bc-542745fb1eeb"
   },
   "outputs": [],
   "source": [
    "coins.index[0]"
   ]
  },
  {
   "cell_type": "code",
   "execution_count": null,
   "metadata": {
    "colab": {
     "base_uri": "https://localhost:8080/",
     "height": 52
    },
    "colab_type": "code",
    "id": "cBFyypvLa9xD",
    "outputId": "fae1e75d-97a9-4948-e70c-74d919c6679b"
   },
   "outputs": [],
   "source": [
    "print(datetime.fromtimestamp(coins.index[0]/1000))\n",
    "print(datetime.fromtimestamp(coins.index[-1]/1000))"
   ]
  },
  {
   "cell_type": "code",
   "execution_count": 16,
   "metadata": {
    "colab": {},
    "colab_type": "code",
    "id": "7B2tAOepb_iA"
   },
   "outputs": [],
   "source": [
    "def classify(current_price, future_price):\n",
    "    if future_price > current_price:\n",
    "        return 1\n",
    "    return 0"
   ]
  },
  {
   "cell_type": "code",
   "execution_count": 17,
   "metadata": {},
   "outputs": [],
   "source": [
    "coins['Future Value'] = coins[RATIO_TO_PREDICT+' Close'].shift(-FUTURE_PERIOD_PREDICT)"
   ]
  },
  {
   "cell_type": "code",
   "execution_count": 18,
   "metadata": {},
   "outputs": [],
   "source": [
    "coins['Target'] = list(map(classify, coins[CURRENCIES[0]+' Close'], coins['Future Value']))"
   ]
  },
  {
   "cell_type": "code",
   "execution_count": 19,
   "metadata": {},
   "outputs": [],
   "source": [
    "coins.dropna(inplace=True)\n",
    "coins.reset_index(inplace=True)"
   ]
  },
  {
   "cell_type": "code",
   "execution_count": 20,
   "metadata": {},
   "outputs": [
    {
     "data": {
      "text/plain": [
       "21862"
      ]
     },
     "execution_count": 20,
     "metadata": {},
     "output_type": "execute_result"
    }
   ],
   "source": [
    "#gotta split in train and test data\n",
    "val_len = int(len(coins)*0.2)\n",
    "val_len"
   ]
  },
  {
   "cell_type": "code",
   "execution_count": 21,
   "metadata": {},
   "outputs": [],
   "source": [
    "validation_data = coins[(len(coins)-val_len):]\n",
    "validation_data.reset_index(inplace=True)"
   ]
  },
  {
   "cell_type": "code",
   "execution_count": 22,
   "metadata": {},
   "outputs": [],
   "source": [
    "coins = coins[:(len(coins)-val_len)]\n",
    "coins.reset_index(inplace=True)"
   ]
  },
  {
   "cell_type": "code",
   "execution_count": 23,
   "metadata": {},
   "outputs": [
    {
     "name": "stdout",
     "output_type": "stream",
     "text": [
      "Nanosec default difference:  60000\n"
     ]
    }
   ],
   "source": [
    "bf.show_time_skips(coins, CURRENCIES)"
   ]
  },
  {
   "cell_type": "code",
   "execution_count": 24,
   "metadata": {},
   "outputs": [],
   "source": [
    "X_train = coins.drop(['Future Value', 'Target'], axis=1)\n",
    "y_train = coins['Target']"
   ]
  },
  {
   "cell_type": "code",
   "execution_count": 25,
   "metadata": {},
   "outputs": [],
   "source": [
    "X_test = validation_data.drop(['Future Value', 'Target'], axis=1)\n",
    "y_test = validation_data['Target']"
   ]
  },
  {
   "cell_type": "code",
   "execution_count": 26,
   "metadata": {},
   "outputs": [],
   "source": [
    "from sklearn.preprocessing import MinMaxScaler"
   ]
  },
  {
   "cell_type": "code",
   "execution_count": 27,
   "metadata": {},
   "outputs": [],
   "source": [
    "scaler = MinMaxScaler()"
   ]
  },
  {
   "cell_type": "code",
   "execution_count": 28,
   "metadata": {},
   "outputs": [],
   "source": [
    "X_train = scaler.fit_transform(X_train)\n",
    "X_test = scaler.transform(X_test)"
   ]
  },
  {
   "cell_type": "code",
   "execution_count": null,
   "metadata": {},
   "outputs": [],
   "source": []
  }
 ],
 "metadata": {
  "colab": {
   "collapsed_sections": [],
   "name": "new_model.ipynb",
   "provenance": [],
   "toc_visible": true
  },
  "kernelspec": {
   "display_name": "Python 3",
   "language": "python",
   "name": "python3"
  },
  "language_info": {
   "codemirror_mode": {
    "name": "ipython",
    "version": 3
   },
   "file_extension": ".py",
   "mimetype": "text/x-python",
   "name": "python",
   "nbconvert_exporter": "python",
   "pygments_lexer": "ipython3",
   "version": "3.7.0"
  }
 },
 "nbformat": 4,
 "nbformat_minor": 1
}
