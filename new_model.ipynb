{
 "cells": [
  {
   "cell_type": "code",
   "execution_count": 1,
   "metadata": {
    "colab": {},
    "colab_type": "code",
    "id": "w0Y2KyG4WTPM"
   },
   "outputs": [],
   "source": [
    "import numpy as np\n",
    "import pandas as pd\n",
    "import matplotlib.pyplot as plt\n",
    "import seaborn as sns\n",
    "from datetime import datetime, timedelta\n",
    "import time\n",
    "import binance_framework as bf\n",
    "from collections import deque\n",
    "import random"
   ]
  },
  {
   "cell_type": "code",
   "execution_count": 2,
   "metadata": {
    "colab": {
     "base_uri": "https://localhost:8080/",
     "height": 34
    },
    "colab_type": "code",
    "id": "uHyZOoVvUsVj",
    "outputId": "1d2b50c7-d98d-48ce-d184-9ab000a3b510"
   },
   "outputs": [],
   "source": [
    "from __future__ import absolute_import, division, print_function, unicode_literals\n",
    "import tensorflow as tf"
   ]
  },
  {
   "cell_type": "code",
   "execution_count": 3,
   "metadata": {
    "colab": {},
    "colab_type": "code",
    "id": "svttVZUTWjOm"
   },
   "outputs": [],
   "source": [
    "CURRENCIES = ['ETHUSDT','BTCUSDT', 'XRPUSDT','LTCUSDT']\n",
    "TARGET_CURRENCY = 'ETHUSDT'\n",
    "SEQUENCE_LEN = 128\n",
    "FUTURE_PERIOD_PREDICT = 5\n",
    "RATIO_TO_PREDICT = 'ETHUSDT'\n",
    "EPOCHS = 20\n",
    "BATCH_SIZE = 128\n",
    "NAME = 'SEQ-'+ str(SEQUENCE_LEN)+'-FUTPRED-'+str(FUTURE_PERIOD_PREDICT)+'-PRED-'+str(time.time())"
   ]
  },
  {
   "cell_type": "code",
   "execution_count": 4,
   "metadata": {
    "colab": {},
    "colab_type": "code",
    "id": "jtynF_CxXwvV"
   },
   "outputs": [],
   "source": [
    "#coins = bf.get_data_by_intervals(300,CURRENCIES,bf.INTERVAL_1MINUTE)"
   ]
  },
  {
   "cell_type": "code",
   "execution_count": 5,
   "metadata": {
    "colab": {},
    "colab_type": "code",
    "id": "j2ixlbxjY8AF"
   },
   "outputs": [],
   "source": [
    "#coins.to_csv('all_1min_300.csv',index=False)"
   ]
  },
  {
   "cell_type": "code",
   "execution_count": 6,
   "metadata": {
    "colab": {},
    "colab_type": "code",
    "id": "NQoT_IHEZINw"
   },
   "outputs": [],
   "source": [
    "coins  = pd.read_csv('all_1min_300.csv')"
   ]
  },
  {
   "cell_type": "code",
   "execution_count": 7,
   "metadata": {
    "colab": {
     "base_uri": "https://localhost:8080/",
     "height": 312
    },
    "colab_type": "code",
    "id": "SA4Gdm_UZQw-",
    "outputId": "1e66eef8-13e1-45ee-916d-c32fc0cab19d"
   },
   "outputs": [
    {
     "name": "stdout",
     "output_type": "stream",
     "text": [
      "<class 'pandas.core.frame.DataFrame'>\n",
      "RangeIndex: 149701 entries, 0 to 149700\n",
      "Data columns (total 48 columns):\n",
      " #   Column                                Non-Null Count   Dtype  \n",
      "---  ------                                --------------   -----  \n",
      " 0   ETHUSDT Open Time                     149701 non-null  int64  \n",
      " 1   ETHUSDT Open                          149701 non-null  float64\n",
      " 2   ETHUSDT High                          149701 non-null  float64\n",
      " 3   ETHUSDT Low                           149701 non-null  float64\n",
      " 4   ETHUSDT Close                         149701 non-null  float64\n",
      " 5   ETHUSDT Volume                        149701 non-null  float64\n",
      " 6   ETHUSDT Close Time                    149701 non-null  int64  \n",
      " 7   ETHUSDT Quote asset volume            149701 non-null  float64\n",
      " 8   ETHUSDT n_trades                      149701 non-null  int64  \n",
      " 9   ETHUSDT Taker buy base asset volume   149701 non-null  float64\n",
      " 10  ETHUSDT Taker buy quote asset volume  149701 non-null  float64\n",
      " 11  ETHUSDT Ignore                        149701 non-null  int64  \n",
      " 12  BTCUSDT Open Time                     149701 non-null  int64  \n",
      " 13  BTCUSDT Open                          149701 non-null  float64\n",
      " 14  BTCUSDT High                          149701 non-null  float64\n",
      " 15  BTCUSDT Low                           149701 non-null  float64\n",
      " 16  BTCUSDT Close                         149701 non-null  float64\n",
      " 17  BTCUSDT Volume                        149701 non-null  float64\n",
      " 18  BTCUSDT Close Time                    149701 non-null  int64  \n",
      " 19  BTCUSDT Quote asset volume            149701 non-null  float64\n",
      " 20  BTCUSDT n_trades                      149701 non-null  int64  \n",
      " 21  BTCUSDT Taker buy base asset volume   149701 non-null  float64\n",
      " 22  BTCUSDT Taker buy quote asset volume  149701 non-null  float64\n",
      " 23  BTCUSDT Ignore                        149701 non-null  int64  \n",
      " 24  XRPUSDT Open Time                     149701 non-null  int64  \n",
      " 25  XRPUSDT Open                          149701 non-null  float64\n",
      " 26  XRPUSDT High                          149701 non-null  float64\n",
      " 27  XRPUSDT Low                           149701 non-null  float64\n",
      " 28  XRPUSDT Close                         149701 non-null  float64\n",
      " 29  XRPUSDT Volume                        149701 non-null  float64\n",
      " 30  XRPUSDT Close Time                    149701 non-null  int64  \n",
      " 31  XRPUSDT Quote asset volume            149701 non-null  float64\n",
      " 32  XRPUSDT n_trades                      149701 non-null  int64  \n",
      " 33  XRPUSDT Taker buy base asset volume   149701 non-null  float64\n",
      " 34  XRPUSDT Taker buy quote asset volume  149701 non-null  float64\n",
      " 35  XRPUSDT Ignore                        149701 non-null  int64  \n",
      " 36  LTCUSDT Open Time                     149701 non-null  int64  \n",
      " 37  LTCUSDT Open                          149701 non-null  float64\n",
      " 38  LTCUSDT High                          149701 non-null  float64\n",
      " 39  LTCUSDT Low                           149701 non-null  float64\n",
      " 40  LTCUSDT Close                         149701 non-null  float64\n",
      " 41  LTCUSDT Volume                        149701 non-null  float64\n",
      " 42  LTCUSDT Close Time                    149701 non-null  int64  \n",
      " 43  LTCUSDT Quote asset volume            149701 non-null  float64\n",
      " 44  LTCUSDT n_trades                      149701 non-null  int64  \n",
      " 45  LTCUSDT Taker buy base asset volume   149701 non-null  float64\n",
      " 46  LTCUSDT Taker buy quote asset volume  149701 non-null  float64\n",
      " 47  LTCUSDT Ignore                        149701 non-null  int64  \n",
      "dtypes: float64(32), int64(16)\n",
      "memory usage: 54.8 MB\n"
     ]
    }
   ],
   "source": [
    "coins.info()"
   ]
  },
  {
   "cell_type": "code",
   "execution_count": 8,
   "metadata": {
    "colab": {
     "base_uri": "https://localhost:8080/",
     "height": 223
    },
    "colab_type": "code",
    "id": "nnzd90ztZSJN",
    "outputId": "850da7e2-9f72-41b5-bea1-f28071c996c6"
   },
   "outputs": [
    {
     "data": {
      "text/html": [
       "<div>\n",
       "<style scoped>\n",
       "    .dataframe tbody tr th:only-of-type {\n",
       "        vertical-align: middle;\n",
       "    }\n",
       "\n",
       "    .dataframe tbody tr th {\n",
       "        vertical-align: top;\n",
       "    }\n",
       "\n",
       "    .dataframe thead th {\n",
       "        text-align: right;\n",
       "    }\n",
       "</style>\n",
       "<table border=\"1\" class=\"dataframe\">\n",
       "  <thead>\n",
       "    <tr style=\"text-align: right;\">\n",
       "      <th></th>\n",
       "      <th>ETHUSDT Open Time</th>\n",
       "      <th>ETHUSDT Open</th>\n",
       "      <th>ETHUSDT High</th>\n",
       "      <th>ETHUSDT Low</th>\n",
       "      <th>ETHUSDT Close</th>\n",
       "      <th>ETHUSDT Volume</th>\n",
       "      <th>ETHUSDT Close Time</th>\n",
       "      <th>ETHUSDT Quote asset volume</th>\n",
       "      <th>ETHUSDT n_trades</th>\n",
       "      <th>ETHUSDT Taker buy base asset volume</th>\n",
       "      <th>...</th>\n",
       "      <th>LTCUSDT High</th>\n",
       "      <th>LTCUSDT Low</th>\n",
       "      <th>LTCUSDT Close</th>\n",
       "      <th>LTCUSDT Volume</th>\n",
       "      <th>LTCUSDT Close Time</th>\n",
       "      <th>LTCUSDT Quote asset volume</th>\n",
       "      <th>LTCUSDT n_trades</th>\n",
       "      <th>LTCUSDT Taker buy base asset volume</th>\n",
       "      <th>LTCUSDT Taker buy quote asset volume</th>\n",
       "      <th>LTCUSDT Ignore</th>\n",
       "    </tr>\n",
       "  </thead>\n",
       "  <tbody>\n",
       "    <tr>\n",
       "      <th>0</th>\n",
       "      <td>1574785080000</td>\n",
       "      <td>145.99</td>\n",
       "      <td>146.08</td>\n",
       "      <td>145.87</td>\n",
       "      <td>145.88</td>\n",
       "      <td>241.28503</td>\n",
       "      <td>1574785139999</td>\n",
       "      <td>35218.416693</td>\n",
       "      <td>84</td>\n",
       "      <td>49.68388</td>\n",
       "      <td>...</td>\n",
       "      <td>46.66</td>\n",
       "      <td>46.59</td>\n",
       "      <td>46.59</td>\n",
       "      <td>28.24642</td>\n",
       "      <td>1574785139999</td>\n",
       "      <td>1316.735587</td>\n",
       "      <td>20</td>\n",
       "      <td>9.04073</td>\n",
       "      <td>421.691594</td>\n",
       "      <td>0</td>\n",
       "    </tr>\n",
       "    <tr>\n",
       "      <th>1</th>\n",
       "      <td>1574785140000</td>\n",
       "      <td>145.89</td>\n",
       "      <td>145.96</td>\n",
       "      <td>145.84</td>\n",
       "      <td>145.96</td>\n",
       "      <td>40.85429</td>\n",
       "      <td>1574785199999</td>\n",
       "      <td>5959.466443</td>\n",
       "      <td>49</td>\n",
       "      <td>20.42048</td>\n",
       "      <td>...</td>\n",
       "      <td>46.60</td>\n",
       "      <td>46.58</td>\n",
       "      <td>46.58</td>\n",
       "      <td>80.79035</td>\n",
       "      <td>1574785199999</td>\n",
       "      <td>3763.360087</td>\n",
       "      <td>10</td>\n",
       "      <td>7.27921</td>\n",
       "      <td>339.211186</td>\n",
       "      <td>0</td>\n",
       "    </tr>\n",
       "    <tr>\n",
       "      <th>2</th>\n",
       "      <td>1574785200000</td>\n",
       "      <td>145.98</td>\n",
       "      <td>145.98</td>\n",
       "      <td>145.78</td>\n",
       "      <td>145.81</td>\n",
       "      <td>140.04726</td>\n",
       "      <td>1574785259999</td>\n",
       "      <td>20423.385381</td>\n",
       "      <td>68</td>\n",
       "      <td>35.84368</td>\n",
       "      <td>...</td>\n",
       "      <td>46.61</td>\n",
       "      <td>46.57</td>\n",
       "      <td>46.57</td>\n",
       "      <td>85.55753</td>\n",
       "      <td>1574785259999</td>\n",
       "      <td>3985.330867</td>\n",
       "      <td>7</td>\n",
       "      <td>18.02712</td>\n",
       "      <td>840.244063</td>\n",
       "      <td>0</td>\n",
       "    </tr>\n",
       "    <tr>\n",
       "      <th>3</th>\n",
       "      <td>1574785260000</td>\n",
       "      <td>145.81</td>\n",
       "      <td>145.82</td>\n",
       "      <td>145.63</td>\n",
       "      <td>145.74</td>\n",
       "      <td>305.43565</td>\n",
       "      <td>1574785319999</td>\n",
       "      <td>44519.270184</td>\n",
       "      <td>117</td>\n",
       "      <td>173.11928</td>\n",
       "      <td>...</td>\n",
       "      <td>46.56</td>\n",
       "      <td>46.49</td>\n",
       "      <td>46.51</td>\n",
       "      <td>325.49714</td>\n",
       "      <td>1574785319999</td>\n",
       "      <td>15139.718570</td>\n",
       "      <td>42</td>\n",
       "      <td>90.97910</td>\n",
       "      <td>4232.232356</td>\n",
       "      <td>0</td>\n",
       "    </tr>\n",
       "    <tr>\n",
       "      <th>4</th>\n",
       "      <td>1574785320000</td>\n",
       "      <td>145.74</td>\n",
       "      <td>145.81</td>\n",
       "      <td>145.70</td>\n",
       "      <td>145.77</td>\n",
       "      <td>86.54447</td>\n",
       "      <td>1574785379999</td>\n",
       "      <td>12612.838273</td>\n",
       "      <td>52</td>\n",
       "      <td>18.12635</td>\n",
       "      <td>...</td>\n",
       "      <td>46.52</td>\n",
       "      <td>46.49</td>\n",
       "      <td>46.52</td>\n",
       "      <td>62.84014</td>\n",
       "      <td>1574785379999</td>\n",
       "      <td>2922.416068</td>\n",
       "      <td>15</td>\n",
       "      <td>16.18125</td>\n",
       "      <td>752.621786</td>\n",
       "      <td>0</td>\n",
       "    </tr>\n",
       "  </tbody>\n",
       "</table>\n",
       "<p>5 rows × 48 columns</p>\n",
       "</div>"
      ],
      "text/plain": [
       "   ETHUSDT Open Time  ETHUSDT Open  ETHUSDT High  ETHUSDT Low  ETHUSDT Close  \\\n",
       "0      1574785080000        145.99        146.08       145.87         145.88   \n",
       "1      1574785140000        145.89        145.96       145.84         145.96   \n",
       "2      1574785200000        145.98        145.98       145.78         145.81   \n",
       "3      1574785260000        145.81        145.82       145.63         145.74   \n",
       "4      1574785320000        145.74        145.81       145.70         145.77   \n",
       "\n",
       "   ETHUSDT Volume  ETHUSDT Close Time  ETHUSDT Quote asset volume  \\\n",
       "0       241.28503       1574785139999                35218.416693   \n",
       "1        40.85429       1574785199999                 5959.466443   \n",
       "2       140.04726       1574785259999                20423.385381   \n",
       "3       305.43565       1574785319999                44519.270184   \n",
       "4        86.54447       1574785379999                12612.838273   \n",
       "\n",
       "   ETHUSDT n_trades  ETHUSDT Taker buy base asset volume  ...  LTCUSDT High  \\\n",
       "0                84                             49.68388  ...         46.66   \n",
       "1                49                             20.42048  ...         46.60   \n",
       "2                68                             35.84368  ...         46.61   \n",
       "3               117                            173.11928  ...         46.56   \n",
       "4                52                             18.12635  ...         46.52   \n",
       "\n",
       "   LTCUSDT Low  LTCUSDT Close  LTCUSDT Volume  LTCUSDT Close Time  \\\n",
       "0        46.59          46.59        28.24642       1574785139999   \n",
       "1        46.58          46.58        80.79035       1574785199999   \n",
       "2        46.57          46.57        85.55753       1574785259999   \n",
       "3        46.49          46.51       325.49714       1574785319999   \n",
       "4        46.49          46.52        62.84014       1574785379999   \n",
       "\n",
       "   LTCUSDT Quote asset volume  LTCUSDT n_trades  \\\n",
       "0                 1316.735587                20   \n",
       "1                 3763.360087                10   \n",
       "2                 3985.330867                 7   \n",
       "3                15139.718570                42   \n",
       "4                 2922.416068                15   \n",
       "\n",
       "   LTCUSDT Taker buy base asset volume  LTCUSDT Taker buy quote asset volume  \\\n",
       "0                              9.04073                            421.691594   \n",
       "1                              7.27921                            339.211186   \n",
       "2                             18.02712                            840.244063   \n",
       "3                             90.97910                           4232.232356   \n",
       "4                             16.18125                            752.621786   \n",
       "\n",
       "   LTCUSDT Ignore  \n",
       "0               0  \n",
       "1               0  \n",
       "2               0  \n",
       "3               0  \n",
       "4               0  \n",
       "\n",
       "[5 rows x 48 columns]"
      ]
     },
     "execution_count": 8,
     "metadata": {},
     "output_type": "execute_result"
    }
   ],
   "source": [
    "coins.head()"
   ]
  },
  {
   "cell_type": "code",
   "execution_count": 9,
   "metadata": {
    "colab": {
     "base_uri": "https://localhost:8080/",
     "height": 243
    },
    "colab_type": "code",
    "id": "VkjF1-XuZUH9",
    "outputId": "4f363297-c28f-4307-8842-8a0973e84bb6",
    "scrolled": true
   },
   "outputs": [
    {
     "name": "stdout",
     "output_type": "stream",
     "text": [
      "First time difference is:  60000\n",
      "\n",
      "\n",
      "ETHUSDT Time difference:  3660000\n",
      "starting at index:  107141\n",
      "ending at index:    107142\n",
      "total frames since previous timeskip:  107141\n",
      "\n",
      "\n",
      "ETHUSDT Time difference:  32299\n",
      "starting at index:  122056\n",
      "ending at index:    122057\n",
      "total frames since previous timeskip:  14915\n",
      "\n",
      "\n",
      "ETHUSDT Time difference:  21327701\n",
      "starting at index:  122057\n",
      "ending at index:    122058\n",
      "total frames since previous timeskip:  1\n",
      "\n",
      "\n",
      "ETHUSDT Time difference:  46701\n",
      "starting at index:  141728\n",
      "ending at index:    141729\n",
      "total frames since previous timeskip:  19671\n",
      "\n",
      "\n",
      "ETHUSDT Time difference:  7753299\n",
      "starting at index:  141729\n",
      "ending at index:    141730\n",
      "total frames since previous timeskip:  1\n",
      "First time difference is:  60000\n",
      "\n",
      "\n",
      "BTCUSDT Time difference:  3660000\n",
      "starting at index:  107141\n",
      "ending at index:    107142\n",
      "total frames since previous timeskip:  107141\n",
      "\n",
      "\n",
      "BTCUSDT Time difference:  32287\n",
      "starting at index:  122056\n",
      "ending at index:    122057\n",
      "total frames since previous timeskip:  14915\n",
      "\n",
      "\n",
      "BTCUSDT Time difference:  21327713\n",
      "starting at index:  122057\n",
      "ending at index:    122058\n",
      "total frames since previous timeskip:  1\n",
      "\n",
      "\n",
      "BTCUSDT Time difference:  46695\n",
      "starting at index:  141728\n",
      "ending at index:    141729\n",
      "total frames since previous timeskip:  19671\n",
      "\n",
      "\n",
      "BTCUSDT Time difference:  7753305\n",
      "starting at index:  141729\n",
      "ending at index:    141730\n",
      "total frames since previous timeskip:  1\n",
      "First time difference is:  60000\n",
      "\n",
      "\n",
      "XRPUSDT Time difference:  3660000\n",
      "starting at index:  107141\n",
      "ending at index:    107142\n",
      "total frames since previous timeskip:  107141\n",
      "\n",
      "\n",
      "XRPUSDT Time difference:  35063\n",
      "starting at index:  122056\n",
      "ending at index:    122057\n",
      "total frames since previous timeskip:  14915\n",
      "\n",
      "\n",
      "XRPUSDT Time difference:  21324937\n",
      "starting at index:  122057\n",
      "ending at index:    122058\n",
      "total frames since previous timeskip:  1\n",
      "\n",
      "\n",
      "XRPUSDT Time difference:  48204\n",
      "starting at index:  141728\n",
      "ending at index:    141729\n",
      "total frames since previous timeskip:  19671\n",
      "\n",
      "\n",
      "XRPUSDT Time difference:  7751796\n",
      "starting at index:  141729\n",
      "ending at index:    141730\n",
      "total frames since previous timeskip:  1\n",
      "First time difference is:  60000\n",
      "\n",
      "\n",
      "LTCUSDT Time difference:  3660000\n",
      "starting at index:  107141\n",
      "ending at index:    107142\n",
      "total frames since previous timeskip:  107141\n",
      "\n",
      "\n",
      "LTCUSDT Time difference:  33983\n",
      "starting at index:  122056\n",
      "ending at index:    122057\n",
      "total frames since previous timeskip:  14915\n",
      "\n",
      "\n",
      "LTCUSDT Time difference:  21326017\n",
      "starting at index:  122057\n",
      "ending at index:    122058\n",
      "total frames since previous timeskip:  1\n",
      "\n",
      "\n",
      "LTCUSDT Time difference:  47642\n",
      "starting at index:  141728\n",
      "ending at index:    141729\n",
      "total frames since previous timeskip:  19671\n",
      "\n",
      "\n",
      "LTCUSDT Time difference:  7752358\n",
      "starting at index:  141729\n",
      "ending at index:    141730\n",
      "total frames since previous timeskip:  1\n"
     ]
    }
   ],
   "source": [
    "bf.show_time_skips(coins, CURRENCIES)"
   ]
  },
  {
   "cell_type": "code",
   "execution_count": 10,
   "metadata": {
    "colab": {},
    "colab_type": "code",
    "id": "4koue8dvZibE"
   },
   "outputs": [
    {
     "data": {
      "text/plain": [
       "107141"
      ]
     },
     "execution_count": 10,
     "metadata": {},
     "output_type": "execute_result"
    }
   ],
   "source": [
    "coins = coins[0:107141]\n",
    "len(coins)"
   ]
  },
  {
   "cell_type": "code",
   "execution_count": 11,
   "metadata": {
    "colab": {
     "base_uri": "https://localhost:8080/",
     "height": 34
    },
    "colab_type": "code",
    "id": "tppPv56-ZrTz",
    "outputId": "71f8b22c-0719-4a3f-9003-9bd55f104869"
   },
   "outputs": [
    {
     "name": "stdout",
     "output_type": "stream",
     "text": [
      "First time difference is:  60000\n",
      "First time difference is:  60000\n",
      "First time difference is:  60000\n",
      "First time difference is:  60000\n"
     ]
    }
   ],
   "source": [
    "bf.show_time_skips(coins, CURRENCIES)"
   ]
  },
  {
   "cell_type": "code",
   "execution_count": 12,
   "metadata": {
    "colab": {},
    "colab_type": "code",
    "id": "DH7A5lDwaATN"
   },
   "outputs": [],
   "source": [
    "bf.keep_one_timestamp(coins,CURRENCIES)"
   ]
  },
  {
   "cell_type": "code",
   "execution_count": 13,
   "metadata": {
    "colab": {},
    "colab_type": "code",
    "id": "sjTHdD-gaT9Q"
   },
   "outputs": [],
   "source": [
    "bf.remove_ignore_columns(coins,CURRENCIES)"
   ]
  },
  {
   "cell_type": "code",
   "execution_count": 14,
   "metadata": {
    "colab": {
     "base_uri": "https://localhost:8080/",
     "height": 272
    },
    "colab_type": "code",
    "id": "05bIUOCmakNu",
    "outputId": "b791551e-4063-4da3-ebf9-2b59b46636bb"
   },
   "outputs": [
    {
     "data": {
      "text/html": [
       "<div>\n",
       "<style scoped>\n",
       "    .dataframe tbody tr th:only-of-type {\n",
       "        vertical-align: middle;\n",
       "    }\n",
       "\n",
       "    .dataframe tbody tr th {\n",
       "        vertical-align: top;\n",
       "    }\n",
       "\n",
       "    .dataframe thead th {\n",
       "        text-align: right;\n",
       "    }\n",
       "</style>\n",
       "<table border=\"1\" class=\"dataframe\">\n",
       "  <thead>\n",
       "    <tr style=\"text-align: right;\">\n",
       "      <th></th>\n",
       "      <th>ETHUSDT Open</th>\n",
       "      <th>ETHUSDT High</th>\n",
       "      <th>ETHUSDT Low</th>\n",
       "      <th>ETHUSDT Close</th>\n",
       "      <th>ETHUSDT Volume</th>\n",
       "      <th>ETHUSDT Quote asset volume</th>\n",
       "      <th>ETHUSDT n_trades</th>\n",
       "      <th>ETHUSDT Taker buy base asset volume</th>\n",
       "      <th>ETHUSDT Taker buy quote asset volume</th>\n",
       "      <th>BTCUSDT Open</th>\n",
       "      <th>...</th>\n",
       "      <th>LTCUSDT Open</th>\n",
       "      <th>LTCUSDT High</th>\n",
       "      <th>LTCUSDT Low</th>\n",
       "      <th>LTCUSDT Close</th>\n",
       "      <th>LTCUSDT Volume</th>\n",
       "      <th>LTCUSDT Quote asset volume</th>\n",
       "      <th>LTCUSDT n_trades</th>\n",
       "      <th>LTCUSDT Taker buy base asset volume</th>\n",
       "      <th>LTCUSDT Taker buy quote asset volume</th>\n",
       "      <th>Timestamp</th>\n",
       "    </tr>\n",
       "  </thead>\n",
       "  <tbody>\n",
       "    <tr>\n",
       "      <th>0</th>\n",
       "      <td>145.99</td>\n",
       "      <td>146.08</td>\n",
       "      <td>145.87</td>\n",
       "      <td>145.88</td>\n",
       "      <td>241.28503</td>\n",
       "      <td>35218.416693</td>\n",
       "      <td>84</td>\n",
       "      <td>49.68388</td>\n",
       "      <td>7254.209112</td>\n",
       "      <td>7126.39</td>\n",
       "      <td>...</td>\n",
       "      <td>46.64</td>\n",
       "      <td>46.66</td>\n",
       "      <td>46.59</td>\n",
       "      <td>46.59</td>\n",
       "      <td>28.24642</td>\n",
       "      <td>1316.735587</td>\n",
       "      <td>20</td>\n",
       "      <td>9.04073</td>\n",
       "      <td>421.691594</td>\n",
       "      <td>1574785139999</td>\n",
       "    </tr>\n",
       "    <tr>\n",
       "      <th>1</th>\n",
       "      <td>145.89</td>\n",
       "      <td>145.96</td>\n",
       "      <td>145.84</td>\n",
       "      <td>145.96</td>\n",
       "      <td>40.85429</td>\n",
       "      <td>5959.466443</td>\n",
       "      <td>49</td>\n",
       "      <td>20.42048</td>\n",
       "      <td>2978.871293</td>\n",
       "      <td>7125.07</td>\n",
       "      <td>...</td>\n",
       "      <td>46.58</td>\n",
       "      <td>46.60</td>\n",
       "      <td>46.58</td>\n",
       "      <td>46.58</td>\n",
       "      <td>80.79035</td>\n",
       "      <td>3763.360087</td>\n",
       "      <td>10</td>\n",
       "      <td>7.27921</td>\n",
       "      <td>339.211186</td>\n",
       "      <td>1574785199999</td>\n",
       "    </tr>\n",
       "    <tr>\n",
       "      <th>2</th>\n",
       "      <td>145.98</td>\n",
       "      <td>145.98</td>\n",
       "      <td>145.78</td>\n",
       "      <td>145.81</td>\n",
       "      <td>140.04726</td>\n",
       "      <td>20423.385381</td>\n",
       "      <td>68</td>\n",
       "      <td>35.84368</td>\n",
       "      <td>5227.199591</td>\n",
       "      <td>7123.66</td>\n",
       "      <td>...</td>\n",
       "      <td>46.61</td>\n",
       "      <td>46.61</td>\n",
       "      <td>46.57</td>\n",
       "      <td>46.57</td>\n",
       "      <td>85.55753</td>\n",
       "      <td>3985.330867</td>\n",
       "      <td>7</td>\n",
       "      <td>18.02712</td>\n",
       "      <td>840.244063</td>\n",
       "      <td>1574785259999</td>\n",
       "    </tr>\n",
       "    <tr>\n",
       "      <th>3</th>\n",
       "      <td>145.81</td>\n",
       "      <td>145.82</td>\n",
       "      <td>145.63</td>\n",
       "      <td>145.74</td>\n",
       "      <td>305.43565</td>\n",
       "      <td>44519.270184</td>\n",
       "      <td>117</td>\n",
       "      <td>173.11928</td>\n",
       "      <td>25234.657077</td>\n",
       "      <td>7118.69</td>\n",
       "      <td>...</td>\n",
       "      <td>46.56</td>\n",
       "      <td>46.56</td>\n",
       "      <td>46.49</td>\n",
       "      <td>46.51</td>\n",
       "      <td>325.49714</td>\n",
       "      <td>15139.718570</td>\n",
       "      <td>42</td>\n",
       "      <td>90.97910</td>\n",
       "      <td>4232.232356</td>\n",
       "      <td>1574785319999</td>\n",
       "    </tr>\n",
       "    <tr>\n",
       "      <th>4</th>\n",
       "      <td>145.74</td>\n",
       "      <td>145.81</td>\n",
       "      <td>145.70</td>\n",
       "      <td>145.77</td>\n",
       "      <td>86.54447</td>\n",
       "      <td>12612.838273</td>\n",
       "      <td>52</td>\n",
       "      <td>18.12635</td>\n",
       "      <td>2641.885972</td>\n",
       "      <td>7114.84</td>\n",
       "      <td>...</td>\n",
       "      <td>46.52</td>\n",
       "      <td>46.52</td>\n",
       "      <td>46.49</td>\n",
       "      <td>46.52</td>\n",
       "      <td>62.84014</td>\n",
       "      <td>2922.416068</td>\n",
       "      <td>15</td>\n",
       "      <td>16.18125</td>\n",
       "      <td>752.621786</td>\n",
       "      <td>1574785379999</td>\n",
       "    </tr>\n",
       "  </tbody>\n",
       "</table>\n",
       "<p>5 rows × 37 columns</p>\n",
       "</div>"
      ],
      "text/plain": [
       "   ETHUSDT Open  ETHUSDT High  ETHUSDT Low  ETHUSDT Close  ETHUSDT Volume  \\\n",
       "0        145.99        146.08       145.87         145.88       241.28503   \n",
       "1        145.89        145.96       145.84         145.96        40.85429   \n",
       "2        145.98        145.98       145.78         145.81       140.04726   \n",
       "3        145.81        145.82       145.63         145.74       305.43565   \n",
       "4        145.74        145.81       145.70         145.77        86.54447   \n",
       "\n",
       "   ETHUSDT Quote asset volume  ETHUSDT n_trades  \\\n",
       "0                35218.416693                84   \n",
       "1                 5959.466443                49   \n",
       "2                20423.385381                68   \n",
       "3                44519.270184               117   \n",
       "4                12612.838273                52   \n",
       "\n",
       "   ETHUSDT Taker buy base asset volume  ETHUSDT Taker buy quote asset volume  \\\n",
       "0                             49.68388                           7254.209112   \n",
       "1                             20.42048                           2978.871293   \n",
       "2                             35.84368                           5227.199591   \n",
       "3                            173.11928                          25234.657077   \n",
       "4                             18.12635                           2641.885972   \n",
       "\n",
       "   BTCUSDT Open  ...  LTCUSDT Open  LTCUSDT High  LTCUSDT Low  LTCUSDT Close  \\\n",
       "0       7126.39  ...         46.64         46.66        46.59          46.59   \n",
       "1       7125.07  ...         46.58         46.60        46.58          46.58   \n",
       "2       7123.66  ...         46.61         46.61        46.57          46.57   \n",
       "3       7118.69  ...         46.56         46.56        46.49          46.51   \n",
       "4       7114.84  ...         46.52         46.52        46.49          46.52   \n",
       "\n",
       "   LTCUSDT Volume  LTCUSDT Quote asset volume  LTCUSDT n_trades  \\\n",
       "0        28.24642                 1316.735587                20   \n",
       "1        80.79035                 3763.360087                10   \n",
       "2        85.55753                 3985.330867                 7   \n",
       "3       325.49714                15139.718570                42   \n",
       "4        62.84014                 2922.416068                15   \n",
       "\n",
       "   LTCUSDT Taker buy base asset volume  LTCUSDT Taker buy quote asset volume  \\\n",
       "0                              9.04073                            421.691594   \n",
       "1                              7.27921                            339.211186   \n",
       "2                             18.02712                            840.244063   \n",
       "3                             90.97910                           4232.232356   \n",
       "4                             16.18125                            752.621786   \n",
       "\n",
       "       Timestamp  \n",
       "0  1574785139999  \n",
       "1  1574785199999  \n",
       "2  1574785259999  \n",
       "3  1574785319999  \n",
       "4  1574785379999  \n",
       "\n",
       "[5 rows x 37 columns]"
      ]
     },
     "execution_count": 14,
     "metadata": {},
     "output_type": "execute_result"
    }
   ],
   "source": [
    "coins.head()"
   ]
  },
  {
   "cell_type": "code",
   "execution_count": 15,
   "metadata": {
    "colab": {
     "base_uri": "https://localhost:8080/",
     "height": 260
    },
    "colab_type": "code",
    "id": "3hCC6Gspaln1",
    "outputId": "11239e6b-b29a-4275-a2b8-f6547956c9e4"
   },
   "outputs": [
    {
     "name": "stdout",
     "output_type": "stream",
     "text": [
      "<class 'pandas.core.frame.DataFrame'>\n",
      "RangeIndex: 107141 entries, 0 to 107140\n",
      "Data columns (total 37 columns):\n",
      " #   Column                                Non-Null Count   Dtype  \n",
      "---  ------                                --------------   -----  \n",
      " 0   ETHUSDT Open                          107141 non-null  float64\n",
      " 1   ETHUSDT High                          107141 non-null  float64\n",
      " 2   ETHUSDT Low                           107141 non-null  float64\n",
      " 3   ETHUSDT Close                         107141 non-null  float64\n",
      " 4   ETHUSDT Volume                        107141 non-null  float64\n",
      " 5   ETHUSDT Quote asset volume            107141 non-null  float64\n",
      " 6   ETHUSDT n_trades                      107141 non-null  int64  \n",
      " 7   ETHUSDT Taker buy base asset volume   107141 non-null  float64\n",
      " 8   ETHUSDT Taker buy quote asset volume  107141 non-null  float64\n",
      " 9   BTCUSDT Open                          107141 non-null  float64\n",
      " 10  BTCUSDT High                          107141 non-null  float64\n",
      " 11  BTCUSDT Low                           107141 non-null  float64\n",
      " 12  BTCUSDT Close                         107141 non-null  float64\n",
      " 13  BTCUSDT Volume                        107141 non-null  float64\n",
      " 14  BTCUSDT Quote asset volume            107141 non-null  float64\n",
      " 15  BTCUSDT n_trades                      107141 non-null  int64  \n",
      " 16  BTCUSDT Taker buy base asset volume   107141 non-null  float64\n",
      " 17  BTCUSDT Taker buy quote asset volume  107141 non-null  float64\n",
      " 18  XRPUSDT Open                          107141 non-null  float64\n",
      " 19  XRPUSDT High                          107141 non-null  float64\n",
      " 20  XRPUSDT Low                           107141 non-null  float64\n",
      " 21  XRPUSDT Close                         107141 non-null  float64\n",
      " 22  XRPUSDT Volume                        107141 non-null  float64\n",
      " 23  XRPUSDT Quote asset volume            107141 non-null  float64\n",
      " 24  XRPUSDT n_trades                      107141 non-null  int64  \n",
      " 25  XRPUSDT Taker buy base asset volume   107141 non-null  float64\n",
      " 26  XRPUSDT Taker buy quote asset volume  107141 non-null  float64\n",
      " 27  LTCUSDT Open                          107141 non-null  float64\n",
      " 28  LTCUSDT High                          107141 non-null  float64\n",
      " 29  LTCUSDT Low                           107141 non-null  float64\n",
      " 30  LTCUSDT Close                         107141 non-null  float64\n",
      " 31  LTCUSDT Volume                        107141 non-null  float64\n",
      " 32  LTCUSDT Quote asset volume            107141 non-null  float64\n",
      " 33  LTCUSDT n_trades                      107141 non-null  int64  \n",
      " 34  LTCUSDT Taker buy base asset volume   107141 non-null  float64\n",
      " 35  LTCUSDT Taker buy quote asset volume  107141 non-null  float64\n",
      " 36  Timestamp                             107141 non-null  int64  \n",
      "dtypes: float64(32), int64(5)\n",
      "memory usage: 30.2 MB\n"
     ]
    }
   ],
   "source": [
    "coins.info()"
   ]
  },
  {
   "cell_type": "code",
   "execution_count": 16,
   "metadata": {
    "colab": {
     "base_uri": "https://localhost:8080/",
     "height": 34
    },
    "colab_type": "code",
    "id": "RgyaWcVEa390",
    "outputId": "92221dc6-c34a-4def-f3bc-542745fb1eeb"
   },
   "outputs": [
    {
     "data": {
      "text/plain": [
       "0"
      ]
     },
     "execution_count": 16,
     "metadata": {},
     "output_type": "execute_result"
    }
   ],
   "source": [
    "coins.index[0]"
   ]
  },
  {
   "cell_type": "code",
   "execution_count": 17,
   "metadata": {
    "colab": {
     "base_uri": "https://localhost:8080/",
     "height": 52
    },
    "colab_type": "code",
    "id": "cBFyypvLa9xD",
    "outputId": "fae1e75d-97a9-4948-e70c-74d919c6679b"
   },
   "outputs": [
    {
     "name": "stdout",
     "output_type": "stream",
     "text": [
      "Data timeline:\n",
      "From:  2019-11-26 17:18:59.999000\n",
      "To:    2020-02-09 02:58:59.999000\n"
     ]
    }
   ],
   "source": [
    "print('Data timeline:')\n",
    "print('From: ',datetime.fromtimestamp(coins['Timestamp'].iloc[0]/1000))\n",
    "print('To:   ', datetime.fromtimestamp(coins['Timestamp'].iloc[-1]/1000))"
   ]
  },
  {
   "cell_type": "code",
   "execution_count": 18,
   "metadata": {},
   "outputs": [
    {
     "data": {
      "text/plain": [
       "892"
      ]
     },
     "execution_count": 18,
     "metadata": {},
     "output_type": "execute_result"
    }
   ],
   "source": [
    "STEPS_IN_FUTURE = 15\n",
    "PAST_DATA_SIZE = 120 #2*60\n",
    "n_frames = int(len(coins)/PAST_DATA_SIZE)\n",
    "n_frames"
   ]
  },
  {
   "cell_type": "code",
   "execution_count": 20,
   "metadata": {},
   "outputs": [],
   "source": [
    "def preprocess_data(df, start_index, end_index, PAST_DATA_SIZE, STEPS_IN_FUTURE, TARGET_CURRENCY):\n",
    "    X_features = []\n",
    "    y_target = []\n",
    "    n_frames = int((end_index/PAST_DATA_SIZE)-1)\n",
    "    for frame in range(start_index, n_frames):\n",
    "        X_features.append([])\n",
    "        y_target.append([])\n",
    "        for i in range(frame, (frame+PAST_DATA_SIZE)):\n",
    "            X_features[frame].append(df.loc[i].values)\n",
    "        for k in range(frame+PAST_DATA_SIZE, frame+PAST_DATA_SIZE+STEPS_IN_FUTURE):\n",
    "            y_target[frame].append(df[TARGET_CURRENCY+' Close'].loc[k])\n",
    "            \n",
    "    return np.array(X_features), np.array(y_target) "
   ]
  },
  {
   "cell_type": "code",
   "execution_count": 21,
   "metadata": {},
   "outputs": [],
   "source": [
    "X, y = preprocess_data(coins,0,len(coins), PAST_DATA_SIZE, STEPS_IN_FUTURE, TARGET_CURRENCY)"
   ]
  },
  {
   "cell_type": "code",
   "execution_count": 24,
   "metadata": {},
   "outputs": [],
   "source": [
    "X_test = X[-200:]\n",
    "y_test = y[-200:]\n",
    "X_train = X[:len(X)-200]\n",
    "y_train = y[:len(y)-200]"
   ]
  },
  {
   "cell_type": "code",
   "execution_count": 25,
   "metadata": {},
   "outputs": [
    {
     "data": {
      "text/plain": [
       "(200, 120, 37)"
      ]
     },
     "execution_count": 25,
     "metadata": {},
     "output_type": "execute_result"
    }
   ],
   "source": [
    "X_test.shape\n"
   ]
  },
  {
   "cell_type": "code",
   "execution_count": null,
   "metadata": {},
   "outputs": [],
   "source": []
  }
 ],
 "metadata": {
  "colab": {
   "collapsed_sections": [],
   "name": "new_model.ipynb",
   "provenance": [],
   "toc_visible": true
  },
  "kernelspec": {
   "display_name": "Python 3",
   "language": "python",
   "name": "python3"
  },
  "language_info": {
   "codemirror_mode": {
    "name": "ipython",
    "version": 3
   },
   "file_extension": ".py",
   "mimetype": "text/x-python",
   "name": "python",
   "nbconvert_exporter": "python",
   "pygments_lexer": "ipython3",
   "version": "3.7.0"
  }
 },
 "nbformat": 4,
 "nbformat_minor": 1
}
