{
 "cells": [
  {
   "cell_type": "code",
   "execution_count": 1,
   "metadata": {
    "colab": {},
    "colab_type": "code",
    "id": "w0Y2KyG4WTPM"
   },
   "outputs": [],
   "source": [
    "import numpy as np\n",
    "import pandas as pd\n",
    "import matplotlib.pyplot as plt\n",
    "import seaborn as sns\n",
    "from datetime import datetime, timedelta\n",
    "import time\n",
    "import binance_framework as bf\n",
    "from collections import deque\n",
    "import random"
   ]
  },
  {
   "cell_type": "code",
   "execution_count": 2,
   "metadata": {
    "colab": {
     "base_uri": "https://localhost:8080/",
     "height": 34
    },
    "colab_type": "code",
    "id": "uHyZOoVvUsVj",
    "outputId": "1d2b50c7-d98d-48ce-d184-9ab000a3b510"
   },
   "outputs": [],
   "source": [
    "from __future__ import absolute_import, division, print_function, unicode_literals\n",
    "import tensorflow as tf"
   ]
  },
  {
   "cell_type": "code",
   "execution_count": 3,
   "metadata": {
    "colab": {},
    "colab_type": "code",
    "id": "svttVZUTWjOm"
   },
   "outputs": [],
   "source": [
    "CURRENCIES = ['ETHUSDT']\n",
    "SEQUENCE_LEN = 128\n",
    "FUTURE_PERIOD_PREDICT = 5\n",
    "RATIO_TO_PREDICT = 'ETHUSDT'\n",
    "EPOCHS = 20\n",
    "BATCH_SIZE = 128\n",
    "NAME = 'SEQ-'+ str(SEQUENCE_LEN)+'-FUTPRED-'+str(FUTURE_PERIOD_PREDICT)+'-PRED-'+str(time.time())"
   ]
  },
  {
   "cell_type": "code",
   "execution_count": 4,
   "metadata": {
    "colab": {},
    "colab_type": "code",
    "id": "jtynF_CxXwvV"
   },
   "outputs": [],
   "source": [
    "#coins = bf.get_data_by_intervals(300,CURRENCIES,bf.INTERVAL_1MINUTE)"
   ]
  },
  {
   "cell_type": "code",
   "execution_count": 5,
   "metadata": {
    "colab": {},
    "colab_type": "code",
    "id": "j2ixlbxjY8AF"
   },
   "outputs": [],
   "source": [
    "#coins.to_csv('eth_1min_300.csv',index=False)"
   ]
  },
  {
   "cell_type": "code",
   "execution_count": 6,
   "metadata": {
    "colab": {},
    "colab_type": "code",
    "id": "NQoT_IHEZINw"
   },
   "outputs": [],
   "source": [
    "coins  = pd.read_csv('eth_1min_300.csv')"
   ]
  },
  {
   "cell_type": "code",
   "execution_count": 7,
   "metadata": {
    "colab": {
     "base_uri": "https://localhost:8080/",
     "height": 312
    },
    "colab_type": "code",
    "id": "SA4Gdm_UZQw-",
    "outputId": "1e66eef8-13e1-45ee-916d-c32fc0cab19d"
   },
   "outputs": [
    {
     "name": "stdout",
     "output_type": "stream",
     "text": [
      "<class 'pandas.core.frame.DataFrame'>\n",
      "RangeIndex: 149701 entries, 0 to 149700\n",
      "Data columns (total 12 columns):\n",
      " #   Column                                Non-Null Count   Dtype  \n",
      "---  ------                                --------------   -----  \n",
      " 0   ETHUSDT Open Time                     149701 non-null  int64  \n",
      " 1   ETHUSDT Open                          149701 non-null  float64\n",
      " 2   ETHUSDT High                          149701 non-null  float64\n",
      " 3   ETHUSDT Low                           149701 non-null  float64\n",
      " 4   ETHUSDT Close                         149701 non-null  float64\n",
      " 5   ETHUSDT Volume                        149701 non-null  float64\n",
      " 6   ETHUSDT Close Time                    149701 non-null  int64  \n",
      " 7   ETHUSDT Quote asset volume            149701 non-null  float64\n",
      " 8   ETHUSDT n_trades                      149701 non-null  int64  \n",
      " 9   ETHUSDT Taker buy base asset volume   149701 non-null  float64\n",
      " 10  ETHUSDT Taker buy quote asset volume  149701 non-null  float64\n",
      " 11  ETHUSDT Ignore                        149701 non-null  int64  \n",
      "dtypes: float64(8), int64(4)\n",
      "memory usage: 13.7 MB\n"
     ]
    }
   ],
   "source": [
    "coins.info()"
   ]
  },
  {
   "cell_type": "code",
   "execution_count": 8,
   "metadata": {
    "colab": {
     "base_uri": "https://localhost:8080/",
     "height": 223
    },
    "colab_type": "code",
    "id": "nnzd90ztZSJN",
    "outputId": "850da7e2-9f72-41b5-bea1-f28071c996c6"
   },
   "outputs": [
    {
     "data": {
      "text/html": [
       "<div>\n",
       "<style scoped>\n",
       "    .dataframe tbody tr th:only-of-type {\n",
       "        vertical-align: middle;\n",
       "    }\n",
       "\n",
       "    .dataframe tbody tr th {\n",
       "        vertical-align: top;\n",
       "    }\n",
       "\n",
       "    .dataframe thead th {\n",
       "        text-align: right;\n",
       "    }\n",
       "</style>\n",
       "<table border=\"1\" class=\"dataframe\">\n",
       "  <thead>\n",
       "    <tr style=\"text-align: right;\">\n",
       "      <th></th>\n",
       "      <th>ETHUSDT Open Time</th>\n",
       "      <th>ETHUSDT Open</th>\n",
       "      <th>ETHUSDT High</th>\n",
       "      <th>ETHUSDT Low</th>\n",
       "      <th>ETHUSDT Close</th>\n",
       "      <th>ETHUSDT Volume</th>\n",
       "      <th>ETHUSDT Close Time</th>\n",
       "      <th>ETHUSDT Quote asset volume</th>\n",
       "      <th>ETHUSDT n_trades</th>\n",
       "      <th>ETHUSDT Taker buy base asset volume</th>\n",
       "      <th>ETHUSDT Taker buy quote asset volume</th>\n",
       "      <th>ETHUSDT Ignore</th>\n",
       "    </tr>\n",
       "  </thead>\n",
       "  <tbody>\n",
       "    <tr>\n",
       "      <th>0</th>\n",
       "      <td>1574350200000</td>\n",
       "      <td>161.84</td>\n",
       "      <td>161.95</td>\n",
       "      <td>160.30</td>\n",
       "      <td>161.41</td>\n",
       "      <td>4015.21372</td>\n",
       "      <td>1574350259999</td>\n",
       "      <td>647658.307376</td>\n",
       "      <td>664</td>\n",
       "      <td>1179.50373</td>\n",
       "      <td>190523.966292</td>\n",
       "      <td>0</td>\n",
       "    </tr>\n",
       "    <tr>\n",
       "      <th>1</th>\n",
       "      <td>1574350260000</td>\n",
       "      <td>161.40</td>\n",
       "      <td>161.75</td>\n",
       "      <td>161.31</td>\n",
       "      <td>161.59</td>\n",
       "      <td>1077.63499</td>\n",
       "      <td>1574350319999</td>\n",
       "      <td>174116.006344</td>\n",
       "      <td>373</td>\n",
       "      <td>725.39822</td>\n",
       "      <td>117193.586266</td>\n",
       "      <td>0</td>\n",
       "    </tr>\n",
       "    <tr>\n",
       "      <th>2</th>\n",
       "      <td>1574350320000</td>\n",
       "      <td>161.58</td>\n",
       "      <td>161.63</td>\n",
       "      <td>161.13</td>\n",
       "      <td>161.60</td>\n",
       "      <td>1255.42210</td>\n",
       "      <td>1574350379999</td>\n",
       "      <td>202655.249541</td>\n",
       "      <td>353</td>\n",
       "      <td>584.50445</td>\n",
       "      <td>94349.554608</td>\n",
       "      <td>0</td>\n",
       "    </tr>\n",
       "    <tr>\n",
       "      <th>3</th>\n",
       "      <td>1574350380000</td>\n",
       "      <td>161.61</td>\n",
       "      <td>161.82</td>\n",
       "      <td>161.60</td>\n",
       "      <td>161.79</td>\n",
       "      <td>435.54773</td>\n",
       "      <td>1574350439999</td>\n",
       "      <td>70419.950576</td>\n",
       "      <td>209</td>\n",
       "      <td>311.50053</td>\n",
       "      <td>50365.198573</td>\n",
       "      <td>0</td>\n",
       "    </tr>\n",
       "    <tr>\n",
       "      <th>4</th>\n",
       "      <td>1574350440000</td>\n",
       "      <td>161.79</td>\n",
       "      <td>161.99</td>\n",
       "      <td>161.75</td>\n",
       "      <td>161.89</td>\n",
       "      <td>726.79321</td>\n",
       "      <td>1574350499999</td>\n",
       "      <td>117633.447000</td>\n",
       "      <td>198</td>\n",
       "      <td>336.35647</td>\n",
       "      <td>54445.022868</td>\n",
       "      <td>0</td>\n",
       "    </tr>\n",
       "  </tbody>\n",
       "</table>\n",
       "</div>"
      ],
      "text/plain": [
       "   ETHUSDT Open Time  ETHUSDT Open  ETHUSDT High  ETHUSDT Low  ETHUSDT Close  \\\n",
       "0      1574350200000        161.84        161.95       160.30         161.41   \n",
       "1      1574350260000        161.40        161.75       161.31         161.59   \n",
       "2      1574350320000        161.58        161.63       161.13         161.60   \n",
       "3      1574350380000        161.61        161.82       161.60         161.79   \n",
       "4      1574350440000        161.79        161.99       161.75         161.89   \n",
       "\n",
       "   ETHUSDT Volume  ETHUSDT Close Time  ETHUSDT Quote asset volume  \\\n",
       "0      4015.21372       1574350259999               647658.307376   \n",
       "1      1077.63499       1574350319999               174116.006344   \n",
       "2      1255.42210       1574350379999               202655.249541   \n",
       "3       435.54773       1574350439999                70419.950576   \n",
       "4       726.79321       1574350499999               117633.447000   \n",
       "\n",
       "   ETHUSDT n_trades  ETHUSDT Taker buy base asset volume  \\\n",
       "0               664                           1179.50373   \n",
       "1               373                            725.39822   \n",
       "2               353                            584.50445   \n",
       "3               209                            311.50053   \n",
       "4               198                            336.35647   \n",
       "\n",
       "   ETHUSDT Taker buy quote asset volume  ETHUSDT Ignore  \n",
       "0                         190523.966292               0  \n",
       "1                         117193.586266               0  \n",
       "2                          94349.554608               0  \n",
       "3                          50365.198573               0  \n",
       "4                          54445.022868               0  "
      ]
     },
     "execution_count": 8,
     "metadata": {},
     "output_type": "execute_result"
    }
   ],
   "source": [
    "coins.head()"
   ]
  },
  {
   "cell_type": "code",
   "execution_count": 9,
   "metadata": {
    "colab": {
     "base_uri": "https://localhost:8080/",
     "height": 243
    },
    "colab_type": "code",
    "id": "VkjF1-XuZUH9",
    "outputId": "4f363297-c28f-4307-8842-8a0973e84bb6"
   },
   "outputs": [
    {
     "name": "stdout",
     "output_type": "stream",
     "text": [
      "First time difference is:  60000\n",
      "\n",
      "\n",
      "ETHUSDT Time difference:  7260000\n",
      "starting at index:  4949\n",
      "ending at index:    4950\n",
      "\n",
      "\n",
      "ETHUSDT Time difference:  3660000\n",
      "starting at index:  114269\n",
      "ending at index:    114270\n",
      "\n",
      "\n",
      "ETHUSDT Time difference:  32299\n",
      "starting at index:  129184\n",
      "ending at index:    129185\n",
      "\n",
      "\n",
      "ETHUSDT Time difference:  21327701\n",
      "starting at index:  129185\n",
      "ending at index:    129186\n",
      "\n",
      "\n",
      "ETHUSDT Time difference:  46701\n",
      "starting at index:  148856\n",
      "ending at index:    148857\n",
      "\n",
      "\n",
      "ETHUSDT Time difference:  7753299\n",
      "starting at index:  148857\n",
      "ending at index:    148858\n"
     ]
    }
   ],
   "source": [
    "bf.show_time_skips(coins, CURRENCIES)"
   ]
  },
  {
   "cell_type": "code",
   "execution_count": 10,
   "metadata": {
    "colab": {},
    "colab_type": "code",
    "id": "4koue8dvZibE"
   },
   "outputs": [],
   "source": [
    "coins = coins[4950:114270]"
   ]
  },
  {
   "cell_type": "code",
   "execution_count": 11,
   "metadata": {
    "colab": {
     "base_uri": "https://localhost:8080/",
     "height": 34
    },
    "colab_type": "code",
    "id": "tppPv56-ZrTz",
    "outputId": "71f8b22c-0719-4a3f-9003-9bd55f104869"
   },
   "outputs": [
    {
     "name": "stdout",
     "output_type": "stream",
     "text": [
      "First time difference is:  60000\n"
     ]
    }
   ],
   "source": [
    "bf.show_time_skips(coins, CURRENCIES)"
   ]
  },
  {
   "cell_type": "code",
   "execution_count": 12,
   "metadata": {
    "colab": {},
    "colab_type": "code",
    "id": "DH7A5lDwaATN"
   },
   "outputs": [],
   "source": [
    "#coins.set_index(CURRENCIES[0]+' Close Time', inplace=True)"
   ]
  },
  {
   "cell_type": "code",
   "execution_count": 13,
   "metadata": {
    "colab": {},
    "colab_type": "code",
    "id": "sjTHdD-gaT9Q"
   },
   "outputs": [],
   "source": [
    "coins.drop([(CURRENCIES[0]+' Open Time'), (CURRENCIES[0]+' Ignore')], axis=1, inplace=True)"
   ]
  },
  {
   "cell_type": "code",
   "execution_count": 14,
   "metadata": {
    "colab": {
     "base_uri": "https://localhost:8080/",
     "height": 272
    },
    "colab_type": "code",
    "id": "05bIUOCmakNu",
    "outputId": "b791551e-4063-4da3-ebf9-2b59b46636bb"
   },
   "outputs": [
    {
     "data": {
      "text/html": [
       "<div>\n",
       "<style scoped>\n",
       "    .dataframe tbody tr th:only-of-type {\n",
       "        vertical-align: middle;\n",
       "    }\n",
       "\n",
       "    .dataframe tbody tr th {\n",
       "        vertical-align: top;\n",
       "    }\n",
       "\n",
       "    .dataframe thead th {\n",
       "        text-align: right;\n",
       "    }\n",
       "</style>\n",
       "<table border=\"1\" class=\"dataframe\">\n",
       "  <thead>\n",
       "    <tr style=\"text-align: right;\">\n",
       "      <th></th>\n",
       "      <th>ETHUSDT Open</th>\n",
       "      <th>ETHUSDT High</th>\n",
       "      <th>ETHUSDT Low</th>\n",
       "      <th>ETHUSDT Close</th>\n",
       "      <th>ETHUSDT Volume</th>\n",
       "      <th>ETHUSDT Close Time</th>\n",
       "      <th>ETHUSDT Quote asset volume</th>\n",
       "      <th>ETHUSDT n_trades</th>\n",
       "      <th>ETHUSDT Taker buy base asset volume</th>\n",
       "      <th>ETHUSDT Taker buy quote asset volume</th>\n",
       "    </tr>\n",
       "  </thead>\n",
       "  <tbody>\n",
       "    <tr>\n",
       "      <th>4950</th>\n",
       "      <td>137.61</td>\n",
       "      <td>137.64</td>\n",
       "      <td>135.50</td>\n",
       "      <td>135.98</td>\n",
       "      <td>1704.87457</td>\n",
       "      <td>1574654459999</td>\n",
       "      <td>233539.206681</td>\n",
       "      <td>539</td>\n",
       "      <td>513.98729</td>\n",
       "      <td>70158.849338</td>\n",
       "    </tr>\n",
       "    <tr>\n",
       "      <th>4951</th>\n",
       "      <td>135.79</td>\n",
       "      <td>135.98</td>\n",
       "      <td>134.01</td>\n",
       "      <td>134.57</td>\n",
       "      <td>1935.62920</td>\n",
       "      <td>1574654519999</td>\n",
       "      <td>261427.420027</td>\n",
       "      <td>552</td>\n",
       "      <td>1046.00775</td>\n",
       "      <td>141420.374286</td>\n",
       "    </tr>\n",
       "    <tr>\n",
       "      <th>4952</th>\n",
       "      <td>134.56</td>\n",
       "      <td>136.50</td>\n",
       "      <td>134.45</td>\n",
       "      <td>135.06</td>\n",
       "      <td>856.76341</td>\n",
       "      <td>1574654579999</td>\n",
       "      <td>115855.296653</td>\n",
       "      <td>312</td>\n",
       "      <td>520.25006</td>\n",
       "      <td>70445.275130</td>\n",
       "    </tr>\n",
       "    <tr>\n",
       "      <th>4953</th>\n",
       "      <td>135.21</td>\n",
       "      <td>135.27</td>\n",
       "      <td>134.82</td>\n",
       "      <td>135.05</td>\n",
       "      <td>309.56106</td>\n",
       "      <td>1574654639999</td>\n",
       "      <td>41800.370873</td>\n",
       "      <td>126</td>\n",
       "      <td>156.50866</td>\n",
       "      <td>21134.479379</td>\n",
       "    </tr>\n",
       "    <tr>\n",
       "      <th>4954</th>\n",
       "      <td>135.12</td>\n",
       "      <td>135.66</td>\n",
       "      <td>134.94</td>\n",
       "      <td>135.63</td>\n",
       "      <td>709.42964</td>\n",
       "      <td>1574654699999</td>\n",
       "      <td>96071.116516</td>\n",
       "      <td>183</td>\n",
       "      <td>326.34473</td>\n",
       "      <td>44213.229300</td>\n",
       "    </tr>\n",
       "  </tbody>\n",
       "</table>\n",
       "</div>"
      ],
      "text/plain": [
       "      ETHUSDT Open  ETHUSDT High  ETHUSDT Low  ETHUSDT Close  ETHUSDT Volume  \\\n",
       "4950        137.61        137.64       135.50         135.98      1704.87457   \n",
       "4951        135.79        135.98       134.01         134.57      1935.62920   \n",
       "4952        134.56        136.50       134.45         135.06       856.76341   \n",
       "4953        135.21        135.27       134.82         135.05       309.56106   \n",
       "4954        135.12        135.66       134.94         135.63       709.42964   \n",
       "\n",
       "      ETHUSDT Close Time  ETHUSDT Quote asset volume  ETHUSDT n_trades  \\\n",
       "4950       1574654459999               233539.206681               539   \n",
       "4951       1574654519999               261427.420027               552   \n",
       "4952       1574654579999               115855.296653               312   \n",
       "4953       1574654639999                41800.370873               126   \n",
       "4954       1574654699999                96071.116516               183   \n",
       "\n",
       "      ETHUSDT Taker buy base asset volume  \\\n",
       "4950                            513.98729   \n",
       "4951                           1046.00775   \n",
       "4952                            520.25006   \n",
       "4953                            156.50866   \n",
       "4954                            326.34473   \n",
       "\n",
       "      ETHUSDT Taker buy quote asset volume  \n",
       "4950                          70158.849338  \n",
       "4951                         141420.374286  \n",
       "4952                          70445.275130  \n",
       "4953                          21134.479379  \n",
       "4954                          44213.229300  "
      ]
     },
     "execution_count": 14,
     "metadata": {},
     "output_type": "execute_result"
    }
   ],
   "source": [
    "coins.head()"
   ]
  },
  {
   "cell_type": "code",
   "execution_count": 15,
   "metadata": {
    "colab": {
     "base_uri": "https://localhost:8080/",
     "height": 260
    },
    "colab_type": "code",
    "id": "3hCC6Gspaln1",
    "outputId": "11239e6b-b29a-4275-a2b8-f6547956c9e4"
   },
   "outputs": [
    {
     "name": "stdout",
     "output_type": "stream",
     "text": [
      "<class 'pandas.core.frame.DataFrame'>\n",
      "RangeIndex: 109320 entries, 4950 to 114269\n",
      "Data columns (total 10 columns):\n",
      " #   Column                                Non-Null Count   Dtype  \n",
      "---  ------                                --------------   -----  \n",
      " 0   ETHUSDT Open                          109320 non-null  float64\n",
      " 1   ETHUSDT High                          109320 non-null  float64\n",
      " 2   ETHUSDT Low                           109320 non-null  float64\n",
      " 3   ETHUSDT Close                         109320 non-null  float64\n",
      " 4   ETHUSDT Volume                        109320 non-null  float64\n",
      " 5   ETHUSDT Close Time                    109320 non-null  int64  \n",
      " 6   ETHUSDT Quote asset volume            109320 non-null  float64\n",
      " 7   ETHUSDT n_trades                      109320 non-null  int64  \n",
      " 8   ETHUSDT Taker buy base asset volume   109320 non-null  float64\n",
      " 9   ETHUSDT Taker buy quote asset volume  109320 non-null  float64\n",
      "dtypes: float64(8), int64(2)\n",
      "memory usage: 8.3 MB\n"
     ]
    }
   ],
   "source": [
    "coins.info()"
   ]
  },
  {
   "cell_type": "code",
   "execution_count": 16,
   "metadata": {
    "colab": {
     "base_uri": "https://localhost:8080/",
     "height": 34
    },
    "colab_type": "code",
    "id": "RgyaWcVEa390",
    "outputId": "92221dc6-c34a-4def-f3bc-542745fb1eeb"
   },
   "outputs": [
    {
     "data": {
      "text/plain": [
       "4950"
      ]
     },
     "execution_count": 16,
     "metadata": {},
     "output_type": "execute_result"
    }
   ],
   "source": [
    "coins.index[0]"
   ]
  },
  {
   "cell_type": "code",
   "execution_count": 17,
   "metadata": {
    "colab": {
     "base_uri": "https://localhost:8080/",
     "height": 52
    },
    "colab_type": "code",
    "id": "cBFyypvLa9xD",
    "outputId": "fae1e75d-97a9-4948-e70c-74d919c6679b"
   },
   "outputs": [
    {
     "name": "stdout",
     "output_type": "stream",
     "text": [
      "1970-01-01 01:00:04.950000\n",
      "1970-01-01 01:01:54.269000\n"
     ]
    }
   ],
   "source": [
    "print('Data timeline:')\n",
    "print('From: ',datetime.fromtimestamp(coins.index[0]/1000))\n",
    "print('To:   ', datetime.fromtimestamp(coins.index[-1]/1000))"
   ]
  },
  {
   "cell_type": "code",
   "execution_count": 18,
   "metadata": {
    "colab": {},
    "colab_type": "code",
    "id": "7B2tAOepb_iA"
   },
   "outputs": [],
   "source": [
    "def classify(current_price, future_price):\n",
    "    if future_price > current_price:\n",
    "        return 1\n",
    "    return 0"
   ]
  },
  {
   "cell_type": "code",
   "execution_count": 19,
   "metadata": {},
   "outputs": [],
   "source": [
    "coins['Future Value'] = coins[RATIO_TO_PREDICT+' Close'].shift(-FUTURE_PERIOD_PREDICT)"
   ]
  },
  {
   "cell_type": "code",
   "execution_count": 20,
   "metadata": {},
   "outputs": [],
   "source": [
    "coins['Target'] = list(map(classify, coins[CURRENCIES[0]+' Close'], coins['Future Value']))"
   ]
  },
  {
   "cell_type": "code",
   "execution_count": 21,
   "metadata": {},
   "outputs": [],
   "source": [
    "coins.dropna(inplace=True)\n",
    "coins.reset_index(inplace=True)"
   ]
  },
  {
   "cell_type": "code",
   "execution_count": 22,
   "metadata": {},
   "outputs": [
    {
     "data": {
      "text/plain": [
       "21863"
      ]
     },
     "execution_count": 22,
     "metadata": {},
     "output_type": "execute_result"
    }
   ],
   "source": [
    "#gotta split in train and test data\n",
    "val_len = int(len(coins)*0.2)\n",
    "val_len"
   ]
  },
  {
   "cell_type": "code",
   "execution_count": 23,
   "metadata": {},
   "outputs": [],
   "source": [
    "validation_data = coins[(len(coins)-val_len):]\n",
    "validation_data.reset_index(inplace=True)"
   ]
  },
  {
   "cell_type": "code",
   "execution_count": 24,
   "metadata": {},
   "outputs": [],
   "source": [
    "coins = coins[:(len(coins)-val_len)]\n",
    "coins.reset_index(inplace=True)"
   ]
  },
  {
   "cell_type": "code",
   "execution_count": 25,
   "metadata": {},
   "outputs": [
    {
     "name": "stdout",
     "output_type": "stream",
     "text": [
      "First time difference is:  60000\n"
     ]
    }
   ],
   "source": [
    "bf.show_time_skips(coins, CURRENCIES)"
   ]
  },
  {
   "cell_type": "code",
   "execution_count": 26,
   "metadata": {},
   "outputs": [],
   "source": [
    "X_train = coins.drop(['Future Value', 'Target'], axis=1)\n",
    "y_train = coins['Target']"
   ]
  },
  {
   "cell_type": "code",
   "execution_count": 27,
   "metadata": {},
   "outputs": [],
   "source": [
    "X_test = validation_data.drop(['Future Value', 'Target'], axis=1)\n",
    "y_test = validation_data['Target']"
   ]
  },
  {
   "cell_type": "code",
   "execution_count": 28,
   "metadata": {},
   "outputs": [],
   "source": [
    "from sklearn.preprocessing import MinMaxScaler"
   ]
  },
  {
   "cell_type": "code",
   "execution_count": 29,
   "metadata": {},
   "outputs": [],
   "source": [
    "scaler = MinMaxScaler()"
   ]
  },
  {
   "cell_type": "code",
   "execution_count": 30,
   "metadata": {},
   "outputs": [],
   "source": [
    "X_train = scaler.fit_transform(X_train)\n",
    "X_test = scaler.transform(X_test)"
   ]
  },
  {
   "cell_type": "code",
   "execution_count": null,
   "metadata": {},
   "outputs": [],
   "source": []
  }
 ],
 "metadata": {
  "colab": {
   "collapsed_sections": [],
   "name": "new_model.ipynb",
   "provenance": [],
   "toc_visible": true
  },
  "kernelspec": {
   "display_name": "Python 3",
   "language": "python",
   "name": "python3"
  },
  "language_info": {
   "codemirror_mode": {
    "name": "ipython",
    "version": 3
   },
   "file_extension": ".py",
   "mimetype": "text/x-python",
   "name": "python",
   "nbconvert_exporter": "python",
   "pygments_lexer": "ipython3",
   "version": "3.7.0"
  }
 },
 "nbformat": 4,
 "nbformat_minor": 1
}
