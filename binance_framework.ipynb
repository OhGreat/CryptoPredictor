{
 "cells": [
  {
   "cell_type": "code",
   "execution_count": 1,
   "metadata": {},
   "outputs": [],
   "source": [
    "import pandas as pd"
   ]
  },
  {
   "cell_type": "code",
   "execution_count": 2,
   "metadata": {},
   "outputs": [],
   "source": [
    "from keys import keys\n",
    "from binance.client import Client"
   ]
  },
  {
   "cell_type": "code",
   "execution_count": 3,
   "metadata": {},
   "outputs": [],
   "source": [
    "client = Client(api_key=keys.apiKey, api_secret=keys.secretKey)"
   ]
  },
  {
   "cell_type": "code",
   "execution_count": 9,
   "metadata": {},
   "outputs": [],
   "source": [
    "\"\"\"\n",
    "The various columns used by Binance\n",
    "taken from:\n",
    "https://python-binance.readthedocs.io/en/latest/binance.html#module-binance.client\n",
    "\"\"\"\n",
    "\n",
    "binance_columns = ['Open Time', 'Open', 'High', 'Low', 'Close',\n",
    "            'Volume', 'Close Time', 'Quote asset volume', \n",
    "            'n_trades', 'Taker buy base asset volume', \n",
    "            'Taker buy quote asset volume', 'Ignore']"
   ]
  },
  {
   "cell_type": "code",
   "execution_count": 10,
   "metadata": {},
   "outputs": [],
   "source": [
    "\"\"\"\n",
    "The various time intervals binance provides\n",
    "\"\"\"\n",
    "\n",
    "INTERVAL_1MIN = Client.KLINE_INTERVAL_1MINUTE\n",
    "INTERVAL_5MIN = Client.KLINE_INTERVAL_5MINUTE\n",
    "INTERVAL_15MIN = Client.KLINE_INTERVAL_15MINUTE\n",
    "INTERVAL_30MIN = Client.KLINE_INTERVAL_30MINUTE"
   ]
  },
  {
   "cell_type": "code",
   "execution_count": 6,
   "metadata": {},
   "outputs": [],
   "source": [
    "\"\"\"\n",
    "DOWNLOADS DATA FROM BINANCE IN BATCHES OF 500 items.\n",
    "In total will return 500*n_rows - (n_rows+1) and\n",
    "no duplicate data should be present\n",
    "\n",
    "INPUTS:\n",
    "    n_iterations: how many batches of 500 items to download\n",
    "    \n",
    "    currency: one of the varios currencies, examples: \n",
    "                'BTCUSDT', 'LTCUSDT' ...etc\n",
    "    interval:   Client.KLINE_INTERVAL_1MINUTE\n",
    "                Client.KLINE_INTERVAL_3MINUTE\n",
    "                Client.KLINE_INTERVAL_5MINUTE\n",
    "                Client.KLINE_INTERVAL_15MINUTE\n",
    "                Client.KLINE_INTERVAL_30MINUTE\n",
    "                Client.KLINE_INTERVAL_1HOUR\n",
    "                ...\n",
    "\"\"\"\n",
    "def get_data_by_intervals(n_iterations, currencies, interval):\n",
    "    \n",
    "    #most recent timestamp to start downloading from\n",
    "    starting_point = client.get_klines(symbol=currencies[0], \n",
    "                                  interval=interval, limit=1)[-1][0]\n",
    "    \n",
    "    main_df = pd.DataFrame()\n",
    "    \n",
    "    for currency in currencies:\n",
    "        currency_cols = []\n",
    "        for col in binance_columns:\n",
    "            currency_cols.append(currency+' '+col)\n",
    "        specific_currency_df = pd.DataFrame(columns=currency_cols)\n",
    "        \n",
    "        #downloading n iterations of a specific currency\n",
    "        for i in range(0,n_iterations):\n",
    "            #split in if elseto use starting_point\n",
    "            if specific_currency_df.empty:\n",
    "                new_data = client.get_klines(symbol=currency, \n",
    "                                              interval=interval,\n",
    "                                              endTime = starting_point,\n",
    "                                              limit=500\n",
    "                                            )\n",
    "            else:\n",
    "                end_time = specific_currency_df[currency+' Open Time'].iloc[0]\n",
    "                new_data = client.get_klines(symbol=currency, \n",
    "                                              interval=interval,\n",
    "                                              endTime=end_time,\n",
    "                                              limit=500\n",
    "                                            )\n",
    "            #merging all the rows of a specific currency in one DataFrame\n",
    "            #we need to delete the first row of specific_currency_df or\n",
    "            # delete the last row of new_data_df, it's repeated\n",
    "            new_data_df = pd.DataFrame(new_data, columns=currency_cols)\n",
    "            specific_currency_df = pd.concat([new_data_df,specific_currency_df[1:]],\n",
    "                                             ignore_index=True)\n",
    "            \n",
    "        #merging the specific currency created into the main_df were we keep all the data\n",
    "        main_df = pd.concat([main_df, specific_currency_df],axis=1)\n",
    "    return main_df"
   ]
  }
 ],
 "metadata": {
  "kernelspec": {
   "display_name": "Python 3",
   "language": "python",
   "name": "python3"
  },
  "language_info": {
   "codemirror_mode": {
    "name": "ipython",
    "version": 3
   },
   "file_extension": ".py",
   "mimetype": "text/x-python",
   "name": "python",
   "nbconvert_exporter": "python",
   "pygments_lexer": "ipython3",
   "version": "3.8.1"
  }
 },
 "nbformat": 4,
 "nbformat_minor": 4
}
